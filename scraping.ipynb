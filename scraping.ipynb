{
 "cells": [
  {
   "cell_type": "markdown",
   "id": "5d2f573e",
   "metadata": {},
   "source": [
    "# **Scraping Data - Coinbase**\n",
    "\n",
    "**Deskripsi:**\n",
    "Mengambil data ulasan (review) aplikasi Coinbase dari Google Play Store. Jika data mentah sudah ada dalam file CSV, data akan dimuat dari file tersebut untuk menghindari proses scraping ulang.\n",
    "\n",
    "**Proses:**\n",
    "1.  Menentukan konfigurasi scraping: ID Aplikasi (`com.coinbase.android`), bahasa (`en`), negara (`us`), target jumlah review (`300000`), dan path file CSV untuk menyimpan data mentah (`data/reviews_1_raw.csv`).\n",
    "2.  Mengecek apakah file `RAW_CSV_PATH` sudah ada.\n",
    "3.  **Jika tidak ada:** Melakukan scraping menggunakan `reviews_all` dari `google_play_scraper`, mengukur waktu scraping, mengubah hasilnya menjadi DataFrame Pandas, memilih kolom relevan (`reviewId`, `userName`, `content`, `score`, `thumbsUpCount`, `reviewCreatedVersion`, `at`), mengganti nama kolom `content` menjadi `review_text` dan `score` menjadi `rating`, lalu menyimpan ke file CSV.\n",
    "4.  **Jika sudah ada:** Memuat data langsung dari file CSV menggunakan `pd.read_csv`.\n",
    "\n",
    "---"
   ]
  },
  {
   "cell_type": "code",
   "execution_count": 1,
   "id": "0657bd57",
   "metadata": {},
   "outputs": [],
   "source": [
    "# !pip install google-play-scraper"
   ]
  },
  {
   "cell_type": "code",
   "execution_count": 2,
   "id": "1ac787af",
   "metadata": {},
   "outputs": [],
   "source": [
    "import os\n",
    "import time\n",
    "import pandas as pd\n",
    "from google_play_scraper import reviews_all, Sort, reviews"
   ]
  },
  {
   "cell_type": "code",
   "execution_count": 3,
   "id": "3ac34b4c",
   "metadata": {},
   "outputs": [],
   "source": [
    "# Konfigurasi\n",
    "APP_ID = 'com.coinbase.android'\n",
    "LANG = 'en'\n",
    "COUNTRY = 'us'\n",
    "NUM_REVIEWS_TARGET = 300000\n",
    "RAW_CSV_PATH = 'data/reviews_1_raw.csv'"
   ]
  },
  {
   "cell_type": "code",
   "execution_count": 4,
   "id": "cab13f42",
   "metadata": {},
   "outputs": [
    {
     "name": "stdout",
     "output_type": "stream",
     "text": [
      "Memuat data mentah dari data/reviews_1_raw.csv...\n",
      "Berhasil memuat 172310 review mentah.\n"
     ]
    }
   ],
   "source": [
    "# --- Scraping ---\n",
    "if not os.path.exists(RAW_CSV_PATH):\n",
    "    print(f\"Memulai scraping review untuk {APP_ID}...\")\n",
    "    start_time = time.time()\n",
    "    try:\n",
    "        all_reviews = reviews_all(\n",
    "            APP_ID,\n",
    "            lang=LANG,\n",
    "            country=COUNTRY,\n",
    "            sort=Sort.NEWEST,\n",
    "            count=NUM_REVIEWS_TARGET\n",
    "        )\n",
    "        \n",
    "        df_raw = pd.DataFrame(all_reviews)\n",
    "        print(f\"Scraping selesai. Mendapatkan {len(df_raw)} review.\")\n",
    "        # Ambil kolom yang relevan saja\n",
    "        df_raw = df_raw[['reviewId', 'userName', 'content', 'score', 'thumbsUpCount', 'reviewCreatedVersion', 'at']]\n",
    "        df_raw.rename(columns={'content': 'review_text', 'score': 'rating'}, inplace=True)\n",
    "        df_raw.to_csv(RAW_CSV_PATH, index=False)\n",
    "        print(f\"Data mentah disimpan ke {RAW_CSV_PATH}\")\n",
    "    except Exception as e:\n",
    "        print(f\"Terjadi error saat scraping: {e}\")\n",
    "        df_raw = pd.DataFrame() # Buat dataframe kosong jika gagal\n",
    "    end_time = time.time()\n",
    "    print(f\"Waktu scraping: {end_time - start_time:.2f} detik.\")\n",
    "else:\n",
    "    print(f\"Memuat data mentah dari {RAW_CSV_PATH}...\")\n",
    "    df_raw = pd.read_csv(RAW_CSV_PATH)\n",
    "    print(f\"Berhasil memuat {len(df_raw)} review mentah.\")"
   ]
  },
  {
   "cell_type": "markdown",
   "id": "91d5aab7",
   "metadata": {},
   "source": [
    "### **Insight:**\n",
    "Berhasil mengumpulkan 172.310 review mentah dari Google Play Store dalam waktu sekitar 3 menit lebih. Jumlah ini kurang dari target 300.000, kemungkinan karena batasan dari scraper atau jumlah review yang tersedia saat itu. Data mentah disimpan dalam format CSV (`df_raw`) untuk digunakan pada fase berikutnya dan mencegah scraping berulang. Kolom-kolom penting telah dipilih dan dinamai ulang untuk konsistensi."
   ]
  }
 ],
 "metadata": {
  "kernelspec": {
   "display_name": "torch-nlp",
   "language": "python",
   "name": "python3"
  },
  "language_info": {
   "codemirror_mode": {
    "name": "ipython",
    "version": 3
   },
   "file_extension": ".py",
   "mimetype": "text/x-python",
   "name": "python",
   "nbconvert_exporter": "python",
   "pygments_lexer": "ipython3",
   "version": "3.9.19"
  }
 },
 "nbformat": 4,
 "nbformat_minor": 5
}
