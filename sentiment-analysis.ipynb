{
 "cells": [
  {
   "cell_type": "markdown",
   "id": "5a0af9f5",
   "metadata": {},
   "source": [
    "# **Proyek Analisis Sentimen Review Aplikasi Coinbase**\n",
    "- **Nama:** Harry Mardika\n",
    "- **Email:** harrymardika48@gmail.com\n",
    "- **ID Dicoding:** hkacode"
   ]
  },
  {
   "cell_type": "markdown",
   "id": "6dcb7a00",
   "metadata": {},
   "source": [
    "## Alur Kerja:\n",
    "- Setup & Impor Library\n",
    "- Fase 1: Akuisisi Data (Scraping)\n",
    "- Fase 2: Eksploratory Data Analisis (EDA)\n",
    "- Fase 3: Pembersihan Awal\n",
    "- Fase 4: Pelabelan Sentimen & Penyeimbangan Dataset\n",
    "- Fase 5: Pembersihan Data Mendalam\n",
    "- Fase 6: Pembagian Data (Train, Validation, Test)\n",
    "- Fase 7: Ekstraksi Fitur (TF-IDF & Tokenization/Padding + FastText untuk Deep Learning)\n",
    "- Fase 8: Definisi & Pelatihan Model\n",
    "    - Eksperimen 1: Artificial Neural Network (ANN)\n",
    "    - Eksperimen 2: Convolutional Neural Network (CNN)\n",
    "    - Eksperimen 3: Random Forest (RF) - Scikit-learn\n",
    "    - Eksperimen 4: XGBoost - Scikit-learn\n",
    "    - Eksperimen 5: LightGBM - Scikit-learn\n",
    "- Fase 9: Evaluasi & Pemilihan Model Terbaik\n",
    "- Fase 10: Inference (Pengujian pada Data Baru)\n"
   ]
  },
  {
   "cell_type": "markdown",
   "id": "56cf2dd9",
   "metadata": {},
   "source": [
    "## Setup & Impor Library"
   ]
  },
  {
   "cell_type": "code",
   "execution_count": 1,
   "id": "9c9e5f5b",
   "metadata": {},
   "outputs": [],
   "source": [
    "# !pip install google-play-scraper pandas numpy nltk scikit-learn xgboost lightgbm matplotlib seaborn tensorflow torch torchvision torchaudio torch-directml"
   ]
  },
  {
   "cell_type": "code",
   "execution_count": 2,
   "id": "94ed97f6",
   "metadata": {},
   "outputs": [
    {
     "name": "stdout",
     "output_type": "stream",
     "text": [
      "Setup & Impor Library\n",
      "Mengunduh resource NLTK (wordnet)...\n"
     ]
    },
    {
     "name": "stderr",
     "output_type": "stream",
     "text": [
      "[nltk_data] Downloading package wordnet to\n",
      "[nltk_data]     C:\\Users\\harry\\AppData\\Roaming\\nltk_data...\n",
      "[nltk_data]   Package wordnet is already up-to-date!\n"
     ]
    },
    {
     "name": "stdout",
     "output_type": "stream",
     "text": [
      "Menggunakan Device: /device:GPU:0\n",
      "Setup selesai.\n"
     ]
    }
   ],
   "source": [
    "print(\"Setup & Impor Library\")\n",
    "\n",
    "import pandas as pd\n",
    "import numpy as np\n",
    "import re\n",
    "import nltk\n",
    "import time\n",
    "import os\n",
    "import warnings\n",
    "import random\n",
    "\n",
    "# Scraping\n",
    "from google_play_scraper import reviews_all, Sort, reviews\n",
    "\n",
    "# Text Processing & Labeling\n",
    "from nltk.sentiment.vader import SentimentIntensityAnalyzer\n",
    "from nltk.corpus import stopwords\n",
    "from nltk.stem import WordNetLemmatizer\n",
    "# Pastikan resource NLTK sudah diunduh\n",
    "try:\n",
    "    nltk.data.find('sentiment/vader_lexicon.zip')\n",
    "except:\n",
    "    print(\"Mengunduh resource NLTK (vader_lexicon)...\")\n",
    "    nltk.download('vader_lexicon')\n",
    "try:\n",
    "    nltk.data.find('corpora/stopwords')\n",
    "except:\n",
    "    print(\"Mengunduh resource NLTK (stopwords)...\")\n",
    "    nltk.download('stopwords')\n",
    "try:\n",
    "    nltk.data.find('corpora/wordnet')\n",
    "except:\n",
    "    print(\"Mengunduh resource NLTK (wordnet)...\")\n",
    "    nltk.download('wordnet')\n",
    "\n",
    "\n",
    "# Machine Learning & Deep Learning\n",
    "import fasttext\n",
    "import fasttext.util\n",
    "import xgboost as xgb\n",
    "import lightgbm as lgbm\n",
    "from sklearn.model_selection import train_test_split\n",
    "from sklearn.feature_extraction.text import TfidfVectorizer\n",
    "from sklearn.ensemble import RandomForestClassifier\n",
    "from sklearn.metrics import classification_report, accuracy_score, confusion_matrix\n",
    "from sklearn.preprocessing import LabelEncoder\n",
    "\n",
    "# # PyTorch & DirectML\n",
    "# import torch\n",
    "# import torch.nn as nn\n",
    "# import torch.optim as optim\n",
    "# from torch.utils.data import Dataset, DataLoader\n",
    "\n",
    "# # Coba impor torch_directml\n",
    "# try:\n",
    "#     import torch_directml\n",
    "#     if torch_directml.is_available():\n",
    "#         DEVICE = torch_directml.device()\n",
    "#         print(f\"Menggunakan backend DirectML pada perangkat: {torch_directml.device_name(0)}\")\n",
    "#     else:\n",
    "#         DEVICE = torch.device(\"cuda\" if torch.cuda.is_available() else \"cpu\")\n",
    "#         print(f\"DirectML tidak tersedia atau tidak terdeteksi. Menggunakan backend PyTorch default: {DEVICE}\")\n",
    "# except ImportError:\n",
    "#     DEVICE = torch.device(\"cuda\" if torch.cuda.is_available() else \"cpu\")\n",
    "#     print(f\"torch_directml tidak terinstal. Menggunakan backend PyTorch default: {DEVICE}\")\n",
    "\n",
    "\n",
    "# TensorFlow & Keras\n",
    "import tensorflow as tf\n",
    "from tensorflow import keras\n",
    "from tensorflow.keras import layers\n",
    "from tensorflow.keras.preprocessing.text import Tokenizer # Bisa pakai Keras tokenizer untuk kemudahan\n",
    "from tensorflow.keras.preprocessing.sequence import pad_sequences\n",
    "print(\"Menggunakan Device:\", tf.test.gpu_device_name() if tf.config.list_physical_devices('GPU') else \"CPU\")\n",
    "\n",
    "# Visualisasi\n",
    "import matplotlib.pyplot as plt\n",
    "import seaborn as sns\n",
    "\n",
    "# Pengaturan Lain\n",
    "warnings.filterwarnings('ignore')\n",
    "pd.set_option('display.max_colwidth', 150) # Tampilkan teks lebih panjang di Pandas\n",
    "random.seed(42) # Seed untuk reproduktifitas\n",
    "np.random.seed(42)\n",
    "\n",
    "print(\"Setup selesai.\")"
   ]
  },
  {
   "cell_type": "code",
   "execution_count": 3,
   "id": "ab43775b",
   "metadata": {},
   "outputs": [
    {
     "data": {
      "text/plain": [
       "'/device:GPU:0'"
      ]
     },
     "execution_count": 3,
     "metadata": {},
     "output_type": "execute_result"
    }
   ],
   "source": [
    "tf.test.gpu_device_name()"
   ]
  },
  {
   "cell_type": "markdown",
   "id": "0f0fb158",
   "metadata": {},
   "source": [
    "## Fase 1: Akuisisi Data (Scraping)"
   ]
  },
  {
   "cell_type": "code",
   "execution_count": 4,
   "id": "7b3d507d",
   "metadata": {},
   "outputs": [
    {
     "name": "stdout",
     "output_type": "stream",
     "text": [
      "\n",
      "Tahap : Akuisisi Data & Pembersihan Awal\n"
     ]
    }
   ],
   "source": [
    "print(\"\\nTahap : Akuisisi Data & Pembersihan Awal\")\n",
    "\n",
    "# Konfigurasi\n",
    "APP_ID = 'com.coinbase.android'\n",
    "LANG = 'en'\n",
    "COUNTRY = 'us'\n",
    "NUM_REVIEWS_TARGET = 300000\n",
    "RAW_CSV_PATH = 'data/reviews_1_raw.csv'"
   ]
  },
  {
   "cell_type": "code",
   "execution_count": 5,
   "id": "9882cc87",
   "metadata": {},
   "outputs": [
    {
     "name": "stdout",
     "output_type": "stream",
     "text": [
      "Memulai scraping review untuk com.coinbase.android...\n",
      "Scraping selesai. Mendapatkan 172310 review.\n",
      "Data mentah disimpan ke data/reviews_1_raw.csv\n",
      "Waktu scraping: 195.18 detik.\n"
     ]
    }
   ],
   "source": [
    "# --- Scraping ---\n",
    "if not os.path.exists(RAW_CSV_PATH):\n",
    "    print(f\"Memulai scraping review untuk {APP_ID}...\")\n",
    "    start_time = time.time()\n",
    "    try:\n",
    "        all_reviews = reviews_all(\n",
    "            APP_ID,\n",
    "            lang=LANG,\n",
    "            country=COUNTRY,\n",
    "            sort=Sort.NEWEST,\n",
    "            count=NUM_REVIEWS_TARGET\n",
    "        )\n",
    "        \n",
    "        df_raw = pd.DataFrame(all_reviews)\n",
    "        print(f\"Scraping selesai. Mendapatkan {len(df_raw)} review.\")\n",
    "        # Ambil kolom yang relevan saja\n",
    "        df_raw = df_raw[['reviewId', 'userName', 'content', 'score', 'thumbsUpCount', 'reviewCreatedVersion', 'at']]\n",
    "        df_raw.rename(columns={'content': 'review_text', 'score': 'rating'}, inplace=True)\n",
    "        df_raw.to_csv(RAW_CSV_PATH, index=False)\n",
    "        print(f\"Data mentah disimpan ke {RAW_CSV_PATH}\")\n",
    "    except Exception as e:\n",
    "        print(f\"Terjadi error saat scraping: {e}\")\n",
    "        df_raw = pd.DataFrame() # Buat dataframe kosong jika gagal\n",
    "    end_time = time.time()\n",
    "    print(f\"Waktu scraping: {end_time - start_time:.2f} detik.\")\n",
    "else:\n",
    "    print(f\"Memuat data mentah dari {RAW_CSV_PATH}...\")\n",
    "    df_raw = pd.read_csv(RAW_CSV_PATH)\n",
    "    print(f\"Berhasil memuat {len(df_raw)} review mentah.\")"
   ]
  },
  {
   "cell_type": "markdown",
   "id": "ab0408f2",
   "metadata": {},
   "source": [
    "## Fase 2: Eksploratory Data Analysis (EDA)"
   ]
  },
  {
   "cell_type": "code",
   "execution_count": 6,
   "id": "1c40b4c9",
   "metadata": {},
   "outputs": [
    {
     "name": "stdout",
     "output_type": "stream",
     "text": [
      "\n",
      "Tahap 2: Eksplorasi Data (EDA) pada Data Mentah (df_raw)\n",
      "Melakukan EDA pada 172310 review mentah...\n"
     ]
    }
   ],
   "source": [
    "print(\"\\nTahap 2: Eksplorasi Data (EDA) pada Data Mentah (df_raw)\")\n",
    "print(f\"Melakukan EDA pada {len(df_raw)} review mentah...\")"
   ]
  },
  {
   "cell_type": "markdown",
   "id": "488dd557",
   "metadata": {},
   "source": [
    "### Informasi Dasar & Statistik Deskriptif"
   ]
  },
  {
   "cell_type": "code",
   "execution_count": 7,
   "id": "ce9f3383",
   "metadata": {},
   "outputs": [
    {
     "name": "stdout",
     "output_type": "stream",
     "text": [
      "\n",
      "Informasi Dasar DataFrame (df_raw):\n",
      "<class 'pandas.core.frame.DataFrame'>\n",
      "RangeIndex: 172310 entries, 0 to 172309\n",
      "Data columns (total 7 columns):\n",
      " #   Column                Non-Null Count   Dtype         \n",
      "---  ------                --------------   -----         \n",
      " 0   reviewId              172310 non-null  object        \n",
      " 1   userName              172310 non-null  object        \n",
      " 2   review_text           172281 non-null  object        \n",
      " 3   rating                172310 non-null  int64         \n",
      " 4   thumbsUpCount         172310 non-null  int64         \n",
      " 5   reviewCreatedVersion  148023 non-null  object        \n",
      " 6   at                    172310 non-null  datetime64[ns]\n",
      "dtypes: datetime64[ns](1), int64(2), object(4)\n",
      "memory usage: 9.2+ MB\n",
      "\n",
      "Statistik Deskriptif (Kolom Numerik):\n",
      "              rating  thumbsUpCount\n",
      "count  172310.000000  172310.000000\n",
      "mean        3.441779       1.608514\n",
      "std         1.748569      14.685500\n",
      "min         1.000000       0.000000\n",
      "25%         1.000000       0.000000\n",
      "50%         4.000000       0.000000\n",
      "75%         5.000000       0.000000\n",
      "max         5.000000    1249.000000\n"
     ]
    }
   ],
   "source": [
    "print(\"\\nInformasi Dasar DataFrame (df_raw):\")\n",
    "df_raw.info()\n",
    "print(\"\\nStatistik Deskriptif (Kolom Numerik):\")\n",
    "# Gunakan kolom yang relevan dari df_raw (setelah potensi rename)\n",
    "print(df_raw[['rating', 'thumbsUpCount']].describe())"
   ]
  },
  {
   "cell_type": "markdown",
   "id": "8eda05a3",
   "metadata": {},
   "source": [
    "### Distribusi Rating"
   ]
  },
  {
   "cell_type": "code",
   "execution_count": 8,
   "id": "6c78c4dd",
   "metadata": {},
   "outputs": [
    {
     "data": {
      "image/png": "[encoded data removed]",
      "text/plain": [
       "<Figure size 800x500 with 1 Axes>"
      ]
     },
     "metadata": {},
     "output_type": "display_data"
    },
    {
     "name": "stdout",
     "output_type": "stream",
     "text": [
      "\n",
      "Distribusi Nilai Rating (Data Mentah):\n",
      "rating\n",
      "1    0.288422\n",
      "2    0.055603\n",
      "3    0.066311\n",
      "4    0.105101\n",
      "5    0.484563\n",
      "Name: proportion, dtype: float64\n"
     ]
    }
   ],
   "source": [
    "plt.figure(figsize=(8, 5))\n",
    "sns.countplot(x='rating', data=df_raw, palette='viridis')\n",
    "plt.title('Distribusi Rating Review Coinbase (Data Mentah)')\n",
    "plt.xlabel('Rating')\n",
    "plt.ylabel('Jumlah Review')\n",
    "plt.show()\n",
    "print(\"\\nDistribusi Nilai Rating (Data Mentah):\")\n",
    "print(df_raw['rating'].value_counts(normalize=True).sort_index())"
   ]
  },
  {
   "cell_type": "markdown",
   "id": "a25a24f3",
   "metadata": {},
   "source": [
    "### Analisis Panjang Review (Karakter & Kata)"
   ]
  },
  {
   "cell_type": "code",
   "execution_count": 9,
   "id": "b550492c",
   "metadata": {},
   "outputs": [
    {
     "name": "stdout",
     "output_type": "stream",
     "text": [
      "\n",
      "Statistik Deskriptif Panjang Review (Data Mentah):\n",
      "         char_length     word_count\n",
      "count  172310.000000  172310.000000\n",
      "mean       92.952382      17.337386\n",
      "std       116.487299      21.614070\n",
      "min         0.000000       0.000000\n",
      "25%        16.000000       3.000000\n",
      "50%        47.000000       9.000000\n",
      "75%       121.000000      23.000000\n",
      "max      2358.000000     413.000000\n"
     ]
    },
    {
     "data": {
      "image/png": "[encoded data removed]",
      "text/plain": [
       "<Figure size 1200x500 with 2 Axes>"
      ]
     },
     "metadata": {},
     "output_type": "display_data"
    },
    {
     "data": {
      "image/png": "[encoded data removed]",
      "text/plain": [
       "<Figure size 1200x500 with 2 Axes>"
      ]
     },
     "metadata": {},
     "output_type": "display_data"
    }
   ],
   "source": [
    "# 3. Analisis Panjang Review (Karakter & Kata) pada Teks Asli\n",
    "# Handle potensi NaN di kolom 'review_text' sebelum menghitung panjang\n",
    "df_raw['char_length'] = df_raw['review_text'].fillna('').astype(str).apply(len)\n",
    "df_raw['word_count'] = df_raw['review_text'].fillna('').astype(str).apply(lambda x: len(x.split()))\n",
    "print(\"\\nStatistik Deskriptif Panjang Review (Data Mentah):\")\n",
    "print(df_raw[['char_length', 'word_count']].describe())\n",
    "# Visualisasi Distribusi Panjang\n",
    "plt.figure(figsize=(12, 5))\n",
    "plt.subplot(1, 2, 1)\n",
    "sns.histplot(df_raw['char_length'], bins=50, kde=True)\n",
    "plt.title('Distribusi Panjang Karakter Review (Data Mentah)')\n",
    "plt.xlabel('Jumlah Karakter')\n",
    "plt.subplot(1, 2, 2)\n",
    "sns.histplot(df_raw['word_count'], bins=50, kde=True)\n",
    "plt.title('Distribusi Jumlah Kata Review (Data Mentah)')\n",
    "plt.xlabel('Jumlah Kata')\n",
    "# Batasi x-axis untuk kejelasan, mungkin perlu disesuaikan berdasarkan data mentah\n",
    "plt.xlim(0, df_raw['word_count'].quantile(0.99) if not df_raw.empty else 500)\n",
    "plt.tight_layout()\n",
    "plt.show()\n",
    "# (Opsional) Visualisasi Boxplot untuk melihat outlier\n",
    "plt.figure(figsize=(12, 5))\n",
    "plt.subplot(1, 2, 1)\n",
    "sns.boxplot(y=df_raw['char_length'])\n",
    "plt.title('Boxplot Panjang Karakter (Data Mentah)')\n",
    "plt.subplot(1, 2, 2)\n",
    "sns.boxplot(y=df_raw['word_count'])\n",
    "plt.title('Boxplot Jumlah Kata (Data Mentah)')\n",
    "plt.tight_layout()\n",
    "plt.show()"
   ]
  },
  {
   "cell_type": "markdown",
   "id": "7cb812ec",
   "metadata": {},
   "source": [
    "### Contoh Review Terpendek dan Terpanjang"
   ]
  },
  {
   "cell_type": "code",
   "execution_count": 10,
   "id": "ba727a41",
   "metadata": {},
   "outputs": [
    {
     "name": "stdout",
     "output_type": "stream",
     "text": [
      "\n",
      "Contoh Review Terpendek (berdasarkan kata) (Data Mentah):\n",
      "       review_text  word_count\n",
      "170493        None           0\n",
      "172117        None           0\n",
      "171204        None           0\n",
      "172144        None           0\n",
      "172115        None           0\n",
      "\n",
      "Contoh Review Terpanjang (berdasarkan kata) (Data Mentah):\n",
      "                                                                                                                                                  review_text  \\\n",
      "131185  Ok. Here's an update. At first I gave 1 star for not seeing my money for a week. I was going to up it to 5 after I seen that it only makes sense t...   \n",
      "67173   Small update - Their support is still completely inept and seemingly run by apes(still haven't spoken to a human). Slightly more serious/indepth u...   \n",
      "78184   Edit: TL;DR: Fine as an exchange, but awful communication from their extremely limited customer service. Pay close attention to their terms of ser...   \n",
      "87809   REALLY disappointed with customer service - I've reached out multiple times to recover my account and I'm informed that my email is incorrect. Lit...   \n",
      "142553  Unreliable, no one will assist you with using there shity system been trying to buy since $10,000 a btc as of 12/07/2017 i still cannot purchase t...   \n",
      "\n",
      "        word_count  \n",
      "131185         413  \n",
      "67173          408  \n",
      "78184          380  \n",
      "87809          369  \n",
      "142553         345  \n"
     ]
    }
   ],
   "source": [
    "print(\"\\nContoh Review Terpendek (berdasarkan kata) (Data Mentah):\")\n",
    "print(df_raw.sort_values('word_count').head()[['review_text', 'word_count']])\n",
    "print(\"\\nContoh Review Terpanjang (berdasarkan kata) (Data Mentah):\")\n",
    "print(df_raw.sort_values('word_count', ascending=False).head()[['review_text', 'word_count']])"
   ]
  },
  {
   "cell_type": "markdown",
   "id": "429f8d19",
   "metadata": {},
   "source": [
    "### Cek Nilai Kosong (NaN)"
   ]
  },
  {
   "cell_type": "code",
   "execution_count": 11,
   "id": "b0704c23",
   "metadata": {},
   "outputs": [
    {
     "name": "stdout",
     "output_type": "stream",
     "text": [
      "\n",
      "Jumlah Nilai Kosong per Kolom (Data Mentah):\n",
      "reviewId                    0\n",
      "userName                    0\n",
      "review_text                29\n",
      "rating                      0\n",
      "thumbsUpCount               0\n",
      "reviewCreatedVersion    24287\n",
      "at                          0\n",
      "char_length                 0\n",
      "word_count                  0\n",
      "dtype: int64\n",
      "\n",
      "Kolom sementara 'char_length' dan 'word_count' dihapus dari df_raw.\n",
      "\n",
      "EDA pada Data Mentah Selesai.\n"
     ]
    }
   ],
   "source": [
    "print(\"\\nJumlah Nilai Kosong per Kolom (Data Mentah):\")\n",
    "print(df_raw.isnull().sum())\n",
    "# Hapus kolom sementara yang dibuat untuk EDA dari df_raw\n",
    "df_raw.drop(columns=['char_length', 'word_count'], inplace=True, errors='ignore')\n",
    "print(\"\\nKolom sementara 'char_length' dan 'word_count' dihapus dari df_raw.\")\n",
    "print(\"\\nEDA pada Data Mentah Selesai.\")"
   ]
  },
  {
   "cell_type": "markdown",
   "id": "5712eb20",
   "metadata": {},
   "source": [
    "## Fase 3: Pembersihan Awal"
   ]
  },
  {
   "cell_type": "code",
   "execution_count": 12,
   "id": "9814bf01",
   "metadata": {},
   "outputs": [
    {
     "name": "stdout",
     "output_type": "stream",
     "text": [
      "\n",
      "Tahap 3: Pembersihan Awal\n"
     ]
    }
   ],
   "source": [
    "print(\"\\nTahap 3: Pembersihan Awal\")\n",
    "LIGHT_CLEAN_CSV_PATH = 'data/reviews_3_pembersihan_awal.csv'"
   ]
  },
  {
   "cell_type": "code",
   "execution_count": 13,
   "id": "fd7d3a34",
   "metadata": {},
   "outputs": [
    {
     "name": "stdout",
     "output_type": "stream",
     "text": [
      "Memulai pembersihan awal dari data mentah (df_raw)...\n"
     ]
    },
    {
     "name": "stdout",
     "output_type": "stream",
     "text": [
      "Menghapus 33992 duplikat review_text.\n",
      "Menghapus 1 review kosong/NaN.\n",
      "Pembersihan awal selesai. Jumlah data sebelum filter panjang: 138317\n",
      "\n",
      "Menghitung Batas Panjang dari Data Bersih Ringan:\n",
      "Batas Jumlah Kata: Q1=6, Q3=28\n",
      "\n",
      "Jumlah data setelah filter panjang (antara Q1 dan Q3): 72774\n",
      "Jumlah data yang dihapus oleh filter panjang: 65543\n",
      "Data hasil pembersihan awal (terfilter) disimpan ke data/reviews_3_pembersihan_awal.csv\n",
      "\n",
      "DataFrame 'df_light_clean' siap untuk fase selanjutnya dengan 72774 data.\n"
     ]
    }
   ],
   "source": [
    "# --- Logika untuk memuat atau melakukan pembersihan awal & filtering ---\n",
    "if os.path.exists(LIGHT_CLEAN_CSV_PATH):\n",
    "    # Jika file hasil filter sudah ada, langsung muat\n",
    "    print(f\"Memuat data hasil pembersihan awal & filter panjang dari {LIGHT_CLEAN_CSV_PATH}...\")\n",
    "    df_light_clean = pd.read_csv(LIGHT_CLEAN_CSV_PATH)\n",
    "    # Pastikan kolom penting ada dan tipe data sesuai\n",
    "    if 'review_text_cleaned' not in df_light_clean.columns and 'review_text' in df_light_clean.columns:\n",
    "         df_light_clean['review_text_cleaned'] = df_light_clean['review_text'].astype(str).str.lower()\n",
    "    df_light_clean.dropna(subset=['review_text_cleaned', 'rating'], inplace=True)\n",
    "    df_light_clean['rating'] = df_light_clean['rating'].astype(int)\n",
    "    print(f\"Berhasil memuat {len(df_light_clean)} review yang sudah dibersihkan & difilter.\")\n",
    "\n",
    "else:\n",
    "    # Jika file hasil filter belum ada, lakukan proses dari df_raw\n",
    "    if 'df_raw' in locals() and not df_raw.empty:\n",
    "        print(\"Memulai pembersihan awal dari data mentah (df_raw)...\")\n",
    "        df_light_clean_temp = df_raw.copy()\n",
    "\n",
    "        # 1. Hapus duplikat berdasarkan review_text\n",
    "        initial_rows = len(df_light_clean_temp)\n",
    "        df_light_clean_temp.drop_duplicates(subset=['review_text'], inplace=True)\n",
    "        print(f\"Menghapus {initial_rows - len(df_light_clean_temp)} duplikat review_text.\")\n",
    "\n",
    "        # 2. Hapus baris dengan review kosong atau NaN\n",
    "        initial_rows = len(df_light_clean_temp)\n",
    "        df_light_clean_temp.dropna(subset=['review_text'], inplace=True)\n",
    "        df_light_clean_temp = df_light_clean_temp[df_light_clean_temp['review_text'].astype(str).str.strip() != '']\n",
    "        print(f\"Menghapus {initial_rows - len(df_light_clean_temp)} review kosong/NaN.\")\n",
    "\n",
    "        # 3. Konversi tipe data jika perlu (rating harus integer)\n",
    "        try:\n",
    "            df_light_clean_temp['rating'] = df_light_clean_temp['rating'].astype(int)\n",
    "        except Exception as e:\n",
    "            print(f\"Warning: Gagal konversi rating ke int: {e}. Baris dengan rating invalid mungkin dihapus.\")\n",
    "            df_light_clean_temp = df_light_clean_temp[pd.to_numeric(df_light_clean_temp['rating'], errors='coerce').notna()]\n",
    "            df_light_clean_temp['rating'] = df_light_clean_temp['rating'].astype(int)\n",
    "\n",
    "\n",
    "        # 4. Pembersihan teks ringan: lowercase, hapus URL & mention\n",
    "        # Pastikan kolom 'review_text' ada dan tangani non-string\n",
    "        if 'review_text' in df_light_clean_temp.columns:\n",
    "            df_light_clean_temp['review_text_cleaned'] = df_light_clean_temp['review_text'].astype(str).str.lower()\n",
    "            df_light_clean_temp['review_text_cleaned'] = df_light_clean_temp['review_text_cleaned'].apply(lambda x: re.sub(r'http\\\\S+|www\\\\S+|https\\\\S+', '', x, flags=re.MULTILINE))\n",
    "            df_light_clean_temp['review_text_cleaned'] = df_light_clean_temp['review_text_cleaned'].apply(lambda x: re.sub(r'\\\\@\\\\w+', '', x))\n",
    "            # Hapus baris jika teks bersih menjadi kosong setelah cleaning ringan\n",
    "            df_light_clean_temp = df_light_clean_temp[df_light_clean_temp['review_text_cleaned'].str.strip() != '']\n",
    "            df_light_clean_temp.dropna(subset=['review_text_cleaned'], inplace=True)\n",
    "        else:\n",
    "             print(\"ERROR: Kolom 'review_text' tidak ditemukan di df_raw.\")\n",
    "             exit() # Atau penanganan error lain\n",
    "\n",
    "\n",
    "        print(f\"Pembersihan awal selesai. Jumlah data sebelum filter panjang: {len(df_light_clean_temp)}\")\n",
    "\n",
    "        # --- Filter Berdasarkan Panjang Karakter dan Kata (Antara Q1 dan Q3) ---\n",
    "        # Hitung panjang pada 'review_text_cleaned'\n",
    "        # df_light_clean_temp['char_length'] = df_light_clean_temp['review_text_cleaned'].astype(str).apply(len)\n",
    "        df_light_clean_temp['word_count'] = df_light_clean_temp['review_text_cleaned'].astype(str).apply(lambda x: len(x.split()))\n",
    "\n",
    "        # Hitung Q1 dan Q3 dari data yang sudah dibersihkan ringan\n",
    "        # Q1_char = df_light_clean_temp['char_length'].quantile(0.25)\n",
    "        # Q3_char = df_light_clean_temp['char_length'].quantile(0.75)\n",
    "        Q1_word = df_light_clean_temp['word_count'].quantile(0.25)\n",
    "        Q3_word = df_light_clean_temp['word_count'].quantile(0.75)\n",
    "\n",
    "        print(f\"\\nMenghitung Batas Panjang dari Data Bersih Ringan:\")\n",
    "        # print(f\"Batas Panjang Karakter: Q1={Q1_char:.0f}, Q3={Q3_char:.0f}\")\n",
    "        print(f\"Batas Jumlah Kata: Q1={Q1_word:.0f}, Q3={Q3_word:.0f}\")\n",
    "\n",
    "        # Terapkan filter\n",
    "        original_count = len(df_light_clean_temp)\n",
    "        df_light_clean = df_light_clean_temp[\n",
    "            (df_light_clean_temp['word_count'] >= Q1_word) & (df_light_clean_temp['word_count'] <= Q3_word)\n",
    "        ].copy() # Gunakan .copy()\n",
    "\n",
    "        filtered_count = len(df_light_clean)\n",
    "        print(f\"\\nJumlah data setelah filter panjang (antara Q1 dan Q3): {filtered_count}\")\n",
    "        print(f\"Jumlah data yang dihapus oleh filter panjang: {original_count - filtered_count}\")\n",
    "\n",
    "        # Hapus kolom panjang yang tidak diperlukan lagi\n",
    "        df_light_clean.drop(columns=['char_length', 'word_count'], inplace=True, errors='ignore')\n",
    "\n",
    "        # Simpan hasil pembersihan awal (yang sudah difilter)\n",
    "        df_light_clean.to_csv(LIGHT_CLEAN_CSV_PATH, index=False)\n",
    "        print(f\"Data hasil pembersihan awal (terfilter) disimpan ke {LIGHT_CLEAN_CSV_PATH}\")\n",
    "\n",
    "    else:\n",
    "        print(\"ERROR: DataFrame 'df_raw' tidak ditemukan atau kosong. Tidak dapat melakukan pembersihan awal.\")\n",
    "        exit() # Atau penanganan error lain\n",
    "\n",
    "# Pastikan df_light_clean terdefinisi sebelum lanjut\n",
    "if 'df_light_clean' not in locals() or df_light_clean.empty:\n",
    "    print(\"ERROR: Dataframe 'df_light_clean' tidak terdefinisi atau kosong setelah proses pembersihan/filtering.\")\n",
    "else:\n",
    "    print(f\"\\nDataFrame 'df_light_clean' siap untuk fase selanjutnya dengan {len(df_light_clean)} data.\")"
   ]
  },
  {
   "cell_type": "markdown",
   "id": "64426fc1",
   "metadata": {},
   "source": [
    "## Fase 4: Pelabelan Sentimen & Penyeimbangan Dataset"
   ]
  },
  {
   "cell_type": "code",
   "execution_count": 14,
   "id": "c4ad9da3",
   "metadata": {},
   "outputs": [
    {
     "name": "stdout",
     "output_type": "stream",
     "text": [
      "\n",
      "Tahap 4: Pelabelan Sentimen & Penyeimbangan Dataset\n"
     ]
    }
   ],
   "source": [
    "print(\"\\nTahap 4: Pelabelan Sentimen & Penyeimbangan Dataset\")\n",
    "\n",
    "BALANCED_DATA_COUNT = 10000 # Jumlah sampel per kelas\n",
    "TEMP_BALANCED_PATH = 'data/reviews_4_pelabelan.csv'"
   ]
  },
  {
   "cell_type": "code",
   "execution_count": 15,
   "id": "c9523c60",
   "metadata": {},
   "outputs": [
    {
     "name": "stdout",
     "output_type": "stream",
     "text": [
      "Melakukan pelabelan sentimen menggunakan VADER...\n",
      "Pelabelan selesai.\n",
      "Menyeimbangkan dataset: 10000 sampel per kelas (Positif, Negatif, Netral)...\n",
      "Data negatif ditemukan dan diambil: 10000\n",
      "Data positif ditemukan dan diambil: 10000\n",
      "Data netral ditemukan dan diambil: 10000\n",
      "\n",
      "Jumlah data per kelas setelah penyeimbangan:\n",
      "sentiment_label\n",
      "positive    10000\n",
      "negative    10000\n",
      "neutral     10000\n",
      "Name: count, dtype: int64\n",
      "Data balanced (belum cleaned mendalam) disimpan.\n"
     ]
    }
   ],
   "source": [
    "# --- Pelabelan Sentimen (menggunakan VADER) ---\n",
    "if 'sentiment_label' not in df_light_clean.columns:\n",
    "    print(\"Melakukan pelabelan sentimen menggunakan VADER...\")\n",
    "    analyzer = SentimentIntensityAnalyzer()\n",
    "\n",
    "    def get_vader_sentiment(text):\n",
    "        vs = analyzer.polarity_scores(str(text)) # Pastikan input string\n",
    "        return vs['compound'] # Menggunakan compound score\n",
    "\n",
    "    df_light_clean['polarity_score'] = df_light_clean['review_text_cleaned'].apply(get_vader_sentiment)\n",
    "    print(\"Pelabelan selesai.\")\n",
    "\n",
    "    # --- Penyeimbangan Dataset ---\n",
    "    print(f\"Menyeimbangkan dataset: {BALANCED_DATA_COUNT} sampel per kelas (Positif, Negatif, Netral)...\")\n",
    "\n",
    "    # Kriteria:\n",
    "    # Positif: Polarity > 0.1 DAN rating == 5 (prioritaskan rating tinggi)\n",
    "    # Negatif: Polarity < -0.1 DAN rating == 1 (prioritaskan rating rendah)\n",
    "    # Netral: Polarity antara -0.05 dan 0.05 ATAU rating 2-4  (utamakan rating 3 untuk netral)\n",
    "\n",
    "    # Urutkan data untuk memudahkan pengambilan sampel ekstrem\n",
    "    df_light_clean_sorted = df_light_clean.sort_values(by=['rating', 'polarity_score'], ascending=[True, True])\n",
    "\n",
    "    # Ambil data Negatif\n",
    "    df_neg = df_light_clean_sorted[\n",
    "        (df_light_clean_sorted['polarity_score'] <= -0.25) & (df_light_clean_sorted['rating'] <= 2)\n",
    "    ].head(BALANCED_DATA_COUNT)\n",
    "    df_neg['sentiment_label'] = 'negative'\n",
    "    print(f\"Data negatif ditemukan dan diambil: {len(df_neg)}\")\n",
    "\n",
    "    # Ambil data Positif (urutkan terbalik)\n",
    "    df_light_clean_sorted = df_light_clean.sort_values(by=['rating', 'polarity_score'], ascending=[False, False])\n",
    "    df_pos = df_light_clean_sorted[\n",
    "        (df_light_clean_sorted['polarity_score'] > 0.75) & (df_light_clean_sorted['rating'] >= 4)\n",
    "    ].head(BALANCED_DATA_COUNT)\n",
    "    df_pos['sentiment_label'] = 'positive'\n",
    "    print(f\"Data positif ditemukan dan diambil: {len(df_pos)}\")\n",
    "\n",
    "    # Ambil data Netral (prioritaskan rating 3, lalu skor polaritas mendekati 0)\n",
    "    # Urutkan berdasarkan kedekatan polaritas ke 0 untuk rating 3, lalu untuk rating lain\n",
    "    df_light_clean['abs_polarity'] = df_light_clean['polarity_score'].abs()\n",
    "    df_light_clean_sorted = df_light_clean.sort_values(by=['rating', 'abs_polarity'], ascending=[True, True]) # Sort rating ascending\n",
    "    \n",
    "    # Prioritas utama: rating 3\n",
    "    df_neu_rating3 = df_light_clean_sorted[(df_light_clean_sorted['rating'] == 4) & (df_light_clean_sorted['abs_polarity'] == 0)].head(BALANCED_DATA_COUNT)\n",
    "    \n",
    "    # Jika rating 3 kurang, tambahkan dari yang polaritasnya mendekati nol terlepas dari rating lain\n",
    "    remaining_neutral_needed = BALANCED_DATA_COUNT - len(df_neu_rating3)\n",
    "    df_neu_other = pd.DataFrame() # Inisialisasi df kosong\n",
    "    if remaining_neutral_needed > 0:\n",
    "        # Ambil data di luar yang sudah dipilih (negatif/positif/rating3)\n",
    "        ids_to_exclude = set(df_neg['reviewId']) | set(df_pos['reviewId']) | set(df_neu_rating3['reviewId'])\n",
    "        df_potential_neutral = df_light_clean[~df_light_clean['reviewId'].isin(ids_to_exclude)]\n",
    "        # Urutkan berdasarkan kedekatan polaritas ke 0\n",
    "        df_potential_neutral = df_potential_neutral.sort_values(by=['abs_polarity'], ascending=True)\n",
    "        df_neu_other = df_potential_neutral.head(remaining_neutral_needed)\n",
    "\n",
    "    df_neu = pd.concat([df_neu_rating3, df_neu_other], ignore_index=True).head(BALANCED_DATA_COUNT)\n",
    "    df_neu['sentiment_label'] = 'neutral'\n",
    "    print(f\"Data netral ditemukan dan diambil: {len(df_neu)}\")\n",
    "\n",
    "    # Gabungkan semua data\n",
    "    df_balanced = pd.concat([df_pos, df_neg, df_neu], ignore_index=True)\n",
    "\n",
    "    # Periksa jumlah akhir per kelas\n",
    "    print(\"\\nJumlah data per kelas setelah penyeimbangan:\")\n",
    "    print(df_balanced['sentiment_label'].value_counts())\n",
    "\n",
    "    # Acak dataset\n",
    "    df_final = df_balanced.sample(frac=1, random_state=42).reset_index(drop=True)\n",
    "\n",
    "    # Pilih kolom yang relevan untuk disimpan\n",
    "    df_final = df_final[['reviewId', 'review_text', 'review_text_cleaned', 'rating', 'polarity_score', 'sentiment_label']]\n",
    "\n",
    "    # Simpan hasil sementara sebelum cleaning mendalam (jika perlu checkpoint)\n",
    "    df_final.to_csv(TEMP_BALANCED_PATH, index=False)\n",
    "    print(\"Data balanced (belum cleaned mendalam) disimpan.\")\n",
    "\n",
    "else:\n",
    "    print(\"Kolom 'sentiment_label' sudah ada atau proses balancing sudah dilakukan.\")\n",
    "    print(f\"Memuat data dari file yang mungkin sudah ada ({FINAL_CLEAN_CSV_PATH})...\")\n",
    "    if os.path.exists(FINAL_CLEAN_CSV_PATH):\n",
    "        df_final = pd.read_csv(FINAL_CLEAN_CSV_PATH)\n",
    "        print(f\"Berhasil memuat {len(df_final)} data dari {FINAL_CLEAN_CSV_PATH}\")\n",
    "        # Pastikan kolom ada\n",
    "        if 'review_text_cleaned' not in df_final.columns and 'review_text' in df_final.columns:\n",
    "             df_final['review_text_cleaned'] = df_final['review_text'] # Gunakan teks asli jika cleaned belum ada\n",
    "        if 'sentiment_label' not in df_final.columns:\n",
    "            print(\"WARNING: Kolom 'sentiment_label' tidak ditemukan di file CSV. Proses pelabelan mungkin perlu diulang.\")\n",
    "            # Opsional: bisa tambahkan kode untuk melabel ulang di sini jika diperlukan\n",
    "    else:\n",
    "        print(f\"File {FINAL_CLEAN_CSV_PATH} tidak ditemukan. Perlu menjalankan langkah pelabelan dan balancing.\")\n",
    "\n",
    "# Pastikan df_final terdefinisi sebelum lanjut\n",
    "if 'df_final' not in locals():\n",
    "    print(\"ERROR: Dataframe 'df_final' tidak terdefinisi. Silakan jalankan ulang bagian sebelumnya.\")"
   ]
  },
  {
   "cell_type": "code",
   "execution_count": 16,
   "id": "90f8fc49",
   "metadata": {},
   "outputs": [
    {
     "name": "stdout",
     "output_type": "stream",
     "text": [
      "\n",
      "Contoh Data Negatif:\n",
      "                                                                                                                                    review_text  \\\n",
      "18695                                     Restricted my account for no reason then verified again like it said and still nothing very discusted   \n",
      "14027                                                                                                     No option to add funds and buy tokens   \n",
      "5195   I literally uploaded all the documents I have. You didn't accept anything. Congratulations, you're the worst cryptowallet I've ever used   \n",
      "\n",
      "      sentiment_label  \n",
      "18695        negative  \n",
      "14027        negative  \n",
      "5195         negative  \n"
     ]
    }
   ],
   "source": [
    "print(\"\\nContoh Data Negatif:\")\n",
    "print(df_final[df_final['sentiment_label'] == 'negative'].sample(3)[['review_text', 'sentiment_label']])"
   ]
  },
  {
   "cell_type": "code",
   "execution_count": 17,
   "id": "3962227f",
   "metadata": {},
   "outputs": [
    {
     "name": "stdout",
     "output_type": "stream",
     "text": [
      "\n",
      "Contoh Data Positif:\n",
      "                                                                                       review_text  \\\n",
      "18990                                                          Great way to save and make gains...   \n",
      "28882                                           Love making money? This app will help you do that!   \n",
      "17614  Very simple to use, and I love simple! Wish you could buy Ripple XRP though, maybe someday.   \n",
      "\n",
      "      sentiment_label  \n",
      "18990        positive  \n",
      "28882        positive  \n",
      "17614        positive  \n"
     ]
    }
   ],
   "source": [
    "print(\"\\nContoh Data Positif:\")\n",
    "print(df_final[df_final['sentiment_label'] == 'positive'].sample(3)[['review_text', 'sentiment_label']])"
   ]
  },
  {
   "cell_type": "code",
   "execution_count": 18,
   "id": "07e2f0cf",
   "metadata": {},
   "outputs": [
    {
     "name": "stdout",
     "output_type": "stream",
     "text": [
      "\n",
      "Contoh Data Netral:\n",
      "                                                                                        review_text  \\\n",
      "26428  App staff won't verify account properly basically rendering app unusable, don't use this app   \n",
      "23577                           Used to work now it won't let you take your money out . don't do it   \n",
      "3291            If you're starting out or seasoned at cryptocurrency, coinbase is a place to start.   \n",
      "\n",
      "      sentiment_label  \n",
      "26428         neutral  \n",
      "23577         neutral  \n",
      "3291          neutral  \n"
     ]
    }
   ],
   "source": [
    "print(\"\\nContoh Data Netral:\")\n",
    "print(df_final[df_final['sentiment_label'] == 'neutral'].sample(3)[['review_text', 'sentiment_label']])"
   ]
  },
  {
   "cell_type": "markdown",
   "id": "34233674",
   "metadata": {},
   "source": [
    "## Fase 5: Pembersihan Data Mendalam"
   ]
  },
  {
   "cell_type": "code",
   "execution_count": 19,
   "id": "855eb152",
   "metadata": {},
   "outputs": [
    {
     "name": "stdout",
     "output_type": "stream",
     "text": [
      "\n",
      "Tahap 5: Pembersihan Data Mendalam\n"
     ]
    }
   ],
   "source": [
    "print(\"\\nTahap 5: Pembersihan Data Mendalam\")\n",
    "\n",
    "FINAL_CLEAN_CSV_PATH = 'data/reviews_5_final_clean.csv'\n",
    "NEEDS_DEEP_CLEANING = True\n",
    "\n",
    "lemmatizer = WordNetLemmatizer()\n",
    "stop_words = set(stopwords.words('english'))\n",
    "custom_stopwords = {'coinbase', 'app', 'application', 'get', 'also', 'would', 'could', 'account', 'send', 'money', 'transaction', 'wallet'} # Hati-hati menambahkan kata kunci domain\n",
    "stop_words.update(custom_stopwords)"
   ]
  },
  {
   "cell_type": "code",
   "execution_count": 20,
   "id": "4d8042ce",
   "metadata": {},
   "outputs": [],
   "source": [
    "# Pastikan df_final (hasil labeling & balancing) sudah ada\n",
    "if 'df_final' not in locals() or df_final.empty:\n",
    "    print(f\"ERROR: DataFrame 'df_final' tidak ditemukan atau kosong. Memuat dari {TEMP_BALANCED_PATH}...\")\n",
    "    if os.path.exists(TEMP_BALANCED_PATH):\n",
    "        df_final = pd.read_csv(TEMP_BALANCED_PATH)\n",
    "        # Pastikan kolom teks ada\n",
    "        if 'review_text_cleaned' not in df_final.columns and 'review_text' in df_final.columns:\n",
    "            df_final['review_text_cleaned'] = df_final['review_text'].str.lower()\n",
    "        df_final.dropna(subset=['review_text_cleaned', 'sentiment_label'], inplace=True)\n",
    "    else:\n",
    "        print(f\"ERROR: File {TEMP_BALANCED_PATH} juga tidak ditemukan. Hentikan proses.\")"
   ]
  },
  {
   "cell_type": "code",
   "execution_count": 21,
   "id": "19b5c444",
   "metadata": {},
   "outputs": [],
   "source": [
    "def deep_clean_text(text):\n",
    "    if not isinstance(text, str):\n",
    "        return \"\"\n",
    "\n",
    "    text = text.lower()\n",
    "    text = re.sub(r'http\\S+|www\\S+|https\\S+', '', text, flags=re.MULTILINE)\n",
    "    text = re.sub(r'@\\w+', '', text)\n",
    "    text = re.sub(r'#\\w+', '', text)\n",
    "    text = re.sub(r'[^\\x00-\\x7F]+', ' ', text)\n",
    "    text = re.sub(r'[^a-z\\s]', '', text)\n",
    "    text = re.sub(r'\\s+', ' ', text).strip()\n",
    "    words = text.split()\n",
    "    cleaned_words = [lemmatizer.lemmatize(word) for word in words if word not in stop_words and len(word) > 2]\n",
    "\n",
    "    return ' '.join(cleaned_words)"
   ]
  },
  {
   "cell_type": "code",
   "execution_count": 22,
   "id": "4c950048",
   "metadata": {},
   "outputs": [],
   "source": [
    "def deep_clean_text(text):\n",
    "    if not isinstance(text, str):\n",
    "        return \"\" # Kembalikan string kosong jika bukan string\n",
    "\n",
    "    text = text.lower() # Lowercase (sudah dilakukan di light clean, tapi pastikan lagi)\n",
    "    text = re.sub(r'http\\S+|www\\S+|https\\S+', '', text, flags=re.MULTILINE) # Hapus URL\n",
    "    text = re.sub(r'\\@\\w+', '', text) # Hapus mention\n",
    "    text = re.sub(r'#\\w+', '', text) # Hapus hashtag\n",
    "    text = re.sub(r'[^\\w\\s]', '', text) # Hapus Punctuation\n",
    "    text = re.sub(r'\\d+', '', text) # Hapus angka\n",
    "    text = re.sub(r'\\s+', ' ', text).strip() # Hapus spasi berlebih\n",
    "\n",
    "    # Hapus stopwords dan lakukan lemmatisasi\n",
    "    words = text.split() # Tokenisasi sederhana berdasarkan spasi\n",
    "    cleaned_words = [lemmatizer.lemmatize(word) for word in words if word not in stop_words and len(word) > 1] # Hanya kata > 1 huruf\n",
    "\n",
    "    return ' '.join(cleaned_words)"
   ]
  },
  {
   "cell_type": "code",
   "execution_count": 23,
   "id": "0b8099c5",
   "metadata": {},
   "outputs": [],
   "source": [
    "if os.path.exists(FINAL_CLEAN_CSV_PATH):\n",
    "     try:\n",
    "         header_check = pd.read_csv(FINAL_CLEAN_CSV_PATH, nrows=0)\n",
    "         if 'review_text_deep_cleaned' in header_check.columns:\n",
    "             print(f\"Memuat data yang sudah di-deep clean dari {FINAL_CLEAN_CSV_PATH}...\")\n",
    "             df_final = pd.read_csv(FINAL_CLEAN_CSV_PATH)\n",
    "             # Pastikan tidak ada NaN di kolom teks yang akan digunakan\n",
    "             df_final.dropna(subset=['review_text_deep_cleaned', 'sentiment_label'], inplace=True)\n",
    "             NEEDS_DEEP_CLEANING = False\n",
    "         else:\n",
    "             print(f\"Kolom 'review_text_deep_cleaned' tidak ditemukan di {FINAL_CLEAN_CSV_PATH}. Melakukan pembersihan mendalam...\")\n",
    "             # Muat data dari file sementara jika perlu\n",
    "             if 'review_text_cleaned' not in df_final.columns:\n",
    "                 df_final = pd.read_csv(TEMP_BALANCED_PATH)\n",
    "                 df_final.dropna(subset=['review_text_cleaned', 'sentiment_label'], inplace=True)\n",
    "\n",
    "     except Exception as e:\n",
    "         print(f\"Error saat memeriksa file {FINAL_CLEAN_CSV_PATH}: {e}. Melakukan pembersihan mendalam...\")\n",
    "         # Muat data dari file sementara jika perlu\n",
    "         if 'review_text_cleaned' not in df_final.columns:\n",
    "              if os.path.exists(TEMP_BALANCED_PATH):\n",
    "                   df_final = pd.read_csv(TEMP_BALANCED_PATH)\n",
    "                   df_final.dropna(subset=['review_text_cleaned', 'sentiment_label'], inplace=True)\n",
    "              else:\n",
    "                   print(f\"ERROR: File {TEMP_BALANCED_PATH} tidak ditemukan. Hentikan proses.\")"
   ]
  },
  {
   "cell_type": "code",
   "execution_count": 24,
   "id": "0077be79",
   "metadata": {},
   "outputs": [
    {
     "name": "stdout",
     "output_type": "stream",
     "text": [
      "Memulai pembersihan data mendalam...\n",
      "Pembersihan mendalam selesai.\n",
      "Jumlah data sebelum deep clean (setelah balancing): 30000\n",
      "Jumlah data setelah deep clean: 29988\n",
      "Jumlah data yang dihapus karena kosong setelah cleaning: 12\n",
      "Waktu pembersihan mendalam: 6.21 detik.\n",
      "Data final (cleaned & balanced) disimpan ke data/reviews_5_final_clean.csv\n"
     ]
    }
   ],
   "source": [
    "if NEEDS_DEEP_CLEANING:\n",
    "    print(\"Memulai pembersihan data mendalam...\")\n",
    "    start_time_clean = time.time()\n",
    "\n",
    "    # Terapkan fungsi cleaning ke kolom 'review_text_cleaned'\n",
    "    df_final['review_text_deep_cleaned'] = df_final['review_text_cleaned'].apply(deep_clean_text)\n",
    "\n",
    "    # Hapus baris yang teksnya menjadi kosong setelah cleaning\n",
    "    original_deep_count = len(df_final)\n",
    "    df_final = df_final[df_final['review_text_deep_cleaned'].str.strip() != '']\n",
    "    df_final.dropna(subset=['review_text_deep_cleaned'], inplace=True) # Pastikan tidak ada NaN lagi\n",
    "    cleaned_deep_count = len(df_final)\n",
    "\n",
    "    print(f\"Pembersihan mendalam selesai.\")\n",
    "    print(f\"Jumlah data sebelum deep clean (setelah balancing): {original_deep_count}\")\n",
    "    print(f\"Jumlah data setelah deep clean: {cleaned_deep_count}\")\n",
    "    print(f\"Jumlah data yang dihapus karena kosong setelah cleaning: {original_deep_count - cleaned_deep_count}\")\n",
    "\n",
    "    end_time_clean = time.time()\n",
    "    print(f\"Waktu pembersihan mendalam: {end_time_clean - start_time_clean:.2f} detik.\")\n",
    "\n",
    "    # Simpan hasil akhir yang sudah bersih dan seimbang\n",
    "    df_final.to_csv(FINAL_CLEAN_CSV_PATH, index=False)\n",
    "    print(f\"Data final (cleaned & balanced) disimpan ke {FINAL_CLEAN_CSV_PATH}\")"
   ]
  },
  {
   "cell_type": "code",
   "execution_count": 25,
   "id": "0aed317a",
   "metadata": {},
   "outputs": [
    {
     "name": "stdout",
     "output_type": "stream",
     "text": [
      "\n",
      "Contoh hasil pembersihan mendalam:\n",
      "                                                                                                                    review_text_cleaned  \\\n",
      "0                                                                           love it!!! easy to use and cannot complain about one thing.   \n",
      "1                                                                       fees fees fees. other apps charge none. pulling out and leaving   \n",
      "2   been trying to deposit funds into my account now for over 3 months and u can't get anyone to help u with any of the problems u have   \n",
      "3  i verified my photo id with my drivers licence and it still says i need to verify it before i can receive anything from the lessons!   \n",
      "4                                                                                  this app is so easy to use... i absolutely love it!!   \n",
      "\n",
      "                                                         review_text_deep_cleaned  \\\n",
      "0                                         love easy use cannot complain one thing   \n",
      "1                                    fee fee fee apps charge none pulling leaving   \n",
      "2                              trying deposit fund month cant anyone help problem   \n",
      "3  verified photo id driver licence still say need verify receive anything lesson   \n",
      "4                                                        easy use absolutely love   \n",
      "\n",
      "  sentiment_label  \n",
      "0        positive  \n",
      "1         neutral  \n",
      "2         neutral  \n",
      "3         neutral  \n",
      "4        positive  \n"
     ]
    }
   ],
   "source": [
    "# Tampilkan beberapa contoh hasil cleaning\n",
    "print(\"\\nContoh hasil pembersihan mendalam:\")\n",
    "print(df_final[['review_text_cleaned', 'review_text_deep_cleaned', 'sentiment_label']].head())"
   ]
  },
  {
   "cell_type": "code",
   "execution_count": 26,
   "id": "418862b2",
   "metadata": {},
   "outputs": [
    {
     "name": "stdout",
     "output_type": "stream",
     "text": [
      "\n",
      "Jumlah data per kelas setelah pembersihan mendalam:\n",
      "sentiment_label\n",
      "positive    10000\n",
      "negative    10000\n",
      "neutral      9988\n",
      "Name: count, dtype: int64\n"
     ]
    }
   ],
   "source": [
    "# Cek kembali jumlah data per kelas setelah deep cleaning\n",
    "print(\"\\nJumlah data per kelas setelah pembersihan mendalam:\")\n",
    "print(df_final['sentiment_label'].value_counts())"
   ]
  },
  {
   "cell_type": "markdown",
   "id": "3a9ec489",
   "metadata": {},
   "source": [
    "## Fase 6: Pembagian Data (Train, Validation, Test)"
   ]
  },
  {
   "cell_type": "code",
   "execution_count": 27,
   "id": "6e8b50e8",
   "metadata": {},
   "outputs": [
    {
     "name": "stdout",
     "output_type": "stream",
     "text": [
      "\n",
      "Tahap 6: Pembagian Data\n"
     ]
    }
   ],
   "source": [
    "print(\"\\nTahap 6: Pembagian Data\")\n",
    "\n",
    "# Pastikan df_final sudah siap dan memiliki kolom yang benar\n",
    "if 'review_text_deep_cleaned' not in df_final.columns or 'sentiment_label' not in df_final.columns:\n",
    "    print(\"ERROR: Kolom 'review_text_deep_cleaned' atau 'sentiment_label' tidak ditemukan. Proses tidak dapat dilanjutkan.\")\n",
    "    exit()"
   ]
  },
  {
   "cell_type": "code",
   "execution_count": 28,
   "id": "b24b36da",
   "metadata": {},
   "outputs": [],
   "source": [
    "# Pisahkan fitur (X) dan target (y)\n",
    "X = df_final['review_text_deep_cleaned']\n",
    "y = df_final['sentiment_label']"
   ]
  },
  {
   "cell_type": "code",
   "execution_count": 29,
   "id": "2f431cef",
   "metadata": {},
   "outputs": [
    {
     "name": "stdout",
     "output_type": "stream",
     "text": [
      "Mapping Label: {'negative': 0, 'neutral': 1, 'positive': 2}\n"
     ]
    }
   ],
   "source": [
    "# Encode label menjadi numerik (Penting untuk sebagian besar model ML/DL)\n",
    "label_encoder = LabelEncoder()\n",
    "y_encoded = label_encoder.fit_transform(y)\n",
    "# Simpan mapping label untuk interpretasi nanti\n",
    "label_mapping = dict(zip(label_encoder.classes_, label_encoder.transform(label_encoder.classes_)))\n",
    "print(f\"Mapping Label: {label_mapping}\") # Misal: {'negative': 0, 'neutral': 1, 'positive': 2}"
   ]
  },
  {
   "cell_type": "code",
   "execution_count": 30,
   "id": "73004186",
   "metadata": {},
   "outputs": [],
   "source": [
    "# Pembagian data: 70% Train, 20% Validation, 10% Test\n",
    "# Stratify=y_encoded untuk menjaga proporsi kelas di setiap set\n",
    "TRAIN_SIZE = 0.80\n",
    "VALIDATION_SIZE = 0.10\n",
    "TEST_SIZE = 0.10"
   ]
  },
  {
   "cell_type": "code",
   "execution_count": 31,
   "id": "ec75333a",
   "metadata": {},
   "outputs": [],
   "source": [
    "# Bagi data menjadi Train (70%) dan Temp (30%)\n",
    "X_train, X_temp, y_train, y_temp = train_test_split(\n",
    "    X, y_encoded,\n",
    "    test_size=(1 - TRAIN_SIZE),\n",
    "    random_state=42,\n",
    "    stratify=y_encoded\n",
    ")"
   ]
  },
  {
   "cell_type": "code",
   "execution_count": 32,
   "id": "c5c692a9",
   "metadata": {},
   "outputs": [
    {
     "name": "stdout",
     "output_type": "stream",
     "text": [
      "Ukuran Data Latih (Train): 23990 sampel\n",
      "Ukuran Data Validasi (Validation): 2999 sampel\n",
      "Ukuran Data Uji (Test): 2999 sampel\n"
     ]
    }
   ],
   "source": [
    "# Bagi data Temp menjadi Validation (20% dari total) dan Test (10% dari total)\n",
    "# Perhatikan perhitungan test_size di sini relatif terhadap ukuran temp\n",
    "relative_test_size = TEST_SIZE / (VALIDATION_SIZE + TEST_SIZE)\n",
    "X_val, X_test, y_val, y_test = train_test_split(\n",
    "    X_temp, y_temp,\n",
    "    test_size=relative_test_size,\n",
    "    random_state=42,\n",
    "    stratify=y_temp\n",
    ")\n",
    "\n",
    "print(f\"Ukuran Data Latih (Train): {len(X_train)} sampel\")\n",
    "print(f\"Ukuran Data Validasi (Validation): {len(X_val)} sampel\")\n",
    "print(f\"Ukuran Data Uji (Test): {len(X_test)} sampel\")"
   ]
  },
  {
   "cell_type": "code",
   "execution_count": 33,
   "id": "7211722e",
   "metadata": {},
   "outputs": [
    {
     "name": "stdout",
     "output_type": "stream",
     "text": [
      "\n",
      "Proporsi kelas di set Latih:\n",
      "2    0.333472\n",
      "0    0.333472\n",
      "1    0.333055\n",
      "Name: proportion, dtype: float64\n",
      "\n",
      "Proporsi kelas di set Validasi:\n",
      "2    0.333444\n",
      "0    0.333444\n",
      "1    0.333111\n",
      "Name: proportion, dtype: float64\n",
      "\n",
      "Proporsi kelas di set Uji:\n",
      "2    0.333444\n",
      "0    0.333444\n",
      "1    0.333111\n",
      "Name: proportion, dtype: float64\n"
     ]
    }
   ],
   "source": [
    "# Verifikasi proporsi kelas di setiap set (opsional tapi bagus)\n",
    "print(\"\\nProporsi kelas di set Latih:\")\n",
    "print(pd.Series(y_train).value_counts(normalize=True))\n",
    "print(\"\\nProporsi kelas di set Validasi:\")\n",
    "print(pd.Series(y_val).value_counts(normalize=True))\n",
    "print(\"\\nProporsi kelas di set Uji:\")\n",
    "print(pd.Series(y_test).value_counts(normalize=True))"
   ]
  },
  {
   "cell_type": "markdown",
   "id": "621302fd",
   "metadata": {},
   "source": [
    "## Fase 7: Ekstraksi Fitur"
   ]
  },
  {
   "cell_type": "code",
   "execution_count": 34,
   "id": "125d9231",
   "metadata": {},
   "outputs": [
    {
     "name": "stdout",
     "output_type": "stream",
     "text": [
      "\n",
      "Tahap 7: Ekstraksi Fitur\n"
     ]
    }
   ],
   "source": [
    "print(\"\\nTahap 7: Ekstraksi Fitur\")"
   ]
  },
  {
   "cell_type": "code",
   "execution_count": 35,
   "id": "f6b24f19",
   "metadata": {},
   "outputs": [
    {
     "name": "stdout",
     "output_type": "stream",
     "text": [
      "Melakukan ekstraksi fitur TF-IDF...\n",
      "Bentuk matriks TF-IDF Latih: (23990, 887)\n",
      "Bentuk matriks TF-IDF Validasi: (2999, 887)\n",
      "Bentuk matriks TF-IDF Uji: (2999, 887)\n"
     ]
    }
   ],
   "source": [
    "# --- 6.1 Ekstraksi Fitur TF-IDF (untuk RF, XGBoost, LightGBM) ---\n",
    "print(\"Melakukan ekstraksi fitur TF-IDF...\")\n",
    "MAX_FEATURES_TFIDF = 15000\n",
    "\n",
    "tfidf_vectorizer = TfidfVectorizer(\n",
    "    max_features=MAX_FEATURES_TFIDF,\n",
    "    ngram_range=(1, 2),\n",
    "    stop_words='english',\n",
    "    lowercase=True,\n",
    "    max_df=0.8,\n",
    "    min_df=30\n",
    ")\n",
    "\n",
    "# Fit hanya pada data latih\n",
    "X_train_tfidf = tfidf_vectorizer.fit_transform(X_train)\n",
    "# Transform data validasi dan test\n",
    "X_val_tfidf = tfidf_vectorizer.transform(X_val)\n",
    "X_test_tfidf = tfidf_vectorizer.transform(X_test)\n",
    "\n",
    "print(f\"Bentuk matriks TF-IDF Latih: {X_train_tfidf.shape}\")\n",
    "print(f\"Bentuk matriks TF-IDF Validasi: {X_val_tfidf.shape}\")\n",
    "print(f\"Bentuk matriks TF-IDF Uji: {X_test_tfidf.shape}\")"
   ]
  },
  {
   "cell_type": "code",
   "execution_count": 36,
   "id": "a461059e",
   "metadata": {},
   "outputs": [
    {
     "name": "stdout",
     "output_type": "stream",
     "text": [
      "\n",
      "Melakukan tokenisasi dan padding untuk model Deep Learning...\n",
      "Ukuran Vocabulary (digunakan di Embedding): 10937\n",
      "Total kata unik ditemukan: 10936\n",
      "Panjang Sekuens (Max Len): 128\n",
      "Bentuk data Latih (padded): (23990, 128)\n",
      "Bentuk data Validasi (padded): (2999, 128)\n",
      "Bentuk data Uji (padded): (2999, 128)\n"
     ]
    }
   ],
   "source": [
    "# --- 6.2 Tokenisasi dan Padding (untuk ANN/CNN TensorFlow) ---\n",
    "print(\"\\nMelakukan tokenisasi dan padding untuk model Deep Learning...\")\n",
    "\n",
    "# Parameter Tokenizer dan Padding\n",
    "MAX_WORDS = 20000\n",
    "MAX_LEN = 128\n",
    "\n",
    "# Inisialisasi dan fit Tokenizer Keras pada data latih\n",
    "tokenizer = Tokenizer(num_words=MAX_WORDS, oov_token='<OOV>') # OOV token untuk kata tak dikenal\n",
    "tokenizer.fit_on_texts(X_train)\n",
    "\n",
    "# Konversi teks ke sekuens integer\n",
    "X_train_seq = tokenizer.texts_to_sequences(X_train)\n",
    "X_val_seq = tokenizer.texts_to_sequences(X_val)\n",
    "X_test_seq = tokenizer.texts_to_sequences(X_test)\n",
    "\n",
    "# Padding sekuens agar panjangnya sama\n",
    "X_train_pad = pad_sequences(X_train_seq, maxlen=MAX_LEN, padding='post', truncating='post')\n",
    "X_val_pad = pad_sequences(X_val_seq, maxlen=MAX_LEN, padding='post', truncating='post')\n",
    "X_test_pad = pad_sequences(X_test_seq, maxlen=MAX_LEN, padding='post', truncating='post')\n",
    "\n",
    "# Ukuran vocabulary aktual (+1 untuk padding/OOV)\n",
    "vocab_size = min(MAX_WORDS, len(tokenizer.word_index) + 1) # Gunakan min agar tidak melebihi MAX_WORDS\n",
    "print(f\"Ukuran Vocabulary (digunakan di Embedding): {vocab_size}\")\n",
    "print(f\"Total kata unik ditemukan: {len(tokenizer.word_index)}\")\n",
    "print(f\"Panjang Sekuens (Max Len): {MAX_LEN}\")\n",
    "print(f\"Bentuk data Latih (padded): {X_train_pad.shape}\")\n",
    "print(f\"Bentuk data Validasi (padded): {X_val_pad.shape}\")\n",
    "print(f\"Bentuk data Uji (padded): {X_test_pad.shape}\")"
   ]
  },
  {
   "cell_type": "code",
   "execution_count": 37,
   "id": "f865b777",
   "metadata": {},
   "outputs": [
    {
     "name": "stdout",
     "output_type": "stream",
     "text": [
      "Memuat model FastText dari cc.en.300.bin...\n",
      "Model FastText berhasil dimuat. Dimensi: 300\n"
     ]
    },
    {
     "name": "stderr",
     "output_type": "stream",
     "text": [
      "Warning : `load_model` does not return WordVectorModel or SupervisedModel any more, but a `FastText` object which is very similar.\n"
     ]
    }
   ],
   "source": [
    "# --- 6.3 FastText Embedding (untuk ANN/CNN PyTorch) ---\n",
    "# Lokasi untuk menyimpan model FastText yang diunduh\n",
    "FASTTEXT_MODEL_PATH = 'cc.en.300.bin' \n",
    "EMBEDDING_DIM = 300\n",
    "\n",
    "# Fungsi untuk mengunduh dan memuat model FastText (Sama seperti sebelumnya)\n",
    "def load_fasttext_model(model_path=FASTTEXT_MODEL_PATH):\n",
    "    # Cek jika file model spesifik sudah ada\n",
    "    if not os.path.exists(model_path):\n",
    "        print(f\"Model FastText di {model_path} tidak ditemukan.\")\n",
    "        # Cek jika file unduhan default ada (sebelum rename)\n",
    "        default_path = 'cc.en.300.bin'\n",
    "        if os.path.exists(default_path):\n",
    "             print(f\"Menemukan model di lokasi default ({default_path}). Merename ke {model_path}...\")\n",
    "             try:\n",
    "                 os.rename(default_path, model_path)\n",
    "             except OSError as e:\n",
    "                 print(f\"Error saat merename file: {e}. Hapus file {model_path} jika ada dan coba lagi.\")\n",
    "                 # Mungkin perlu penanganan lebih lanjut di sini, misalnya mengunduh ulang\n",
    "                 return None # Gagal memuat\n",
    "        else:\n",
    "            print(\"Mengunduh model FastText (cc.en.300.bin)... Ini mungkin butuh waktu lama.\")\n",
    "            try:\n",
    "                fasttext.util.download_model('en', if_exists='ignore')\n",
    "                # Setelah download, rename ke path yang diinginkan\n",
    "                if os.path.exists(default_path):\n",
    "                     print(f\"Merename {default_path} ke {model_path}\")\n",
    "                     os.rename(default_path, model_path)\n",
    "                else:\n",
    "                    print(f\"Unduhan selesai, tetapi file {default_path} tidak ditemukan. Cek koneksi/penyimpanan.\")\n",
    "                    return None # Gagal memuat\n",
    "            except Exception as e:\n",
    "                print(f\"Gagal mengunduh model FastText: {e}\")\n",
    "                return None # Gagal memuat\n",
    "\n",
    "    # Jika file sudah ada di path yang benar\n",
    "    if os.path.exists(model_path):\n",
    "        print(f\"Memuat model FastText dari {model_path}...\")\n",
    "        try:\n",
    "            ft_model = fasttext.load_model(model_path)\n",
    "            print(f\"Model FastText berhasil dimuat. Dimensi: {ft_model.get_dimension()}\")\n",
    "            return ft_model\n",
    "        except Exception as e:\n",
    "            print(f\"Gagal memuat model FastText dari {model_path}: {e}\")\n",
    "            return None # Gagal memuat\n",
    "    else:\n",
    "        print(f\"File model {model_path} tetap tidak ditemukan setelah upaya unduh/rename.\")\n",
    "        return None\n",
    "\n",
    "# Muat model FastText\n",
    "ft_model = load_fasttext_model()\n",
    "\n",
    "if ft_model:\n",
    "    EMBEDDING_DIM = ft_model.get_dimension()\n",
    "else:\n",
    "    print(\"Model FastText tidak berhasil dimuat. Menggunakan EMBEDDING_DIM default.\")"
   ]
  },
  {
   "cell_type": "code",
   "execution_count": 38,
   "id": "3310063b",
   "metadata": {},
   "outputs": [
    {
     "name": "stdout",
     "output_type": "stream",
     "text": [
      "Membangun embedding matrix berdasarkan FastText...\n",
      "Embedding matrix selesai dibuat dengan dimensi: (10937, 300)\n",
      "Kata yang ditemukan dalam FastText: 10936/10936 (100.00%)\n"
     ]
    }
   ],
   "source": [
    "# Buat matrix embedding berdasarkan vocabulary yang sudah dibangun\n",
    "def create_embedding_matrix(ft_model, word_index, embedding_dim, max_words):\n",
    "    # Ukuran matrix: (jumlah kata unik + 1 [untuk padding/OOV]) x embedding_dim\n",
    "    # Gunakan vocab_size yang sudah dihitung sebelumnya\n",
    "    num_words_in_matrix = min(max_words, len(word_index) + 1)\n",
    "    embedding_matrix = np.random.uniform(-0.25, 0.25, (num_words_in_matrix, embedding_dim))\n",
    "\n",
    "    # Set embedding untuk padding token (indeks 0) ke 0\n",
    "    embedding_matrix[0] = np.zeros(embedding_dim)\n",
    "\n",
    "    print(\"Membangun embedding matrix berdasarkan FastText...\")\n",
    "    found_words = 0\n",
    "    not_found_words = 0\n",
    "    for word, i in word_index.items():\n",
    "        if i >= max_words: # Hanya proses kata dalam batas MAX_WORDS\n",
    "            continue\n",
    "        try:\n",
    "            # Akses vektor kata dari model FastText\n",
    "            embedding_vector = ft_model.get_word_vector(word) # FastText biasanya case-sensitive\n",
    "            embedding_matrix[i] = embedding_vector\n",
    "            found_words += 1\n",
    "        except KeyError: # Kata tidak ada di vocabulary FastText\n",
    "            # Biarkan nilai random yang sudah diinisialisasi\n",
    "            not_found_words += 1\n",
    "            # print(f\"Kata tidak ditemukan: {word}\") # Uncomment untuk debug\n",
    "\n",
    "    print(f\"Embedding matrix selesai dibuat dengan dimensi: {embedding_matrix.shape}\")\n",
    "    total_words_processed = found_words + not_found_words\n",
    "    if total_words_processed > 0:\n",
    "         print(f\"Kata yang ditemukan dalam FastText: {found_words}/{total_words_processed} ({found_words/total_words_processed*100:.2f}%)\")\n",
    "    else:\n",
    "         print(\"Tidak ada kata yang diproses untuk embedding matrix.\")\n",
    "    return embedding_matrix\n",
    "\n",
    "# Buat embedding matrix hanya jika model FastText berhasil dimuat\n",
    "embedding_matrix = None\n",
    "if ft_model:\n",
    "    embedding_matrix = create_embedding_matrix(ft_model, tokenizer.word_index, EMBEDDING_DIM, MAX_WORDS)\n",
    "else:\n",
    "    print(\"Tidak dapat membuat embedding matrix karena model FastText gagal dimuat.\")\n",
    "    # Handle error: stop, atau buat embedding random sebagai fallback\n",
    "    # Fallback: Buat matrix random jika embedding FastText gagal\n",
    "    print(\"Membuat embedding matrix random sebagai fallback...\")\n",
    "    vocab_size_fallback = min(MAX_WORDS, len(tokenizer.word_index) + 1)\n",
    "    EMBEDDING_DIM_FALLBACK = 128 # Pilih dimensi fallback\n",
    "    embedding_matrix = np.random.uniform(-0.25, 0.25, (vocab_size_fallback, EMBEDDING_DIM_FALLBACK))\n",
    "    embedding_matrix[0] = np.zeros(EMBEDDING_DIM_FALLBACK)\n",
    "    EMBEDDING_DIM = EMBEDDING_DIM_FALLBACK # Update EMBEDDING_DIM\n",
    "    vocab_size = vocab_size_fallback # Update vocab_size"
   ]
  },
  {
   "cell_type": "markdown",
   "id": "9c02928b",
   "metadata": {},
   "source": [
    "## Fase 8: Definisi & Pelatihan Model"
   ]
  },
  {
   "cell_type": "markdown",
   "id": "56e0feb8",
   "metadata": {},
   "source": [
    "### Persiapan Sebelum Training"
   ]
  },
  {
   "cell_type": "code",
   "execution_count": 39,
   "id": "47d25f79",
   "metadata": {},
   "outputs": [
    {
     "name": "stdout",
     "output_type": "stream",
     "text": [
      "\n",
      "Tahap 8: Definisi & Pelatihan Model\n"
     ]
    }
   ],
   "source": [
    "print(\"\\nTahap 8: Definisi & Pelatihan Model\")\n",
    "\n",
    "NUM_CLASSES = len(label_mapping)\n",
    "history = {} # Dictionary untuk menyimpan riwayat pelatihan"
   ]
  },
  {
   "cell_type": "code",
   "execution_count": 40,
   "id": "735eee25",
   "metadata": {},
   "outputs": [],
   "source": [
    "# --- Helper Function untuk Plotting Hasil Training Deep Learning ---\n",
    "def plot_history(hist_object, title): # Ubah nama parameter agar lebih jelas\n",
    "    # hist_object adalah objek History yang dikembalikan oleh model.fit()\n",
    "    history_dict = hist_object.history # Akses dictionary history di dalamnya\n",
    "    epochs = range(1, len(history_dict['loss']) + 1) # Buat range epoch (1-based)\n",
    "\n",
    "    plt.figure(figsize=(12, 4))\n",
    "\n",
    "    # Plot Akurasi\n",
    "    plt.subplot(1, 2, 1)\n",
    "    # Gunakan 'accuracy' atau 'acc' tergantung nama metrik yang digunakan saat compile\n",
    "    train_acc_key = 'accuracy' if 'accuracy' in history_dict else 'acc'\n",
    "    val_acc_key = 'val_accuracy' if 'val_accuracy' in history_dict else 'val_acc'\n",
    "\n",
    "    plt.plot(epochs, history_dict[train_acc_key], label='Train Accuracy')\n",
    "    plt.plot(epochs, history_dict[val_acc_key], label='Validation Accuracy')\n",
    "    plt.title(f'{title} - Accuracy')\n",
    "    plt.xlabel('Epoch')\n",
    "    plt.ylabel('Accuracy')\n",
    "    plt.legend()\n",
    "    plt.grid(True)\n",
    "\n",
    "    # Plot Loss\n",
    "    plt.subplot(1, 2, 2)\n",
    "    plt.plot(epochs, history_dict['loss'], label='Train Loss')\n",
    "    plt.plot(epochs, history_dict['val_loss'], label='Validation Loss')\n",
    "    plt.title(f'{title} - Loss')\n",
    "    plt.xlabel('Epoch')\n",
    "    plt.ylabel('Loss')\n",
    "    plt.legend()\n",
    "    plt.grid(True)\n",
    "\n",
    "    plt.tight_layout()\n",
    "    plt.show()"
   ]
  },
  {
   "cell_type": "code",
   "execution_count": 41,
   "id": "ebe0fbb3",
   "metadata": {},
   "outputs": [],
   "source": [
    "# --- Persiapan untuk Model Scikit-learn ---\n",
    "# Konversi sparse matrix TF-IDF ke format yang diterima XGBoost/LGBM jika perlu\n",
    "X_train_tfidf_dense = X_train_tfidf.toarray()\n",
    "X_val_tfidf_dense = X_val_tfidf.toarray()\n",
    "X_test_tfidf_dense = X_test_tfidf.toarray()"
   ]
  },
  {
   "cell_type": "markdown",
   "id": "a8a5c33e",
   "metadata": {},
   "source": [
    "### Model 1: Artificial Neural Network (ANN)"
   ]
  },
  {
   "cell_type": "code",
   "execution_count": 42,
   "id": "4f91c8ee",
   "metadata": {},
   "outputs": [
    {
     "name": "stdout",
     "output_type": "stream",
     "text": [
      "Model: \"FastText_ANN\"\n",
      "_________________________________________________________________\n",
      " Layer (type)                Output Shape              Param #   \n",
      "=================================================================\n",
      " embedding (Embedding)       (None, 128, 300)          3281100   \n",
      "                                                                 \n",
      " global_average_pooling1d (G  (None, 300)              0         \n",
      " lobalAveragePooling1D)                                          \n",
      "                                                                 \n",
      " dense (Dense)               (None, 256)               77056     \n",
      "                                                                 \n",
      " layer_normalization (LayerN  (None, 256)              512       \n",
      " ormalization)                                                   \n",
      "                                                                 \n",
      " leaky_re_lu (LeakyReLU)     (None, 256)               0         \n",
      "                                                                 \n",
      " dropout (Dropout)           (None, 256)               0         \n",
      "                                                                 \n",
      " dense_1 (Dense)             (None, 256)               65792     \n",
      "                                                                 \n",
      " layer_normalization_1 (Laye  (None, 256)              512       \n",
      " rNormalization)                                                 \n",
      "                                                                 \n",
      " leaky_re_lu_1 (LeakyReLU)   (None, 256)               0         \n",
      "                                                                 \n",
      " dropout_1 (Dropout)         (None, 256)               0         \n",
      "                                                                 \n",
      " dense_2 (Dense)             (None, 3)                 771       \n",
      "                                                                 \n",
      "=================================================================\n",
      "Total params: 3,425,743\n",
      "Trainable params: 144,643\n",
      "Non-trainable params: 3,281,100\n",
      "_________________________________________________________________\n"
     ]
    }
   ],
   "source": [
    "# Parameter ANN\n",
    "# EMBEDDING_DIM sudah didefinisikan dari FastText\n",
    "HIDDEN_DIM_ANN = 256\n",
    "DROPOUT_ANN = 0.4\n",
    "LEARNING_RATE_ANN = 1e-3\n",
    "EPOCHS_ANN = 30\n",
    "BATCH_SIZE_ANN = 128 # Definisikan batch size\n",
    "\n",
    "def build_fasttext_ann(vocab_size, embedding_dim, embedding_matrix, max_len, hidden_dim, output_dim, dropout):\n",
    "    model = keras.Sequential(name=\"FastText_ANN\")\n",
    "    \n",
    "    # Embedding Layer\n",
    "    model.add(layers.Embedding(\n",
    "        input_dim=vocab_size,         # Ukuran vocabulary\n",
    "        output_dim=embedding_dim,     # Dimensi embedding\n",
    "        weights=[embedding_matrix] if embedding_matrix is not None else None, # Gunakan bobot pre-trained\n",
    "        input_length=max_len,         # Panjang sekuens input\n",
    "        trainable=False               # Freeze embedding layer\n",
    "    ))\n",
    "    \n",
    "    model.add(layers.GlobalAveragePooling1D())\n",
    "    \n",
    "    # Hidden Layer 1\n",
    "    model.add(layers.Dense(hidden_dim))\n",
    "    model.add(layers.LayerNormalization())\n",
    "    model.add(layers.LeakyReLU())     \n",
    "    model.add(layers.Dropout(dropout))\n",
    "\n",
    "    # Hidden Layer 2\n",
    "    model.add(layers.Dense(hidden_dim))\n",
    "    model.add(layers.LayerNormalization())\n",
    "    model.add(layers.LeakyReLU())       \n",
    "    model.add(layers.Dropout(dropout))\n",
    "    \n",
    "    # Output Layer\n",
    "    activation_func = 'softmax' if output_dim > 2 else ('sigmoid' if output_dim == 2 else 'linear')\n",
    "    if output_dim == 2: activation_func = 'sigmoid'\n",
    "    if output_dim == 1 and NUM_CLASSES == 2: activation_func = 'sigmoid'\n",
    "    \n",
    "    final_units = NUM_CLASSES if NUM_CLASSES > 2 else (1 if NUM_CLASSES==2 else NUM_CLASSES)\n",
    "\n",
    "    model.add(layers.Dense(final_units, activation=activation_func))\n",
    "\n",
    "    return model\n",
    "\n",
    "# Bangun model ANN\n",
    "model_tf_ann = build_fasttext_ann(\n",
    "    vocab_size=vocab_size,\n",
    "    embedding_dim=EMBEDDING_DIM,\n",
    "    embedding_matrix=embedding_matrix,\n",
    "    max_len=MAX_LEN,\n",
    "    hidden_dim=HIDDEN_DIM_ANN,\n",
    "    output_dim=NUM_CLASSES,\n",
    "    dropout=DROPOUT_ANN\n",
    ")\n",
    "\n",
    "loss_function = 'sparse_categorical_crossentropy'\n",
    "if NUM_CLASSES == 2:\n",
    "    loss_function = 'binary_crossentropy'\n",
    "\n",
    "optimizer_ann_tf = keras.optimizers.Adam(learning_rate=LEARNING_RATE_ANN)\n",
    "\n",
    "model_tf_ann.compile(\n",
    "    optimizer=optimizer_ann_tf,\n",
    "    loss=loss_function,\n",
    "    metrics=['accuracy']\n",
    ")\n",
    "\n",
    "model_tf_ann.summary()"
   ]
  },
  {
   "cell_type": "code",
   "execution_count": 43,
   "id": "7fb161e5",
   "metadata": {},
   "outputs": [
    {
     "name": "stdout",
     "output_type": "stream",
     "text": [
      "\n",
      "Memulai pelatihan model: FastText-ANN\n",
      "Epoch 1/30\n",
      "188/188 [==============================] - 3s 11ms/step - loss: 0.5217 - accuracy: 0.7694 - val_loss: 0.3373 - val_accuracy: 0.8620 - lr: 0.0010\n",
      "Epoch 2/30\n",
      "188/188 [==============================] - 2s 9ms/step - loss: 0.3617 - accuracy: 0.8451 - val_loss: 0.3336 - val_accuracy: 0.8663 - lr: 0.0010\n",
      "Epoch 3/30\n",
      "188/188 [==============================] - 2s 9ms/step - loss: 0.3351 - accuracy: 0.8550 - val_loss: 0.3288 - val_accuracy: 0.8563 - lr: 0.0010\n",
      "Epoch 4/30\n",
      "188/188 [==============================] - 2s 9ms/step - loss: 0.3195 - accuracy: 0.8627 - val_loss: 0.2981 - val_accuracy: 0.8800 - lr: 0.0010\n",
      "Epoch 5/30\n",
      "188/188 [==============================] - 2s 9ms/step - loss: 0.3092 - accuracy: 0.8682 - val_loss: 0.3059 - val_accuracy: 0.8736 - lr: 0.0010\n",
      "Epoch 6/30\n",
      "188/188 [==============================] - 2s 9ms/step - loss: 0.2845 - accuracy: 0.8796 - val_loss: 0.2873 - val_accuracy: 0.8840 - lr: 1.0000e-04\n",
      "Epoch 7/30\n",
      "188/188 [==============================] - 2s 9ms/step - loss: 0.2767 - accuracy: 0.8827 - val_loss: 0.2834 - val_accuracy: 0.8880 - lr: 1.0000e-04\n",
      "Epoch 8/30\n",
      "188/188 [==============================] - 2s 9ms/step - loss: 0.2748 - accuracy: 0.8850 - val_loss: 0.2879 - val_accuracy: 0.8803 - lr: 1.0000e-04\n",
      "Epoch 9/30\n",
      "188/188 [==============================] - 2s 9ms/step - loss: 0.2704 - accuracy: 0.8855 - val_loss: 0.2842 - val_accuracy: 0.8836 - lr: 1.0000e-05\n",
      "Epoch 10/30\n",
      "188/188 [==============================] - 2s 9ms/step - loss: 0.2702 - accuracy: 0.8852 - val_loss: 0.2836 - val_accuracy: 0.8843 - lr: 1.0000e-06\n",
      "Pelatihan FastText-ANN selesai dalam 18.71 detik.\n"
     ]
    },
    {
     "data": {
      "image/png": "[encoded data removed]",
      "text/plain": [
       "<Figure size 1200x400 with 2 Axes>"
      ]
     },
     "metadata": {},
     "output_type": "display_data"
    }
   ],
   "source": [
    "# Latih model ANN\n",
    "print(f\"\\nMemulai pelatihan model: FastText-ANN\")\n",
    "start_time_ann = time.time()\n",
    "\n",
    "history['fasttext_ann'] = model_tf_ann.fit(\n",
    "    X_train_pad, y_train,\n",
    "    epochs=EPOCHS_ANN,\n",
    "    batch_size=BATCH_SIZE_ANN,\n",
    "    validation_data=(X_val_pad, y_val),\n",
    "    callbacks=[\n",
    "        keras.callbacks.EarlyStopping(monitor='val_loss', patience=3, restore_best_weights=True),\n",
    "        keras.callbacks.ReduceLROnPlateau(monitor='val_loss', factor=0.1, patience=1, min_lr=1e-6)\n",
    "    ],\n",
    "    verbose=1 # Tampilkan progress per epoch\n",
    ")\n",
    "\n",
    "end_time_ann = time.time()\n",
    "print(f\"Pelatihan FastText-ANN selesai dalam {end_time_ann - start_time_ann:.2f} detik.\")\n",
    "\n",
    "# Plot hasil pelatihan ANN\n",
    "plot_history(history['fasttext_ann'], \"FastText ANN Training History\")"
   ]
  },
  {
   "cell_type": "markdown",
   "id": "712af0c1",
   "metadata": {},
   "source": [
    "### Model 2: Convolutional Neural Network (CNN)"
   ]
  },
  {
   "cell_type": "code",
   "execution_count": 44,
   "id": "c365e10c",
   "metadata": {},
   "outputs": [
    {
     "name": "stdout",
     "output_type": "stream",
     "text": [
      "\n",
      "--- Eksperimen 2: CNN dengan FastText Embeddings ---\n",
      "Model: \"FastText_CNN\"\n",
      "__________________________________________________________________________________________________\n",
      " Layer (type)                   Output Shape         Param #     Connected to                     \n",
      "==================================================================================================\n",
      " input_sequence (InputLayer)    [(None, 128)]        0           []                               \n",
      "                                                                                                  \n",
      " embedding (Embedding)          (None, 128, 300)     3281100     ['input_sequence[0][0]']         \n",
      "                                                                                                  \n",
      " embedding_dropout (Dropout)    (None, 128, 300)     0           ['embedding[0][0]']              \n",
      "                                                                                                  \n",
      " conv1d_3 (Conv1D)              (None, 126, 256)     230656      ['embedding_dropout[0][0]']      \n",
      "                                                                                                  \n",
      " conv1d_5 (Conv1D)              (None, 124, 256)     384256      ['embedding_dropout[0][0]']      \n",
      "                                                                                                  \n",
      " batchnorm_3 (BatchNormalizatio  (None, 126, 256)    1024        ['conv1d_3[0][0]']               \n",
      " n)                                                                                               \n",
      "                                                                                                  \n",
      " batchnorm_5 (BatchNormalizatio  (None, 124, 256)    1024        ['conv1d_5[0][0]']               \n",
      " n)                                                                                               \n",
      "                                                                                                  \n",
      " leakyrelu_3 (LeakyReLU)        (None, 126, 256)     0           ['batchnorm_3[0][0]']            \n",
      "                                                                                                  \n",
      " leakyrelu_5 (LeakyReLU)        (None, 124, 256)     0           ['batchnorm_5[0][0]']            \n",
      "                                                                                                  \n",
      " globalmaxpool_3 (GlobalMaxPool  (None, 256)         0           ['leakyrelu_3[0][0]']            \n",
      " ing1D)                                                                                           \n",
      "                                                                                                  \n",
      " globalmaxpool_5 (GlobalMaxPool  (None, 256)         0           ['leakyrelu_5[0][0]']            \n",
      " ing1D)                                                                                           \n",
      "                                                                                                  \n",
      " concatenate (Concatenate)      (None, 512)          0           ['globalmaxpool_3[0][0]',        \n",
      "                                                                  'globalmaxpool_5[0][0]']        \n",
      "                                                                                                  \n",
      " concat_dropout (Dropout)       (None, 512)          0           ['concatenate[0][0]']            \n",
      "                                                                                                  \n",
      " output (Dense)                 (None, 3)            1539        ['concat_dropout[0][0]']         \n",
      "                                                                                                  \n",
      "==================================================================================================\n",
      "Total params: 3,899,599\n",
      "Trainable params: 617,475\n",
      "Non-trainable params: 3,282,124\n",
      "__________________________________________________________________________________________________\n"
     ]
    }
   ],
   "source": [
    "# --- Eksperimen 2: Convolutional Neural Network (CNN) ---\n",
    "print(\"\\n--- Eksperimen 2: CNN dengan FastText Embeddings ---\")\n",
    "\n",
    "# Parameter CNN\n",
    "# EMBEDDING_DIM sudah ada\n",
    "NUM_FILTERS = 256\n",
    "FILTER_SIZES = [3, 5] # Ukuran kernel konvolusi\n",
    "DROPOUT_CNN = 0.4\n",
    "LEARNING_RATE_CNN = 1e-3\n",
    "EPOCHS_CNN = 35\n",
    "BATCH_SIZE_CNN = 128\n",
    "\n",
    "def build_fasttext_cnn(vocab_size, embedding_dim, embedding_matrix, max_len, num_filters, filter_sizes, output_dim, dropout):\n",
    "    # Input layer\n",
    "    input_layer = layers.Input(shape=(max_len,), dtype='int32', name='input_sequence')\n",
    "\n",
    "    # Embedding layer\n",
    "    embedding_layer = layers.Embedding(\n",
    "        input_dim=vocab_size,\n",
    "        output_dim=embedding_dim,\n",
    "        weights=[embedding_matrix] if embedding_matrix is not None else None,\n",
    "        input_length=max_len,\n",
    "        trainable=False, # Freeze embeddings\n",
    "        name='embedding'\n",
    "    )(input_layer)\n",
    "\n",
    "    # Dropout setelah embedding (opsional tapi sering digunakan)\n",
    "    embedded_dropout = layers.Dropout(dropout, name='embedding_dropout')(embedding_layer)\n",
    "\n",
    "    # Branch konvolusi paralel untuk setiap ukuran filter\n",
    "    conv_blocks = []\n",
    "    for filter_size in filter_sizes:\n",
    "        conv = layers.Conv1D(\n",
    "            filters=num_filters,\n",
    "            kernel_size=filter_size,\n",
    "            padding='valid', # 'valid' berarti tanpa padding di Conv1D\n",
    "            activation=None, # Aktivasi setelah Batch Norm\n",
    "            name=f'conv1d_{filter_size}'\n",
    "        )(embedded_dropout)\n",
    "        conv = layers.BatchNormalization(name=f'batchnorm_{filter_size}')(conv)\n",
    "        conv = layers.LeakyReLU(name=f'leakyrelu_{filter_size}')(conv)\n",
    "        # Global Max Pooling untuk mengambil fitur terpenting dari hasil konvolusi\n",
    "        conv = layers.GlobalMaxPooling1D(name=f'globalmaxpool_{filter_size}')(conv)\n",
    "        conv_blocks.append(conv)\n",
    "\n",
    "    # Concatenate hasil dari semua branch konvolusi\n",
    "    concatenated = layers.Concatenate(axis=-1, name='concatenate')(conv_blocks)\n",
    "\n",
    "    # Dropout sebelum fully connected layer\n",
    "    concat_dropout = layers.Dropout(dropout, name='concat_dropout')(concatenated)\n",
    "\n",
    "    # Output Layer\n",
    "    activation_func = 'softmax' if output_dim > 2 else ('sigmoid' if output_dim == 2 else 'linear')\n",
    "    if output_dim == 2: activation_func = 'sigmoid' # Koreksi untuk biner\n",
    "    if output_dim == 1 and NUM_CLASSES == 2: activation_func = 'sigmoid' # Jika biner 0/1\n",
    "\n",
    "    final_units = NUM_CLASSES if NUM_CLASSES > 2 else (1 if NUM_CLASSES==2 else NUM_CLASSES)\n",
    "\n",
    "    output_layer = layers.Dense(final_units, activation=activation_func, name='output')(concat_dropout)\n",
    "\n",
    "    # Buat model\n",
    "    model = keras.Model(inputs=input_layer, outputs=output_layer, name=\"FastText_CNN\")\n",
    "    return model\n",
    "\n",
    "# Bangun model CNN\n",
    "model_tf_cnn = build_fasttext_cnn(\n",
    "    vocab_size=vocab_size,\n",
    "    embedding_dim=EMBEDDING_DIM,\n",
    "    embedding_matrix=embedding_matrix,\n",
    "    max_len=MAX_LEN,\n",
    "    num_filters=NUM_FILTERS,\n",
    "    filter_sizes=FILTER_SIZES,\n",
    "    output_dim=NUM_CLASSES,\n",
    "    dropout=DROPOUT_CNN\n",
    ")\n",
    "\n",
    "# Compile model CNN\n",
    "optimizer_cnn_tf = keras.optimizers.Adam(learning_rate=LEARNING_RATE_CNN)\n",
    "\n",
    "model_tf_cnn.compile(\n",
    "    optimizer=optimizer_cnn_tf,\n",
    "    loss=loss_function, # Gunakan loss function yang sama dengan ANN\n",
    "    metrics=['accuracy']\n",
    ")\n",
    "\n",
    "model_tf_cnn.summary() # Tampilkan arsitektur model"
   ]
  },
  {
   "cell_type": "code",
   "execution_count": 45,
   "id": "659595e1",
   "metadata": {},
   "outputs": [
    {
     "name": "stdout",
     "output_type": "stream",
     "text": [
      "\n",
      "Memulai pelatihan model: FastText-CNN\n",
      "Epoch 1/35\n",
      "188/188 [==============================] - 9s 43ms/step - loss: 1.2832 - accuracy: 0.7378 - val_loss: 0.6981 - val_accuracy: 0.8129 - lr: 0.0010\n",
      "Epoch 2/35\n",
      "188/188 [==============================] - 8s 40ms/step - loss: 0.4825 - accuracy: 0.8261 - val_loss: 0.4603 - val_accuracy: 0.8419 - lr: 0.0010\n",
      "Epoch 3/35\n",
      "188/188 [==============================] - 8s 41ms/step - loss: 0.3641 - accuracy: 0.8557 - val_loss: 0.3264 - val_accuracy: 0.8810 - lr: 0.0010\n",
      "Epoch 4/35\n",
      "188/188 [==============================] - 8s 41ms/step - loss: 0.3126 - accuracy: 0.8743 - val_loss: 0.2812 - val_accuracy: 0.8933 - lr: 0.0010\n",
      "Epoch 5/35\n",
      "188/188 [==============================] - 8s 40ms/step - loss: 0.2886 - accuracy: 0.8822 - val_loss: 0.2662 - val_accuracy: 0.9010 - lr: 0.0010\n",
      "Epoch 6/35\n",
      "188/188 [==============================] - 8s 40ms/step - loss: 0.2697 - accuracy: 0.8938 - val_loss: 0.2518 - val_accuracy: 0.9033 - lr: 0.0010\n",
      "Epoch 7/35\n",
      "188/188 [==============================] - 8s 40ms/step - loss: 0.2582 - accuracy: 0.8964 - val_loss: 0.2494 - val_accuracy: 0.9063 - lr: 0.0010\n",
      "Epoch 8/35\n",
      "188/188 [==============================] - 8s 40ms/step - loss: 0.2420 - accuracy: 0.9046 - val_loss: 0.2421 - val_accuracy: 0.9093 - lr: 0.0010\n",
      "Epoch 9/35\n",
      "188/188 [==============================] - 8s 40ms/step - loss: 0.2331 - accuracy: 0.9111 - val_loss: 0.2435 - val_accuracy: 0.9130 - lr: 0.0010\n",
      "Epoch 10/35\n",
      "188/188 [==============================] - 8s 40ms/step - loss: 0.2132 - accuracy: 0.9158 - val_loss: 0.2358 - val_accuracy: 0.9146 - lr: 1.0000e-04\n",
      "Epoch 11/35\n",
      "188/188 [==============================] - 8s 40ms/step - loss: 0.2043 - accuracy: 0.9215 - val_loss: 0.2322 - val_accuracy: 0.9176 - lr: 1.0000e-04\n",
      "Epoch 12/35\n",
      "188/188 [==============================] - 8s 40ms/step - loss: 0.2031 - accuracy: 0.9210 - val_loss: 0.2292 - val_accuracy: 0.9166 - lr: 1.0000e-04\n",
      "Epoch 13/35\n",
      "188/188 [==============================] - 8s 41ms/step - loss: 0.2019 - accuracy: 0.9243 - val_loss: 0.2276 - val_accuracy: 0.9193 - lr: 1.0000e-04\n",
      "Epoch 14/35\n",
      "188/188 [==============================] - 8s 40ms/step - loss: 0.2001 - accuracy: 0.9235 - val_loss: 0.2329 - val_accuracy: 0.9146 - lr: 1.0000e-04\n",
      "Epoch 15/35\n",
      "188/188 [==============================] - 8s 40ms/step - loss: 0.1959 - accuracy: 0.9243 - val_loss: 0.2272 - val_accuracy: 0.9196 - lr: 1.0000e-05\n",
      "Epoch 16/35\n",
      "188/188 [==============================] - 8s 40ms/step - loss: 0.1937 - accuracy: 0.9257 - val_loss: 0.2272 - val_accuracy: 0.9190 - lr: 1.0000e-05\n",
      "Epoch 17/35\n",
      "188/188 [==============================] - 8s 40ms/step - loss: 0.1969 - accuracy: 0.9239 - val_loss: 0.2274 - val_accuracy: 0.9186 - lr: 1.0000e-06\n",
      "Epoch 18/35\n",
      "188/188 [==============================] - 8s 40ms/step - loss: 0.1910 - accuracy: 0.9265 - val_loss: 0.2274 - val_accuracy: 0.9190 - lr: 1.0000e-06\n",
      "Epoch 19/35\n",
      "188/188 [==============================] - 8s 40ms/step - loss: 0.1887 - accuracy: 0.9284 - val_loss: 0.2275 - val_accuracy: 0.9190 - lr: 1.0000e-06\n",
      "Pelatihan FastText-CNN selesai dalam 145.86 detik.\n"
     ]
    },
    {
     "data": {
      "image/png": "[encoded data removed]",
      "text/plain": [
       "<Figure size 1200x400 with 2 Axes>"
      ]
     },
     "metadata": {},
     "output_type": "display_data"
    }
   ],
   "source": [
    "# Latih model CNN\n",
    "print(f\"\\nMemulai pelatihan model: FastText-CNN\")\n",
    "start_time_cnn = time.time()\n",
    "\n",
    "history['fasttext_cnn'] = model_tf_cnn.fit(\n",
    "    X_train_pad, y_train,\n",
    "    epochs=EPOCHS_CNN,\n",
    "    batch_size=BATCH_SIZE_CNN,\n",
    "    validation_data=(X_val_pad, y_val),\n",
    "    callbacks=[\n",
    "        keras.callbacks.EarlyStopping(monitor='val_loss', patience=3, restore_best_weights=True),\n",
    "        keras.callbacks.ReduceLROnPlateau(monitor='val_loss', factor=0.1, patience=1, min_lr=1e-6)\n",
    "    ],\n",
    "    verbose=1\n",
    ")\n",
    "\n",
    "end_time_cnn = time.time()\n",
    "print(f\"Pelatihan FastText-CNN selesai dalam {end_time_cnn - start_time_cnn:.2f} detik.\")\n",
    "\n",
    "# Plot hasil pelatihan CNN\n",
    "plot_history(history['fasttext_cnn'], \"FastText CNN Training History\")"
   ]
  },
  {
   "cell_type": "markdown",
   "id": "672f759b",
   "metadata": {},
   "source": [
    "### Model 3: Random Forest (RF)"
   ]
  },
  {
   "cell_type": "code",
   "execution_count": 46,
   "id": "29c72b3a",
   "metadata": {},
   "outputs": [
    {
     "name": "stdout",
     "output_type": "stream",
     "text": [
      "\n",
      "--- Eksperimen 3: Random Forest (RF) ---\n",
      "Melatih Random Forest...\n",
      "Pelatihan RF selesai. Waktu: 2.60 detik.\n",
      "Akurasi RF - Train: 0.9335, Validation: 0.9263\n"
     ]
    }
   ],
   "source": [
    "# --- Eksperimen 3: Random Forest (RF) ---\n",
    "print(\"\\n--- Eksperimen 3: Random Forest (RF) ---\")\n",
    "model_rf = RandomForestClassifier(\n",
    "    n_estimators=200,\n",
    "    max_depth=None,   \n",
    "    min_samples_split=5, \n",
    "    min_samples_leaf=2,   \n",
    "    random_state=42,\n",
    "    n_jobs=-1             \n",
    ")\n",
    "\n",
    "print(\"Melatih Random Forest...\")\n",
    "start_time_rf = time.time()\n",
    "model_rf.fit(X_train_tfidf, y_train)\n",
    "end_time_rf = time.time()\n",
    "print(f\"Pelatihan RF selesai. Waktu: {end_time_rf - start_time_rf:.2f} detik.\")\n",
    "\n",
    "# Evaluasi cepat di data latih & validasi (untuk perbandingan kasar)\n",
    "acc_train_rf = model_rf.score(X_train_tfidf, y_train)\n",
    "acc_val_rf = model_rf.score(X_val_tfidf, y_val)\n",
    "print(f\"Akurasi RF - Train: {acc_train_rf:.4f}, Validation: {acc_val_rf:.4f}\")\n",
    "history['rf'] = {'model': model_rf, 'train_accuracy': acc_train_rf, 'val_accuracy': acc_val_rf}"
   ]
  },
  {
   "cell_type": "markdown",
   "id": "557424ca",
   "metadata": {},
   "source": [
    "### Model 4: XGBoost"
   ]
  },
  {
   "cell_type": "code",
   "execution_count": 47,
   "id": "e5b866dd",
   "metadata": {},
   "outputs": [
    {
     "name": "stdout",
     "output_type": "stream",
     "text": [
      "\n",
      "--- Eksperimen 4: XGBoost ---\n",
      "Melatih XGBoost...\n",
      "Pelatihan XGBoost selesai. Waktu: 16.67 detik.\n",
      "Akurasi XGBoost - Train: 0.9329, Validation: 0.9250\n"
     ]
    }
   ],
   "source": [
    "# --- Eksperimen 4: XGBoost ---\n",
    "print(\"\\n--- Eksperimen 4: XGBoost ---\")\n",
    "\n",
    "# Parameter XGBoost\n",
    "params = {\n",
    "    'objective': 'multi:softmax',\n",
    "    'num_class': NUM_CLASSES,\n",
    "    'max_depth': 7,\n",
    "    'eta': 0.1,  # learning rate\n",
    "    'subsample': 0.8,\n",
    "    'colsample_bytree': 0.8,\n",
    "    'tree_method': 'hist',\n",
    "    'eval_metric': 'mlogloss',\n",
    "    'random_state': 42\n",
    "}\n",
    "\n",
    "print(\"Melatih XGBoost...\")\n",
    "start_time_xgb = time.time()\n",
    "\n",
    "# Konversi data ke format DMatrix XGBoost\n",
    "dtrain = xgb.DMatrix(X_train_tfidf, label=y_train)\n",
    "dval = xgb.DMatrix(X_val_tfidf, label=y_val)\n",
    "\n",
    "# Train dengan early stopping\n",
    "model_xgb = xgb.train(\n",
    "    params,\n",
    "    dtrain,\n",
    "    num_boost_round=300,\n",
    "    evals=[(dtrain, 'train'), (dval, 'validation')],\n",
    "    early_stopping_rounds=20,\n",
    "    verbose_eval=False  # Set True untuk lihat progres per iterasi\n",
    ")\n",
    "\n",
    "end_time_xgb = time.time()\n",
    "print(f\"Pelatihan XGBoost selesai. Waktu: {end_time_xgb - start_time_xgb:.2f} detik.\")\n",
    "\n",
    "# Evaluasi cepat\n",
    "preds_train = model_xgb.predict(dtrain)\n",
    "preds_val = model_xgb.predict(dval)\n",
    "acc_train_xgb = (preds_train == y_train).mean()\n",
    "acc_val_xgb = (preds_val == y_val).mean()\n",
    "print(f\"Akurasi XGBoost - Train: {acc_train_xgb:.4f}, Validation: {acc_val_xgb:.4f}\")\n",
    "history['xgb'] = {'model': model_xgb, 'train_accuracy': acc_train_xgb, 'val_accuracy': acc_val_xgb}"
   ]
  },
  {
   "cell_type": "markdown",
   "id": "ee0b16bd",
   "metadata": {},
   "source": [
    "### Model 5: LightGBM"
   ]
  },
  {
   "cell_type": "code",
   "execution_count": 48,
   "id": "d46c4b71",
   "metadata": {},
   "outputs": [
    {
     "name": "stdout",
     "output_type": "stream",
     "text": [
      "\n",
      "--- Eksperimen 5: LightGBM ---\n",
      "Melatih LightGBM...\n",
      "[LightGBM] [Info] Auto-choosing row-wise multi-threading, the overhead of testing was 0.026141 seconds.\n",
      "You can set `force_row_wise=true` to remove the overhead.\n",
      "And if memory is not enough, you can set `force_col_wise=true`.\n",
      "[LightGBM] [Info] Total Bins 40582\n",
      "[LightGBM] [Info] Number of data points in the train set: 23990, number of used features: 887\n",
      "[LightGBM] [Info] Start training from score -1.098196\n",
      "[LightGBM] [Info] Start training from score -1.099446\n",
      "[LightGBM] [Info] Start training from score -1.098196\n",
      "Pelatihan LightGBM selesai. Waktu: 3.85 detik.\n",
      "Akurasi LightGBM - Train: 0.9467, Validation: 0.9326\n"
     ]
    }
   ],
   "source": [
    "# --- Eksperimen 5: LightGBM ---\n",
    "print(\"\\n--- Eksperimen 5: LightGBM ---\")\n",
    "model_lgbm = lgbm.LGBMClassifier(\n",
    "    objective='multiclass',\n",
    "    num_class=NUM_CLASSES,\n",
    "    n_estimators=300,\n",
    "    learning_rate=0.1,\n",
    "    num_leaves=32,\n",
    "    max_depth=-1,\n",
    "    subsample=0.8,\n",
    "    colsample_bytree=0.8,\n",
    "    random_state=42,\n",
    "    n_jobs=-1,\n",
    ")\n",
    "\n",
    "print(\"Melatih LightGBM...\")\n",
    "start_time_lgbm = time.time()\n",
    "# Gunakan data validasi untuk early stopping\n",
    "eval_set_lgbm = [(X_val_tfidf, y_val)]\n",
    "\n",
    "model_lgbm.fit(X_train_tfidf, y_train,\n",
    "               eval_set=eval_set_lgbm,\n",
    "               eval_metric='multi_logloss',\n",
    "               # Callback untuk early stopping dalam API scikit-learn\n",
    "               callbacks=[lgbm.early_stopping(stopping_rounds=20, verbose=False)]\n",
    "              )\n",
    "end_time_lgbm = time.time()\n",
    "print(f\"Pelatihan LightGBM selesai. Waktu: {end_time_lgbm - start_time_lgbm:.2f} detik.\")\n",
    "\n",
    "# Evaluasi cepat\n",
    "acc_train_lgbm = model_lgbm.score(X_train_tfidf, y_train)\n",
    "acc_val_lgbm = model_lgbm.score(X_val_tfidf, y_val)\n",
    "print(f\"Akurasi LightGBM - Train: {acc_train_lgbm:.4f}, Validation: {acc_val_lgbm:.4f}\")\n",
    "history['lgbm'] = {'model': model_lgbm, 'train_accuracy': acc_train_lgbm, 'val_accuracy': acc_val_lgbm}"
   ]
  },
  {
   "cell_type": "markdown",
   "id": "e4f49d5b",
   "metadata": {},
   "source": [
    "## Fase 9: Evaluasi & Pemilihan Model Terbaik"
   ]
  },
  {
   "cell_type": "code",
   "execution_count": 49,
   "id": "8f897c83",
   "metadata": {},
   "outputs": [
    {
     "name": "stdout",
     "output_type": "stream",
     "text": [
      "\n",
      "Tahap 9: Evaluasi & Pemilihan Model Terbaik\n"
     ]
    }
   ],
   "source": [
    "print(\"\\nTahap 9: Evaluasi & Pemilihan Model Terbaik\")\n",
    "\n",
    "results = {}\n",
    "best_model_name = None\n",
    "best_test_accuracy = 0.0\n",
    "best_val_accuracy = 0.0 # Gunakan akurasi validasi sebagai kriteria utama"
   ]
  },
  {
   "cell_type": "markdown",
   "id": "6ce7390c",
   "metadata": {},
   "source": [
    "### ANN"
   ]
  },
  {
   "cell_type": "code",
   "execution_count": 50,
   "id": "3289877b",
   "metadata": {},
   "outputs": [
    {
     "name": "stdout",
     "output_type": "stream",
     "text": [
      "\n",
      "Mengevaluasi ANN ...\n",
      "94/94 [==============================] - 1s 3ms/step\n",
      "\\nANN :\n",
      "  Train Acc (Best): 0.8855, Val Acc (Best): 0.8880, Test Acc: 0.8770\n",
      "  Classification Report (Test Set):\n",
      "              precision    recall  f1-score   support\n",
      "\n",
      "    negative       0.85      0.79      0.82      1000\n",
      "     neutral       0.81      0.87      0.84       999\n",
      "    positive       0.98      0.97      0.97      1000\n",
      "\n",
      "    accuracy                           0.88      2999\n",
      "   macro avg       0.88      0.88      0.88      2999\n",
      "weighted avg       0.88      0.88      0.88      2999\n",
      "\n",
      "*** ANN menjadi kandidat terbaik (Memenuhi Min >85%) ***\n"
     ]
    }
   ],
   "source": [
    "# --- Evaluasi ANN  ---\n",
    "# Gunakan key yang benar saat menyimpan history dari .fit()\n",
    "if 'fasttext_ann' in history and model_tf_ann is not None:\n",
    "    print(\"\\nMengevaluasi ANN ...\")\n",
    "    # Dapatkan prediksi probabilitas dari model\n",
    "    y_pred_proba_ann = model_tf_ann.predict(X_test_pad)\n",
    "    # Konversi probabilitas ke kelas prediksi (indeks kelas dengan probabilitas tertinggi)\n",
    "    y_pred_ann = np.argmax(y_pred_proba_ann, axis=1)\n",
    "\n",
    "    # Hitung akurasi test\n",
    "    acc_test_ann = accuracy_score(y_test, y_pred_ann)\n",
    "\n",
    "    # Tentukan kunci metrik yang benar\n",
    "    keras_val_acc_key = 'val_accuracy' if 'val_accuracy' in history['fasttext_ann'].history else ('val_acc' if 'val_acc' in history['fasttext_ann'].history else None)\n",
    "    if keras_val_acc_key:\n",
    "        val_acc_ann = max(history['fasttext_ann'].history[keras_val_acc_key])\n",
    "    else:\n",
    "        print(f\"Warning: Metric validasi ('val_accuracy' atau 'val_acc') tidak ditemukan di history ANN. Setting val_acc ke 0.\")\n",
    "        val_acc_ann = 0.0\n",
    "    \n",
    "    # Ambil akurasi training terbaik dari history Keras\n",
    "    keras_train_acc_key = 'accuracy' if 'accuracy' in history['fasttext_ann'].history else ('acc' if 'acc' in history['fasttext_ann'].history else None)\n",
    "    if keras_train_acc_key:\n",
    "        train_acc_ann = max(history['fasttext_ann'].history[keras_train_acc_key])\n",
    "    else:\n",
    "        print(f\"Warning: Metric training ('accuracy' atau 'acc') tidak ditemukan di history ANN. Setting train_acc ke 0.\")\n",
    "        train_acc_ann = 0.0\n",
    "    \n",
    "    results['ANN'] = {'train_acc': train_acc_ann, 'val_acc': val_acc_ann, 'test_acc': acc_test_ann}\n",
    "    print(f\"\\\\nANN :\")\n",
    "    print(f\"  Train Acc (Best): {train_acc_ann:.4f}, Val Acc (Best): {val_acc_ann:.4f}, Test Acc: {acc_test_ann:.4f}\")\n",
    "    print(\"  Classification Report (Test Set):\")\n",
    "    print(classification_report(y_test, y_pred_ann, target_names=label_encoder.classes_, zero_division=0))\n",
    "    \n",
    "    # --- Logika pemilihan model terbaik (tetap sama) ---\n",
    "    if val_acc_ann > best_val_accuracy and acc_test_ann >= 0.85: # Memenuhi syarat minimal test acc\n",
    "       if acc_test_ann >= 0.92 and train_acc_ann >= 0.92: # Memenuhi syarat ideal\n",
    "            best_val_accuracy = val_acc_ann\n",
    "            best_test_accuracy = acc_test_ann\n",
    "            best_model_name = 'ANN' # Ganti nama\n",
    "            print(f\"*** ANN menjadi kandidat terbaik (Ideal) ***\")\n",
    "       elif best_model_name is None or not (results.get(best_model_name, {}).get('test_acc', 0) >= 0.92 and results.get(best_model_name, {}).get('train_acc', 0) >= 0.92):\n",
    "           # Hanya update jika belum ada model sama sekali, ATAU\n",
    "           # jika model terbaik saat ini BUKAN model ideal\n",
    "           best_val_accuracy = val_acc_ann\n",
    "           best_test_accuracy = acc_test_ann\n",
    "           best_model_name = 'ANN' # Ganti nama\n",
    "           print(f\"*** ANN menjadi kandidat terbaik (Memenuhi Min >85%) ***\")\n",
    "\n",
    "else:\n",
    "    print(\"\\nANN  tidak dievaluasi (tidak ditemukan di history atau model=None).\")"
   ]
  },
  {
   "cell_type": "markdown",
   "id": "e8f97504",
   "metadata": {},
   "source": [
    "### CNN"
   ]
  },
  {
   "cell_type": "code",
   "execution_count": 51,
   "id": "94bb2f72",
   "metadata": {},
   "outputs": [
    {
     "name": "stdout",
     "output_type": "stream",
     "text": [
      "\n",
      "Mengevaluasi CNN ...\n",
      "94/94 [==============================] - 1s 5ms/step\n",
      "\\nCNN :\n",
      "  Train Acc (Best): 0.9284, Val Acc (Best): 0.9196, Test Acc: 0.9133\n",
      "  Classification Report (Test Set):\n",
      "              precision    recall  f1-score   support\n",
      "\n",
      "    negative       0.93      0.81      0.87      1000\n",
      "     neutral       0.83      0.95      0.89       999\n",
      "    positive       0.99      0.98      0.98      1000\n",
      "\n",
      "    accuracy                           0.91      2999\n",
      "   macro avg       0.92      0.91      0.91      2999\n",
      "weighted avg       0.92      0.91      0.91      2999\n",
      "\n",
      "*** CNN menjadi kandidat terbaik (Memenuhi Min >85%) ***\n"
     ]
    }
   ],
   "source": [
    "# --- Evaluasi CNN ---\n",
    "# Gunakan key yang benar saat menyimpan history dari .fit()\n",
    "if 'fasttext_cnn' in history and model_tf_cnn is not None:\n",
    "    print(\"\\nMengevaluasi CNN ...\")\n",
    "    # Dapatkan prediksi probabilitas\n",
    "    y_pred_proba_cnn = model_tf_cnn.predict(X_test_pad)\n",
    "    # Konversi ke kelas prediksi\n",
    "    y_pred_cnn = np.argmax(y_pred_proba_cnn, axis=1)\n",
    "\n",
    "    # Hitung akurasi test\n",
    "    acc_test_cnn = accuracy_score(y_test, y_pred_cnn)\n",
    "\n",
    "        # Ambil akurasi validasi terbaik dari history Keras\n",
    "    keras_val_acc_key_cnn = 'val_accuracy' if 'val_accuracy' in history['fasttext_cnn'].history else ('val_acc' if 'val_acc' in history['fasttext_cnn'].history else None)\n",
    "    if keras_val_acc_key_cnn:\n",
    "        val_acc_cnn = max(history['fasttext_cnn'].history[keras_val_acc_key_cnn])\n",
    "    else:\n",
    "        print(f\"Warning: Metric validasi ('val_accuracy' atau 'val_acc') tidak ditemukan di history CNN. Setting val_acc ke 0.\")\n",
    "        val_acc_cnn = 0.0\n",
    "    \n",
    "    # Ambil akurasi training terbaik dari history Keras\n",
    "    keras_train_acc_key_cnn = 'accuracy' if 'accuracy' in history['fasttext_cnn'].history else ('acc' if 'acc' in history['fasttext_cnn'].history else None)\n",
    "    if keras_train_acc_key_cnn:\n",
    "        train_acc_cnn = max(history['fasttext_cnn'].history[keras_train_acc_key_cnn])\n",
    "    else:\n",
    "        print(f\"Warning: Metric training ('accuracy' atau 'acc') tidak ditemukan di history CNN. Setting train_acc ke 0.\")\n",
    "        train_acc_cnn = 0.0\n",
    "    \n",
    "    results['CNN'] = {'train_acc': train_acc_cnn, 'val_acc': val_acc_cnn, 'test_acc': acc_test_cnn}\n",
    "    print(f\"\\\\nCNN :\")\n",
    "    print(f\"  Train Acc (Best): {train_acc_cnn:.4f}, Val Acc (Best): {val_acc_cnn:.4f}, Test Acc: {acc_test_cnn:.4f}\")\n",
    "    print(\"  Classification Report (Test Set):\")\n",
    "    print(classification_report(y_test, y_pred_cnn, target_names=label_encoder.classes_, zero_division=0))\n",
    "    \n",
    "    # --- Logika pemilihan model terbaik (tetap sama) ---\n",
    "    if val_acc_cnn > best_val_accuracy and acc_test_cnn >= 0.85:\n",
    "       if acc_test_cnn >= 0.92 and train_acc_cnn >= 0.92:\n",
    "            best_val_accuracy = val_acc_cnn\n",
    "            best_test_accuracy = acc_test_cnn\n",
    "            best_model_name = 'CNN' # Ganti nama\n",
    "            print(f\"*** CNN menjadi kandidat terbaik (Ideal) ***\")\n",
    "       elif best_model_name is None or not (results.get(best_model_name, {}).get('test_acc', 0) >= 0.92 and results.get(best_model_name, {}).get('train_acc', 0) >= 0.92):\n",
    "           best_val_accuracy = val_acc_cnn\n",
    "           best_test_accuracy = acc_test_cnn\n",
    "           best_model_name = 'CNN' # Ganti nama\n",
    "           print(f\"*** CNN menjadi kandidat terbaik (Memenuhi Min >85%) ***\")\n",
    "\n",
    "else:\n",
    "    print(\"\\nCNN  tidak dievaluasi (tidak ditemukan di history atau model=None).\")"
   ]
  },
  {
   "cell_type": "markdown",
   "id": "77c54608",
   "metadata": {},
   "source": [
    "### Random Forest"
   ]
  },
  {
   "cell_type": "code",
   "execution_count": 52,
   "id": "32bdd628",
   "metadata": {},
   "outputs": [
    {
     "name": "stdout",
     "output_type": "stream",
     "text": [
      "\n",
      "Random Forest:\n",
      "  Train Acc: 0.9335, Val Acc: 0.9263, Test Acc: 0.9193\n",
      "  Classification Report (Test Set):\n",
      "              precision    recall  f1-score   support\n",
      "\n",
      "    negative       0.94      0.82      0.88      1000\n",
      "     neutral       0.86      0.96      0.90       999\n",
      "    positive       0.97      0.98      0.97      1000\n",
      "\n",
      "    accuracy                           0.92      2999\n",
      "   macro avg       0.92      0.92      0.92      2999\n",
      "weighted avg       0.92      0.92      0.92      2999\n",
      "\n"
     ]
    }
   ],
   "source": [
    "# --- Evaluasi Random Forest ---\n",
    "if 'rf' in history:\n",
    "    model_rf = history['rf']['model']\n",
    "    y_pred_rf = model_rf.predict(X_test_tfidf)\n",
    "    acc_test_rf = accuracy_score(y_test, y_pred_rf)\n",
    "    val_acc_rf = history['rf']['val_accuracy']\n",
    "    train_acc_rf = history['rf']['train_accuracy']\n",
    "    results['RF'] = {'train_acc': train_acc_rf, 'val_acc': val_acc_rf, 'test_acc': acc_test_rf}\n",
    "    print(f\"\\nRandom Forest:\")\n",
    "    print(f\"  Train Acc: {train_acc_rf:.4f}, Val Acc: {val_acc_rf:.4f}, Test Acc: {acc_test_rf:.4f}\")\n",
    "    print(\"  Classification Report (Test Set):\")\n",
    "    print(classification_report(y_test, y_pred_rf, target_names=label_encoder.classes_))\n",
    "    if val_acc_rf > best_val_accuracy and acc_test_rf >= 0.85:\n",
    "       if acc_test_rf >= 0.92 and train_acc_rf >= 0.92:\n",
    "            best_val_accuracy = val_acc_rf\n",
    "            best_test_accuracy = acc_test_rf\n",
    "            best_model_name = 'RF'\n",
    "       elif best_model_name is None or (results[best_model_name]['test_acc'] < 0.92 or results[best_model_name]['train_acc'] < 0.92):\n",
    "           best_val_accuracy = val_acc_rf\n",
    "           best_test_accuracy = acc_test_rf\n",
    "           best_model_name = 'RF'"
   ]
  },
  {
   "cell_type": "markdown",
   "id": "196d4961",
   "metadata": {},
   "source": [
    "### XGBoost"
   ]
  },
  {
   "cell_type": "code",
   "execution_count": 53,
   "id": "5086d0d9",
   "metadata": {},
   "outputs": [
    {
     "name": "stdout",
     "output_type": "stream",
     "text": [
      "\n",
      "Model XGBoost adalah Native Booster. Mengonversi data test ke DMatrix...\n",
      "Melakukan prediksi XGBoost...\n",
      "\n",
      "XGBoost:\n",
      "  Train Acc: 0.9329, Val Acc: 0.9250, Test Acc: 0.9166\n",
      "  Classification Report (Test Set):\n",
      "              precision    recall  f1-score   support\n",
      "\n",
      "    negative       0.95      0.81      0.87      1000\n",
      "     neutral       0.83      0.97      0.90       999\n",
      "    positive       0.99      0.97      0.98      1000\n",
      "\n",
      "    accuracy                           0.92      2999\n",
      "   macro avg       0.92      0.92      0.92      2999\n",
      "weighted avg       0.92      0.92      0.92      2999\n",
      "\n"
     ]
    }
   ],
   "source": [
    "# --- Evaluasi XGBoost ---\n",
    "if 'xgb' in history:\n",
    "    # Pastikan model_xgb adalah objek Booster dari xgb.train\n",
    "    model_xgb = history['xgb']['model']\n",
    "    if isinstance(model_xgb, xgb.Booster): # Tambahkan pengecekan tipe untuk keamanan\n",
    "        print(\"\\nModel XGBoost adalah Native Booster. Mengonversi data test ke DMatrix...\")\n",
    "        # Konversi data test TF-IDF ke DMatrix\n",
    "        dtest_xgb = xgb.DMatrix(X_test_tfidf) # Tidak perlu label untuk prediksi\n",
    "\n",
    "        print(\"Melakukan prediksi XGBoost...\")\n",
    "        y_pred_xgb = model_xgb.predict(dtest_xgb) # Gunakan DMatrix untuk prediksi\n",
    "        # Hasil predict dari multi:softmax biasanya float, perlu dibulatkan/di-cast jika perlu\n",
    "        # Namun, accuracy_score biasanya bisa menangani ini. Jika ada error, cast ke int:\n",
    "        # y_pred_xgb = y_pred_xgb.astype(int)\n",
    "\n",
    "        acc_test_xgb = accuracy_score(y_test, y_pred_xgb)\n",
    "        val_acc_xgb = history['xgb']['val_accuracy'] # Akurasi validasi saat early stopping\n",
    "        train_acc_xgb = history['xgb']['train_accuracy']\n",
    "        results['XGBoost'] = {'train_acc': train_acc_xgb, 'val_acc': val_acc_xgb, 'test_acc': acc_test_xgb}\n",
    "\n",
    "        print(f\"\\nXGBoost:\")\n",
    "        print(f\"  Train Acc: {train_acc_xgb:.4f}, Val Acc: {val_acc_xgb:.4f}, Test Acc: {acc_test_xgb:.4f}\")\n",
    "        print(\"  Classification Report (Test Set):\")\n",
    "        # Pastikan y_pred_xgb dan y_test memiliki tipe yang bisa dibandingkan (biasanya int)\n",
    "        print(classification_report(y_test, y_pred_xgb.astype(int), target_names=label_encoder.classes_, zero_division=0)) # Tambahkan zero_division\n",
    "\n",
    "        # Logika pemilihan model terbaik (tetap sama, tambahkan print untuk kejelasan)\n",
    "        if val_acc_xgb > best_val_accuracy and acc_test_xgb >= 0.85:\n",
    "           if acc_test_xgb >= 0.92 and train_acc_xgb >= 0.92:\n",
    "                best_val_accuracy = val_acc_xgb\n",
    "                best_test_accuracy = acc_test_xgb\n",
    "                best_model_name = 'XGBoost'\n",
    "                print(f\"*** XGBoost menjadi kandidat terbaik (Ideal) ***\")\n",
    "           elif best_model_name is None or not (results.get(best_model_name, {}).get('test_acc', 0) >= 0.92 and results.get(best_model_name, {}).get('train_acc', 0) >= 0.92):\n",
    "               best_val_accuracy = val_acc_xgb\n",
    "               best_test_accuracy = acc_test_xgb\n",
    "               best_model_name = 'XGBoost'\n",
    "               print(f\"*** XGBoost menjadi kandidat terbaik (Memenuhi Min >85%) ***\")\n",
    "\n",
    "else:\n",
    "     print(\"\\nXGBoost tidak dievaluasi (tidak ditemukan di history).\")"
   ]
  },
  {
   "cell_type": "markdown",
   "id": "fbe3d766",
   "metadata": {},
   "source": [
    "### LightGBM"
   ]
  },
  {
   "cell_type": "code",
   "execution_count": 54,
   "id": "8cacfb81",
   "metadata": {},
   "outputs": [
    {
     "name": "stdout",
     "output_type": "stream",
     "text": [
      "\n",
      "LightGBM:\n",
      "  Train Acc: 0.9467, Val Acc: 0.9326, Test Acc: 0.9263\n",
      "  Classification Report (Test Set):\n",
      "              precision    recall  f1-score   support\n",
      "\n",
      "    negative       0.95      0.83      0.89      1000\n",
      "     neutral       0.85      0.97      0.91       999\n",
      "    positive       0.98      0.98      0.98      1000\n",
      "\n",
      "    accuracy                           0.93      2999\n",
      "   macro avg       0.93      0.93      0.93      2999\n",
      "weighted avg       0.93      0.93      0.93      2999\n",
      "\n"
     ]
    }
   ],
   "source": [
    "# --- Evaluasi LightGBM ---\n",
    "if 'lgbm' in history:\n",
    "    model_lgbm = history['lgbm']['model']\n",
    "    y_pred_lgbm = model_lgbm.predict(X_test_tfidf)\n",
    "    acc_test_lgbm = accuracy_score(y_test, y_pred_lgbm)\n",
    "    val_acc_lgbm = history['lgbm']['val_accuracy'] # Akurasi validasi saat early stopping\n",
    "    train_acc_lgbm = history['lgbm']['train_accuracy']\n",
    "    results['LightGBM'] = {'train_acc': train_acc_lgbm, 'val_acc': val_acc_lgbm, 'test_acc': acc_test_lgbm}\n",
    "    print(f\"\\nLightGBM:\")\n",
    "    print(f\"  Train Acc: {train_acc_lgbm:.4f}, Val Acc: {val_acc_lgbm:.4f}, Test Acc: {acc_test_lgbm:.4f}\")\n",
    "    print(\"  Classification Report (Test Set):\")\n",
    "    print(classification_report(y_test, y_pred_lgbm, target_names=label_encoder.classes_))\n",
    "    if val_acc_lgbm > best_val_accuracy and acc_test_lgbm >= 0.85:\n",
    "       if acc_test_lgbm >= 0.92 and train_acc_lgbm >= 0.92:\n",
    "            best_val_accuracy = val_acc_lgbm\n",
    "            best_test_accuracy = acc_test_lgbm\n",
    "            best_model_name = 'LightGBM'\n",
    "       elif best_model_name is None or (results[best_model_name]['test_acc'] < 0.92 or results[best_model_name]['train_acc'] < 0.92):\n",
    "           best_val_accuracy = val_acc_lgbm\n",
    "           best_test_accuracy = acc_test_lgbm\n",
    "           best_model_name = 'LightGBM'"
   ]
  },
  {
   "cell_type": "markdown",
   "id": "33ac84eb",
   "metadata": {},
   "source": [
    "### Select Best Model"
   ]
  },
  {
   "cell_type": "code",
   "execution_count": 55,
   "id": "e90ac4d7",
   "metadata": {},
   "outputs": [
    {
     "name": "stdout",
     "output_type": "stream",
     "text": [
      "\n",
      "--- Ringkasan Hasil & Pemilihan Model Terbaik ---\n",
      "          train_acc   val_acc  test_acc\n",
      "LightGBM   0.946728  0.932644  0.926309\n",
      "RF         0.933472  0.926309  0.919306\n",
      "XGBoost    0.932930  0.924975  0.916639\n",
      "CNN        0.928387  0.919640  0.913304\n",
      "ANN        0.885494  0.887963  0.876959\n",
      "\n",
      "Model terbaik berdasarkan Akurasi Validasi tertinggi (dan memenuhi syarat akurasi): LightGBM\n",
      "  Akurasi Validasi Terbaik: 0.9326\n",
      "  Akurasi Test: 0.9263\n",
      "  Akurasi Train: 0.9467\n",
      "  Target Akurasi (Train > 92%, Test > 92%) TERPENUHI.\n"
     ]
    }
   ],
   "source": [
    "# --- Pemilihan Model Terbaik ---\n",
    "print(\"\\n--- Ringkasan Hasil & Pemilihan Model Terbaik ---\")\n",
    "results_df = pd.DataFrame(results).T # Transpose untuk format tabel yang baik\n",
    "print(results_df.sort_values(by='val_acc', ascending=False))\n",
    "\n",
    "if best_model_name:\n",
    "    print(f\"\\nModel terbaik berdasarkan Akurasi Validasi tertinggi (dan memenuhi syarat akurasi): {best_model_name}\")\n",
    "    print(f\"  Akurasi Validasi Terbaik: {best_val_accuracy:.4f}\")\n",
    "    print(f\"  Akurasi Test: {best_test_accuracy:.4f}\")\n",
    "    print(f\"  Akurasi Train: {results[best_model_name]['train_acc']:.4f}\")\n",
    "\n",
    "    # Cek apakah target akurasi terpenuhi\n",
    "    if results[best_model_name]['train_acc'] >= 0.92 and results[best_model_name]['test_acc'] >= 0.92:\n",
    "         print(\"  Target Akurasi (Train > 92%, Test > 92%) TERPENUHI.\")\n",
    "    elif results[best_model_name]['test_acc'] >= 0.85:\n",
    "         print(\"  Target Akurasi (Test > 85%) TERPENUHI.\")\n",
    "    else:\n",
    "         print(\"  PERINGATAN: Target Akurasi Minimal (Test > 85%) TIDAK TERPENUHI oleh model terbaik.\")\n",
    "\n",
    "else:\n",
    "    print(\"\\nTidak ada model yang memenuhi kriteria pemilihan (Val Acc tertinggi & Test Acc >= 85%).\")\n",
    "    # Pilih berdasarkan test accuracy tertinggi saja jika tidak ada yg memenuhi kriteria val acc\n",
    "    best_model_name_test = results_df[results_df['test_acc'] >= 0.85]['test_acc'].idxmax() if not results_df[results_df['test_acc'] >= 0.85].empty else results_df['test_acc'].idxmax()\n",
    "    print(f\"Model dengan Test Accuracy tertinggi: {best_model_name_test} ({results_df.loc[best_model_name_test, 'test_acc']:.4f})\")\n",
    "    best_model_name = best_model_name_test # Gunakan ini untuk inference"
   ]
  },
  {
   "cell_type": "markdown",
   "id": "c2d2e2be",
   "metadata": {},
   "source": [
    "## Fase 10: Inference (Pengujian pada Data Baru)"
   ]
  },
  {
   "cell_type": "code",
   "execution_count": 56,
   "id": "dc9bf30f",
   "metadata": {},
   "outputs": [
    {
     "name": "stdout",
     "output_type": "stream",
     "text": [
      "\n",
      "Tahap 10: Inference\n",
      "Melakukan inference menggunakan model terbaik: LightGBM\n",
      "Menggunakan model LightGBM (dari history).\n"
     ]
    }
   ],
   "source": [
    "print(\"\\nTahap 10: Inference\")\n",
    "\n",
    "if not best_model_name:\n",
    "    print(\"Tidak ada model terbaik yang dipilih, inference tidak dapat dilakukan.\")\n",
    "else:\n",
    "    print(f\"Melakukan inference menggunakan model terbaik: {best_model_name}\")\n",
    "\n",
    "    # --- Map best_model_name to the actual model object ---\n",
    "    best_model_obj = None\n",
    "    is_deep_learning_model = False\n",
    "    is_xgboost_native = False # Flag if the XGBoost model is from xgb.train\n",
    "\n",
    "    # Ambil model object dari history dictionary atau variabel model langsung\n",
    "    if best_model_name == 'ANN':\n",
    "        # Coba ambil dari history dulu\n",
    "        if 'fasttext_ann' in history and hasattr(history['fasttext_ann'], 'model') and history['fasttext_ann'].model is not None:\n",
    "            best_model_obj = history['fasttext_ann'].model # Akses atribut .model\n",
    "            is_deep_learning_model = True\n",
    "            print(\"Menggunakan model TensorFlow ANN (dari history).\")\n",
    "        # Fallback ke variabel model jika tidak ada di history\n",
    "        elif 'model_tf_ann' in locals() and model_tf_ann is not None:\n",
    "            best_model_obj = model_tf_ann\n",
    "            is_deep_learning_model = True\n",
    "            print(\"Menggunakan model TensorFlow ANN (dari locals).\")\n",
    "        else:\n",
    "             print(f\"ERROR: Model object untuk '{best_model_name}' tidak ditemukan atau None.\")\n",
    "             best_model_name = None\n",
    "\n",
    "    elif best_model_name == 'CNN':\n",
    "         # Coba ambil dari history dulu\n",
    "        if 'fasttext_cnn' in history and hasattr(history['fasttext_cnn'], 'model') and history['fasttext_cnn'].model is not None:\n",
    "            best_model_obj = history['fasttext_cnn'].model # Akses atribut .model\n",
    "            is_deep_learning_model = True\n",
    "            print(\"Menggunakan model TensorFlow CNN (dari history).\")\n",
    "         # Fallback ke variabel model jika tidak ada di history\n",
    "        elif 'model_tf_cnn' in locals() and model_tf_cnn is not None:\n",
    "            best_model_obj = model_tf_cnn\n",
    "            is_deep_learning_model = True\n",
    "            print(\"Menggunakan model TensorFlow CNN (dari locals).\")\n",
    "        else:\n",
    "             print(f\"ERROR: Model object untuk '{best_model_name}' tidak ditemukan atau None.\")\n",
    "             best_model_name = None\n",
    "\n",
    "    elif best_model_name == 'RF':\n",
    "        if 'rf' in history and history['rf'].get('model') is not None:\n",
    "            best_model_obj = history['rf']['model']\n",
    "            print(\"Menggunakan model Random Forest (dari history).\")\n",
    "        elif 'model_rf' in locals() and model_rf is not None:\n",
    "             best_model_obj = model_rf\n",
    "             print(\"Menggunakan model Random Forest (dari locals).\")\n",
    "        else:\n",
    "             print(f\"ERROR: Model object untuk '{best_model_name}' tidak ditemukan atau None.\")\n",
    "             best_model_name = None\n",
    "\n",
    "    elif best_model_name == 'XGBoost': # Sesuaikan dengan key di results\n",
    "        if 'xgb' in history and history['xgb'].get('model') is not None:\n",
    "            best_model_obj = history['xgb']['model']\n",
    "            print(\"Menggunakan model XGBoost (dari history).\")\n",
    "        elif 'model_xgb' in locals() and model_xgb is not None:\n",
    "             best_model_obj = model_xgb\n",
    "             print(\"Menggunakan model XGBoost (dari locals).\")\n",
    "        else:\n",
    "             print(f\"ERROR: Model object untuk '{best_model_name}' tidak ditemukan atau None.\")\n",
    "             best_model_name = None\n",
    "\n",
    "        # Cek tipe model XGBoost *setelah* dipastikan tidak None\n",
    "        if best_model_obj is not None:\n",
    "             if isinstance(best_model_obj, xgb.Booster):\n",
    "                 is_xgboost_native = True\n",
    "                 print(\"(Model adalah Native API Booster)\")\n",
    "             # else:\n",
    "             #     print(\"(Model adalah Scikit-learn API Wrapper)\")\n",
    "\n",
    "    elif best_model_name == 'LightGBM':\n",
    "        if 'lgbm' in history and history['lgbm'].get('model') is not None:\n",
    "            best_model_obj = history['lgbm']['model']\n",
    "            print(\"Menggunakan model LightGBM (dari history).\")\n",
    "        elif 'model_lgbm' in locals() and model_lgbm is not None:\n",
    "             best_model_obj = model_lgbm\n",
    "             print(\"Menggunakan model LightGBM (dari locals).\")\n",
    "        else:\n",
    "             print(f\"ERROR: Model object untuk '{best_model_name}' tidak ditemukan atau None.\")\n",
    "             best_model_name = None\n",
    "    else:\n",
    "        # Kasus jika best_model_name tidak cocok dengan opsi di atas\n",
    "        print(f\"ERROR: Nama model terbaik '{best_model_name}' tidak dikenal atau model tidak ditemukan.\")\n",
    "        best_model_name = None # Reset"
   ]
  },
  {
   "cell_type": "code",
   "execution_count": 57,
   "id": "08d4d385",
   "metadata": {},
   "outputs": [
    {
     "name": "stdout",
     "output_type": "stream",
     "text": [
      "\n",
      "--- Contoh Inference ---\n",
      "Index Sampel: 11650 (iloc: 419)\n",
      "Review Asli: \n",
      "Îs this app only usable in the USA? Cause when try register it asks to give the state I live in...\n",
      "\n",
      "Review setelah Deep Cleaning: \n",
      "îs usable usa cause try register asks give state live\n",
      "\n",
      "Label Sebenarnya: neutral (Encoded: 1)\n",
      "\n",
      "Prediksi Model (LightGBM): neutral (Encoded: 1)\n",
      "-------------------------\n",
      "\n",
      "--- Uji Fungsi Prediksi Teks Bebas ---\n",
      "Teks: 'This app is amazing! So easy to use and very helpful features.'\n",
      "Prediksi Sentimen (LightGBM): positive\n",
      "\n",
      "Teks: 'Worst app ever. It keeps crashing and losing my data. Stay away!'\n",
      "Prediksi Sentimen (LightGBM): negative\n",
      "\n",
      "Teks: 'It's decent. Does the basic functions but lacks advanced options.'\n",
      "Prediksi Sentimen (LightGBM): neutral\n",
      "\n",
      "Teks: ''\n",
      "Prediksi Sentimen (LightGBM): Input tidak valid (teks kosong atau bukan string)\n",
      "\n",
      "Teks: '????? #### !!!! 12345'\n",
      "Prediksi Sentimen (LightGBM): Teks menjadi kosong setelah cleaning\n",
      "\n"
     ]
    }
   ],
   "source": [
    "if best_model_name and best_model_obj:\n",
    "    # Pilih data acak dari Test Set\n",
    "    try:\n",
    "        if isinstance(X_test, pd.Series):\n",
    "            random_idx_loc = random.randint(0, len(X_test) - 1)\n",
    "            random_idx_orig = X_test.index[random_idx_loc] # Get original index if X_test is Series\n",
    "            test_sample_text_cleaned = X_test.iloc[random_idx_loc]\n",
    "            true_label_encoded = y_test[random_idx_loc] # Assuming y_test is aligned by iloc\n",
    "        else: # Assume X_test and y_test are NumPy arrays\n",
    "            random_idx_loc = random.randint(0, len(X_test) - 1)\n",
    "            random_idx_orig = random_idx_loc # Use integer index\n",
    "            test_sample_text_cleaned = X_test[random_idx_loc]\n",
    "            true_label_encoded = y_test[random_idx_loc]\n",
    "\n",
    "        # Cari teks asli dengan penanganan error yang lebih baik\n",
    "        original_text = \"[Teks asli tidak dapat ditemukan]\" # Default\n",
    "        try:\n",
    "            # Pastikan kolom 'review_text_deep_cleaned' ada di df_final\n",
    "            if 'review_text_deep_cleaned' in df_final.columns and 'review_text' in df_final.columns:\n",
    "                original_text_candidates = df_final[df_final['review_text_deep_cleaned'] == test_sample_text_cleaned]\n",
    "                if not original_text_candidates.empty:\n",
    "                    # Jika ada duplikat setelah cleaning, ambil yang pertama (mungkin tidak sempurna)\n",
    "                    original_text = original_text_candidates.iloc[0]['review_text']\n",
    "                else:\n",
    "                    original_text = \"[Teks asli tidak ditemukan untuk teks cleaned ini]\"\n",
    "                    if isinstance(X_test, pd.Series):\n",
    "                         random_idx_orig = f\"iloc:{random_idx_loc}\" # Gunakan iloc jika original index lookup gagal\n",
    "            else:\n",
    "                 original_text = \"[Kolom teks tidak ditemukan di df_final]\"\n",
    "\n",
    "        except Exception as e:\n",
    "            print(f\"Error saat mencari teks asli: {e}\")\n",
    "            if isinstance(X_test, pd.Series):\n",
    "                 random_idx_orig = f\"iloc:{random_idx_loc}\"\n",
    "\n",
    "        true_label_text = label_encoder.inverse_transform([true_label_encoded])[0]\n",
    "\n",
    "        print(f\"\\n--- Contoh Inference ---\")\n",
    "        print(f\"Index Sampel: {random_idx_orig} (iloc: {random_idx_loc})\")\n",
    "        print(f\"Review Asli: \\n{original_text}\")\n",
    "        print(f\"\\nReview setelah Deep Cleaning: \\n{test_sample_text_cleaned}\")\n",
    "        print(f\"\\nLabel Sebenarnya: {true_label_text} (Encoded: {true_label_encoded})\")\n",
    "\n",
    "        # Preprocessing dan Prediksi sesuai model terbaik\n",
    "        predicted_label_encoded = -1 # Default\n",
    "\n",
    "        if is_deep_learning_model:\n",
    "            # Preprocessing untuk Deep Learning Model \n",
    "            test_sample_seq = tokenizer.texts_to_sequences([test_sample_text_cleaned])\n",
    "            test_sample_pad = pad_sequences(test_sample_seq, maxlen=MAX_LEN, padding='post', truncating='post')\n",
    "\n",
    "            # Prediksi dengan model Keras\n",
    "            # Gunakan verbose=0 untuk menekan output progress bar prediksi tunggal\n",
    "            y_pred_proba = best_model_obj.predict(test_sample_pad, verbose=0)\n",
    "            predicted_label_encoded = np.argmax(y_pred_proba, axis=1)[0] # Get index of max probability\n",
    "\n",
    "        else: # Model berbasis TF-IDF (RF, XGB, LGBM)\n",
    "            test_sample_tfidf = tfidf_vectorizer.transform([test_sample_text_cleaned])\n",
    "\n",
    "            if is_xgboost_native:\n",
    "                # XGBoost Native API expects DMatrix\n",
    "                dtest_sample = xgb.DMatrix(test_sample_tfidf)\n",
    "                predicted_label_encoded = best_model_obj.predict(dtest_sample)[0]\n",
    "                predicted_label_encoded = int(predicted_label_encoded) # Output might be float\n",
    "            else:\n",
    "                # Scikit-learn compatible models (RF, LGBM, XGB wrapper)\n",
    "                predicted_label_encoded = best_model_obj.predict(test_sample_tfidf)[0]\n",
    "\n",
    "        # Konversi hasil prediksi ke label teks\n",
    "        if predicted_label_encoded != -1:\n",
    "            predicted_label_text = label_encoder.inverse_transform([predicted_label_encoded])[0]\n",
    "            print(f\"\\nPrediksi Model ({best_model_name}): {predicted_label_text} (Encoded: {predicted_label_encoded})\")\n",
    "        else:\n",
    "            print(f\"\\nPrediksi Model ({best_model_name}): GAGAL\")\n",
    "\n",
    "        print(\"-\" * 25)\n",
    "\n",
    "    except IndexError:\n",
    "         print(f\"Error: Gagal mengambil sampel acak dari data test. Pastikan X_test dan y_test tidak kosong dan selaras.\")\n",
    "    except Exception as e:\n",
    "         print(f\"Terjadi error saat melakukan inference pada sampel acak: {e}\")\n",
    "\n",
    "\n",
    "    # --- Fungsi untuk prediksi teks bebas ---\n",
    "    # Pastikan fungsi deep_clean_text sudah didefinisikan sebelumnya\n",
    "    def predict_sentiment(text, model_name_func, model_obj_func,\n",
    "                          tokenizer_dl=None, vectorizer_tfidf=None, label_enc=None,\n",
    "                          max_len_dl=None, is_dl_func=False, is_xgb_native_func=False):\n",
    "        if not text or not isinstance(text, str):\n",
    "             return \"Input tidak valid (teks kosong atau bukan string)\"\n",
    "\n",
    "        # 1. Cleaning mendalam\n",
    "        try:\n",
    "            # Pastikan deep_clean_text ada\n",
    "            if 'deep_clean_text' not in globals():\n",
    "                 return \"Error: Fungsi deep_clean_text tidak ditemukan.\"\n",
    "            cleaned_text = deep_clean_text(text)\n",
    "        except Exception as e:\n",
    "            return f\"Error saat cleaning: {e}\"\n",
    "\n",
    "        if not cleaned_text:\n",
    "            return \"Teks menjadi kosong setelah cleaning\"\n",
    "\n",
    "        # 2. Preprocessing & Prediksi\n",
    "        pred_encoded = -1\n",
    "        try:\n",
    "            if is_dl_func: # TensorFlow/Keras Model\n",
    "                if not tokenizer_dl or not max_len_dl: return \"Tokenizer/MaxLen DL tidak disediakan\"\n",
    "                seq = tokenizer_dl.texts_to_sequences([cleaned_text])\n",
    "                pad = pad_sequences(seq, maxlen=max_len_dl, padding='post', truncating='post')\n",
    "                # Prediksi Keras dengan verbose=0\n",
    "                pred_proba = model_obj_func.predict(pad, verbose=0)\n",
    "                pred_encoded = np.argmax(pred_proba, axis=1)[0]\n",
    "\n",
    "            else: # Model berbasis TF-IDF\n",
    "                if not vectorizer_tfidf: return \"Vectorizer TF-IDF tidak disediakan\"\n",
    "                tfidf_vec = vectorizer_tfidf.transform([cleaned_text])\n",
    "\n",
    "                if is_xgb_native_func:\n",
    "                     # XGBoost Native API expects DMatrix\n",
    "                     if not isinstance(model_obj_func, xgb.Booster): return \"Objek model XGBoost native tidak valid\"\n",
    "                     dtest_vec = xgb.DMatrix(tfidf_vec)\n",
    "                     pred_encoded = model_obj_func.predict(dtest_vec)[0]\n",
    "                     pred_encoded = int(pred_encoded) # Convert float to int\n",
    "                else:\n",
    "                     # RF, LGBM, XGB Wrapper\n",
    "                     pred_encoded = model_obj_func.predict(tfidf_vec)[0]\n",
    "\n",
    "        except AttributeError as ae:\n",
    "             return f\"Error: Attribut tidak ditemukan pada model '{model_name_func}'. Mungkin model tidak dimuat dengan benar? ({ae})\"\n",
    "        except Exception as e:\n",
    "            return f\"Error saat preprocessing/prediksi ({model_name_func}): {e}\"\n",
    "\n",
    "        # 3. Decode label\n",
    "        if pred_encoded != -1:\n",
    "            if not label_enc: return \"Label Encoder tidak disediakan\"\n",
    "            try:\n",
    "                 pred_text = label_enc.inverse_transform([pred_encoded])[0]\n",
    "                 return pred_text\n",
    "            except Exception as e:\n",
    "                 return f\"Error saat decoding label: {e}\"\n",
    "        else:\n",
    "            return \"Prediksi Gagal (encoded = -1)\"\n",
    "\n",
    "    # Contoh penggunaan fungsi prediksi\n",
    "    print(\"\\n--- Uji Fungsi Prediksi Teks Bebas ---\")\n",
    "    test_text_1 = \"This app is amazing! So easy to use and very helpful features.\"\n",
    "    test_text_2 = \"Worst app ever. It keeps crashing and losing my data. Stay away!\"\n",
    "    test_text_3 = \"It's decent. Does the basic functions but lacks advanced options.\"\n",
    "    test_text_4 = \"\" # Empty text\n",
    "    test_text_5 = \"????? #### !!!! 12345\" # Text that might become empty or short after cleaning\n",
    "\n",
    "    # Panggil fungsi dengan argumen yang benar\n",
    "    pred1 = predict_sentiment(test_text_1, best_model_name, best_model_obj,\n",
    "                              tokenizer, tfidf_vectorizer, label_encoder, MAX_LEN,\n",
    "                              is_deep_learning_model, is_xgboost_native)\n",
    "    pred2 = predict_sentiment(test_text_2, best_model_name, best_model_obj,\n",
    "                              tokenizer, tfidf_vectorizer, label_encoder, MAX_LEN,\n",
    "                              is_deep_learning_model, is_xgboost_native)\n",
    "    pred3 = predict_sentiment(test_text_3, best_model_name, best_model_obj,\n",
    "                              tokenizer, tfidf_vectorizer, label_encoder, MAX_LEN,\n",
    "                              is_deep_learning_model, is_xgboost_native)\n",
    "    pred4 = predict_sentiment(test_text_4, best_model_name, best_model_obj,\n",
    "                              tokenizer, tfidf_vectorizer, label_encoder, MAX_LEN,\n",
    "                              is_deep_learning_model, is_xgboost_native)\n",
    "    pred5 = predict_sentiment(test_text_5, best_model_name, best_model_obj,\n",
    "                              tokenizer, tfidf_vectorizer, label_encoder, MAX_LEN,\n",
    "                              is_deep_learning_model, is_xgboost_native)\n",
    "\n",
    "\n",
    "    print(f\"Teks: '{test_text_1}'\\nPrediksi Sentimen ({best_model_name}): {pred1}\\n\")\n",
    "    print(f\"Teks: '{test_text_2}'\\nPrediksi Sentimen ({best_model_name}): {pred2}\\n\")\n",
    "    print(f\"Teks: '{test_text_3}'\\nPrediksi Sentimen ({best_model_name}): {pred3}\\n\")\n",
    "    print(f\"Teks: '{test_text_4}'\\nPrediksi Sentimen ({best_model_name}): {pred4}\\n\")\n",
    "    print(f\"Teks: '{test_text_5}'\\nPrediksi Sentimen ({best_model_name}): {pred5}\\n\")\n",
    "\n",
    "else:\n",
    "     # Kondisi ini sudah ditangani di awal, tapi untuk kelengkapan\n",
    "     print(\"Tidak dapat melanjutkan ke pengujian fungsi predict_sentiment karena model terbaik tidak valid.\")"
   ]
  }
 ],
 "metadata": {
  "kernelspec": {
   "display_name": "torch-nlp",
   "language": "python",
   "name": "python3"
  },
  "language_info": {
   "codemirror_mode": {
    "name": "ipython",
    "version": 3
   },
   "file_extension": ".py",
   "mimetype": "text/x-python",
   "name": "python",
   "nbconvert_exporter": "python",
   "pygments_lexer": "ipython3",
   "version": "3.9.19"
  }
 },
 "nbformat": 4,
 "nbformat_minor": 5
}
