{
 "cells": [
  {
   "cell_type": "markdown",
   "id": "5a0af9f5",
   "metadata": {},
   "source": [
    "# **Proyek Analisis Sentimen Review Aplikasi Coinbase**\n",
    "- **Nama:** Harry Mardika\n",
    "- **Email:** harrymardika48@gmail.com\n",
    "- **ID Dicoding:** hkacode"
   ]
  },
  {
   "cell_type": "markdown",
   "id": "6dcb7a00",
   "metadata": {},
   "source": [
    "## Alur Kerja:\n",
    "- Setup & Impor Library\n",
    "- Fase 1: Akuisisi Data (Scraping) & Pembersihan Awal\n",
    "- Fase 2: Pelabelan Sentimen & Penyeimbangan Dataset\n",
    "- Fase 3: Pembersihan Data Mendalam\n",
    "- Fase 4: Pembagian Data (Train, Validation, Test)\n",
    "- Fase 5: Ekstraksi Fitur (TF-IDF & Tokenization/Padding untuk Deep Learning)\n",
    "- Fase 6: Definisi & Pelatihan Model\n",
    "    - Eksperimen 1: Artificial Neural Network (ANN) - PyTorch DirectML\n",
    "    - Eksperimen 2: Convolutional Neural Network (CNN) - PyTorch DirectML\n",
    "    - Eksperimen 3: Random Forest (RF) - Scikit-learn\n",
    "    - Eksperimen 4: XGBoost - Scikit-learn\n",
    "    - Eksperimen 5: LightGBM - Scikit-learn\n",
    "- Fase 7: Evaluasi & Pemilihan Model Terbaik\n",
    "- Fase 8: Inference (Pengujian pada Data Baru)\n"
   ]
  },
  {
   "cell_type": "markdown",
   "id": "56cf2dd9",
   "metadata": {},
   "source": [
    "## Setup & Impor Library"
   ]
  },
  {
   "cell_type": "code",
   "execution_count": 1,
   "id": "9c9e5f5b",
   "metadata": {},
   "outputs": [],
   "source": [
    "# !pip install google-play-scraper pandas numpy nltk scikit-learn xgboost lightgbm matplotlib seaborn tensorflow torch torchvision torchaudio torch-directml"
   ]
  },
  {
   "cell_type": "code",
   "execution_count": 2,
   "id": "94ed97f6",
   "metadata": {},
   "outputs": [
    {
     "name": "stdout",
     "output_type": "stream",
     "text": [
      "Tahap 1: Setup & Impor Library\n",
      "Mengunduh resource NLTK (wordnet)...\n"
     ]
    },
    {
     "name": "stderr",
     "output_type": "stream",
     "text": [
      "[nltk_data] Downloading package wordnet to\n",
      "[nltk_data]     C:\\Users\\harry\\AppData\\Roaming\\nltk_data...\n",
      "[nltk_data]   Package wordnet is already up-to-date!\n"
     ]
    },
    {
     "name": "stdout",
     "output_type": "stream",
     "text": [
      "Menggunakan backend DirectML pada perangkat: AMD Radeon RX 6800S\n",
      "Setup selesai.\n"
     ]
    }
   ],
   "source": [
    "print(\"Tahap 1: Setup & Impor Library\")\n",
    "\n",
    "import pandas as pd\n",
    "import numpy as np\n",
    "import re\n",
    "import nltk\n",
    "import time\n",
    "import os\n",
    "import warnings\n",
    "import random\n",
    "\n",
    "# Scraping\n",
    "from google_play_scraper import reviews_all, Sort, reviews\n",
    "\n",
    "# Text Processing & Labeling\n",
    "from nltk.sentiment.vader import SentimentIntensityAnalyzer\n",
    "from nltk.corpus import stopwords\n",
    "from nltk.stem import WordNetLemmatizer\n",
    "# Pastikan resource NLTK sudah diunduh\n",
    "try:\n",
    "    nltk.data.find('sentiment/vader_lexicon.zip')\n",
    "except:\n",
    "    print(\"Mengunduh resource NLTK (vader_lexicon)...\")\n",
    "    nltk.download('vader_lexicon')\n",
    "try:\n",
    "    nltk.data.find('corpora/stopwords')\n",
    "except:\n",
    "    print(\"Mengunduh resource NLTK (stopwords)...\")\n",
    "    nltk.download('stopwords')\n",
    "try:\n",
    "    nltk.data.find('corpora/wordnet')\n",
    "except:\n",
    "    print(\"Mengunduh resource NLTK (wordnet)...\")\n",
    "    nltk.download('wordnet')\n",
    "\n",
    "\n",
    "# Machine Learning & Deep Learning\n",
    "import fasttext\n",
    "import fasttext.util\n",
    "import xgboost as xgb\n",
    "import lightgbm as lgbm\n",
    "from sklearn.model_selection import train_test_split\n",
    "from sklearn.feature_extraction.text import TfidfVectorizer\n",
    "from sklearn.ensemble import RandomForestClassifier\n",
    "from sklearn.metrics import classification_report, accuracy_score, confusion_matrix\n",
    "from sklearn.preprocessing import LabelEncoder\n",
    "\n",
    "# PyTorch & DirectML\n",
    "import torch\n",
    "import torch.nn as nn\n",
    "import torch.optim as optim\n",
    "from torch.utils.data import Dataset, DataLoader\n",
    "\n",
    "# Coba impor torch_directml\n",
    "try:\n",
    "    import torch_directml\n",
    "    if torch_directml.is_available():\n",
    "        DEVICE = torch_directml.device()\n",
    "        print(f\"Menggunakan backend DirectML pada perangkat: {torch_directml.device_name(0)}\")\n",
    "    else:\n",
    "        DEVICE = torch.device(\"cuda\" if torch.cuda.is_available() else \"cpu\")\n",
    "        print(f\"DirectML tidak tersedia atau tidak terdeteksi. Menggunakan backend PyTorch default: {DEVICE}\")\n",
    "except ImportError:\n",
    "    DEVICE = torch.device(\"cuda\" if torch.cuda.is_available() else \"cpu\")\n",
    "    print(f\"torch_directml tidak terinstal. Menggunakan backend PyTorch default: {DEVICE}\")\n",
    "\n",
    "\n",
    "# Tokenization & Padding (untuk Deep Learning)\n",
    "from tensorflow.keras.preprocessing.text import Tokenizer # Bisa pakai Keras tokenizer untuk kemudahan\n",
    "from tensorflow.keras.preprocessing.sequence import pad_sequences\n",
    "\n",
    "# Visualisasi\n",
    "import matplotlib.pyplot as plt\n",
    "import seaborn as sns\n",
    "\n",
    "# Pengaturan Lain\n",
    "warnings.filterwarnings('ignore')\n",
    "pd.set_option('display.max_colwidth', 150) # Tampilkan teks lebih panjang di Pandas\n",
    "random.seed(42) # Seed untuk reproduktifitas\n",
    "np.random.seed(42)\n",
    "torch.manual_seed(42)\n",
    "if DEVICE.type == 'cuda':\n",
    "    torch.cuda.manual_seed_all(42)\n",
    "\n",
    "print(\"Setup selesai.\")"
   ]
  },
  {
   "cell_type": "markdown",
   "id": "0f0fb158",
   "metadata": {},
   "source": [
    "## Fase 1: Akuisisi Data (Scraping) & Pembersihan Awal"
   ]
  },
  {
   "cell_type": "code",
   "execution_count": 3,
   "id": "7b3d507d",
   "metadata": {},
   "outputs": [
    {
     "name": "stdout",
     "output_type": "stream",
     "text": [
      "\n",
      "Tahap 2: Akuisisi Data & Pembersihan Awal\n"
     ]
    }
   ],
   "source": [
    "print(\"\\nTahap 2: Akuisisi Data & Pembersihan Awal\")\n",
    "\n",
    "# Konfigurasi\n",
    "APP_ID = 'com.coinbase.android'\n",
    "LANG = 'en'\n",
    "COUNTRY = 'us'\n",
    "NUM_REVIEWS_TARGET = 300000\n",
    "RAW_CSV_PATH = 'data/reviews_raw.csv'\n",
    "LIGHT_CLEAN_CSV_PATH = 'data/reviews_lightly_cleaned.csv'"
   ]
  },
  {
   "cell_type": "code",
   "execution_count": 4,
   "id": "9882cc87",
   "metadata": {},
   "outputs": [
    {
     "name": "stdout",
     "output_type": "stream",
     "text": [
      "Memuat data mentah dari data/reviews_raw.csv...\n",
      "Berhasil memuat 172223 review mentah.\n"
     ]
    }
   ],
   "source": [
    "# --- Scraping ---\n",
    "if not os.path.exists(RAW_CSV_PATH):\n",
    "    print(f\"Memulai scraping review untuk {APP_ID}...\")\n",
    "    start_time = time.time()\n",
    "    try:\n",
    "        all_reviews = reviews(\n",
    "            APP_ID,\n",
    "            lang=LANG,\n",
    "            country=COUNTRY,\n",
    "            sort=Sort.NEWEST,\n",
    "            count=NUM_REVIEWS_TARGET\n",
    "        )\n",
    "        \n",
    "        df_raw = pd.DataFrame(all_reviews[0])\n",
    "        print(f\"Scraping selesai. Mendapatkan {len(df_raw)} review.\")\n",
    "        # Ambil kolom yang relevan saja\n",
    "        df_raw = df_raw[['reviewId', 'userName', 'content', 'score', 'thumbsUpCount', 'reviewCreatedVersion', 'at']]\n",
    "        df_raw.rename(columns={'content': 'review_text', 'score': 'rating'}, inplace=True)\n",
    "        df_raw.to_csv(RAW_CSV_PATH, index=False)\n",
    "        print(f\"Data mentah disimpan ke {RAW_CSV_PATH}\")\n",
    "    except Exception as e:\n",
    "        print(f\"Terjadi error saat scraping: {e}\")\n",
    "        df_raw = pd.DataFrame() # Buat dataframe kosong jika gagal\n",
    "    end_time = time.time()\n",
    "    print(f\"Waktu scraping: {end_time - start_time:.2f} detik.\")\n",
    "else:\n",
    "    print(f\"Memuat data mentah dari {RAW_CSV_PATH}...\")\n",
    "    df_raw = pd.read_csv(RAW_CSV_PATH)\n",
    "    print(f\"Berhasil memuat {len(df_raw)} review mentah.\")"
   ]
  },
  {
   "cell_type": "code",
   "execution_count": 5,
   "id": "147a26b5",
   "metadata": {},
   "outputs": [
    {
     "name": "stdout",
     "output_type": "stream",
     "text": [
      "Memuat data hasil pembersihan awal dari data/reviews_lightly_cleaned.csv...\n",
      "Berhasil memuat 138244 review hasil pembersihan awal.\n"
     ]
    }
   ],
   "source": [
    "# --- Pembersihan Awal (Ringan) ---\n",
    "if not df_raw.empty and not os.path.exists(LIGHT_CLEAN_CSV_PATH):\n",
    "    print(\"Memulai pembersihan awal...\")\n",
    "    df_light_clean = df_raw.copy()\n",
    "\n",
    "    # Hapus duplikat berdasarkan review_text (kadang ada review sama persis)\n",
    "    df_light_clean.drop_duplicates(subset=['review_text'], inplace=True)\n",
    "\n",
    "    # Hapus baris dengan review kosong atau NaN\n",
    "    df_light_clean.dropna(subset=['review_text'], inplace=True)\n",
    "    df_light_clean = df_light_clean[df_light_clean['review_text'].str.strip() != '']\n",
    "\n",
    "    # Konversi tipe data jika perlu (rating harus integer)\n",
    "    df_light_clean['rating'] = df_light_clean['rating'].astype(int)\n",
    "\n",
    "    # Pembersihan teks ringan: lowercase\n",
    "    df_light_clean['review_text_cleaned'] = df_light_clean['review_text'].str.lower()\n",
    "\n",
    "    # (Opsional) Hapus URL sederhana jika ada\n",
    "    df_light_clean['review_text_cleaned'] = df_light_clean['review_text_cleaned'].apply(lambda x: re.sub(r'http\\S+|www\\S+|https\\S+', '', x, flags=re.MULTILINE))\n",
    "    # (Opsional) Hapus mention @username jika ada\n",
    "    df_light_clean['review_text_cleaned'] = df_light_clean['review_text_cleaned'].apply(lambda x: re.sub(r'\\@\\w+', '', x))\n",
    "\n",
    "    print(f\"Pembersihan awal selesai. Jumlah data setelah pembersihan: {len(df_light_clean)}\")\n",
    "    df_light_clean.to_csv(LIGHT_CLEAN_CSV_PATH, index=False)\n",
    "    print(f\"Data hasil pembersihan awal disimpan ke {LIGHT_CLEAN_CSV_PATH}\")\n",
    "\n",
    "elif os.path.exists(LIGHT_CLEAN_CSV_PATH):\n",
    "     print(f\"Memuat data hasil pembersihan awal dari {LIGHT_CLEAN_CSV_PATH}...\")\n",
    "     df_light_clean = pd.read_csv(LIGHT_CLEAN_CSV_PATH)\n",
    "     # Pastikan kolom utama ada dan tipe data sesuai\n",
    "     if 'review_text_cleaned' not in df_light_clean.columns and 'review_text' in df_light_clean.columns:\n",
    "         df_light_clean['review_text_cleaned'] = df_light_clean['review_text'].str.lower() # Buat jika belum ada\n",
    "     df_light_clean.dropna(subset=['review_text_cleaned'], inplace=True)\n",
    "     df_light_clean['rating'] = df_light_clean['rating'].astype(int)\n",
    "     print(f\"Berhasil memuat {len(df_light_clean)} review hasil pembersihan awal.\")\n",
    "else:\n",
    "    print(\"Tidak ada data mentah untuk diproses.\")"
   ]
  },
  {
   "cell_type": "markdown",
   "id": "64426fc1",
   "metadata": {},
   "source": [
    "## Fase 2: Pelabelan Sentimen & Penyeimbangan Dataset"
   ]
  },
  {
   "cell_type": "code",
   "execution_count": 6,
   "id": "c4ad9da3",
   "metadata": {},
   "outputs": [
    {
     "name": "stdout",
     "output_type": "stream",
     "text": [
      "\n",
      "Tahap 3: Pelabelan Sentimen & Penyeimbangan Dataset\n"
     ]
    }
   ],
   "source": [
    "print(\"\\nTahap 3: Pelabelan Sentimen & Penyeimbangan Dataset\")\n",
    "\n",
    "BALANCED_DATA_COUNT = 30000 # Jumlah sampel per kelas\n",
    "FINAL_CLEAN_CSV_PATH = 'data/reviews_final_cleaned_balanced.csv'"
   ]
  },
  {
   "cell_type": "code",
   "execution_count": 7,
   "id": "a284f3d8",
   "metadata": {},
   "outputs": [
    {
     "name": "stdout",
     "output_type": "stream",
     "text": [
      "Melakukan pelabelan sentimen menggunakan VADER...\n",
      "Pelabelan selesai.\n",
      "Menyeimbangkan dataset: 30000 sampel per kelas (Positif, Negatif, Netral)...\n",
      "Data negatif ditemukan dan diambil: 28132\n",
      "Data positif ditemukan dan diambil: 30000\n",
      "Data netral ditemukan dan diambil: 30000\n",
      "\n",
      "Jumlah data per kelas setelah penyeimbangan:\n",
      "sentiment_label\n",
      "positive    30000\n",
      "neutral     30000\n",
      "negative    28132\n",
      "Name: count, dtype: int64\n",
      "Data balanced (belum cleaned mendalam) disimpan.\n"
     ]
    }
   ],
   "source": [
    "# --- Pelabelan Sentimen (menggunakan VADER) ---\n",
    "if 'sentiment_label' not in df_light_clean.columns:\n",
    "    print(\"Melakukan pelabelan sentimen menggunakan VADER...\")\n",
    "    analyzer = SentimentIntensityAnalyzer()\n",
    "\n",
    "    def get_vader_sentiment(text):\n",
    "        vs = analyzer.polarity_scores(str(text)) # Pastikan input string\n",
    "        return vs['compound'] # Menggunakan compound score\n",
    "\n",
    "    df_light_clean['polarity_score'] = df_light_clean['review_text_cleaned'].apply(get_vader_sentiment)\n",
    "    print(\"Pelabelan selesai.\")\n",
    "\n",
    "    # --- Penyeimbangan Dataset ---\n",
    "    print(f\"Menyeimbangkan dataset: {BALANCED_DATA_COUNT} sampel per kelas (Positif, Negatif, Netral)...\")\n",
    "\n",
    "    # Kriteria:\n",
    "    # Positif: Polarity > 0.1 DAN rating >= 4 (prioritaskan rating tinggi)\n",
    "    # Negatif: Polarity < -0.1 DAN rating <= 2 (prioritaskan rating rendah)\n",
    "    # Netral: Polarity antara -0.1 dan 0.1 ATAU rating == 3 (utamakan rating 3 untuk netral)\n",
    "\n",
    "    # Urutkan data untuk memudahkan pengambilan sampel ekstrem\n",
    "    df_light_clean_sorted = df_light_clean.sort_values(by=['rating', 'polarity_score'], ascending=[True, True])\n",
    "\n",
    "    # Ambil data Negatif\n",
    "    df_neg = df_light_clean_sorted[\n",
    "        (df_light_clean_sorted['polarity_score'] < -0.1) & (df_light_clean_sorted['rating'] <= 2)\n",
    "    ].head(BALANCED_DATA_COUNT)\n",
    "    df_neg['sentiment_label'] = 'negative'\n",
    "    print(f\"Data negatif ditemukan dan diambil: {len(df_neg)}\")\n",
    "\n",
    "    # Ambil data Positif (urutkan terbalik)\n",
    "    df_light_clean_sorted = df_light_clean.sort_values(by=['rating', 'polarity_score'], ascending=[False, False])\n",
    "    df_pos = df_light_clean_sorted[\n",
    "        (df_light_clean_sorted['polarity_score'] > 0.1) & (df_light_clean_sorted['rating'] >= 4)\n",
    "    ].head(BALANCED_DATA_COUNT)\n",
    "    df_pos['sentiment_label'] = 'positive'\n",
    "    print(f\"Data positif ditemukan dan diambil: {len(df_pos)}\")\n",
    "\n",
    "    # Ambil data Netral (prioritaskan rating 3, lalu skor polaritas mendekati 0)\n",
    "    # Urutkan berdasarkan kedekatan polaritas ke 0 untuk rating 3, lalu untuk rating lain\n",
    "    df_light_clean['abs_polarity'] = df_light_clean['polarity_score'].abs()\n",
    "    df_light_clean_sorted = df_light_clean.sort_values(by=['rating', 'abs_polarity'], ascending=[True, True]) # Sort rating ascending\n",
    "    \n",
    "    # Prioritas utama: rating 3\n",
    "    df_neu_rating3 = df_light_clean_sorted[df_light_clean_sorted['rating'] == 3].head(BALANCED_DATA_COUNT)\n",
    "    \n",
    "    # Jika rating 3 kurang, tambahkan dari yang polaritasnya mendekati nol terlepas dari rating lain\n",
    "    remaining_neutral_needed = BALANCED_DATA_COUNT - len(df_neu_rating3)\n",
    "    df_neu_other = pd.DataFrame() # Inisialisasi df kosong\n",
    "    if remaining_neutral_needed > 0:\n",
    "        # Ambil data di luar yang sudah dipilih (negatif/positif/rating3)\n",
    "        ids_to_exclude = set(df_neg['reviewId']) | set(df_pos['reviewId']) | set(df_neu_rating3['reviewId'])\n",
    "        df_potential_neutral = df_light_clean[~df_light_clean['reviewId'].isin(ids_to_exclude)]\n",
    "        # Urutkan berdasarkan kedekatan polaritas ke 0\n",
    "        df_potential_neutral = df_potential_neutral.sort_values(by=['abs_polarity'], ascending=True)\n",
    "        df_neu_other = df_potential_neutral.head(remaining_neutral_needed)\n",
    "\n",
    "    df_neu = pd.concat([df_neu_rating3, df_neu_other], ignore_index=True).head(BALANCED_DATA_COUNT)\n",
    "    df_neu['sentiment_label'] = 'neutral'\n",
    "    print(f\"Data netral ditemukan dan diambil: {len(df_neu)}\")\n",
    "\n",
    "    # Gabungkan semua data\n",
    "    df_balanced = pd.concat([df_pos, df_neg, df_neu], ignore_index=True)\n",
    "\n",
    "    # Periksa jumlah akhir per kelas\n",
    "    print(\"\\nJumlah data per kelas setelah penyeimbangan:\")\n",
    "    print(df_balanced['sentiment_label'].value_counts())\n",
    "\n",
    "    # Acak dataset\n",
    "    df_final = df_balanced.sample(frac=1, random_state=42).reset_index(drop=True)\n",
    "\n",
    "    # Pilih kolom yang relevan untuk disimpan\n",
    "    df_final = df_final[['reviewId', 'review_text', 'review_text_cleaned', 'rating', 'polarity_score', 'sentiment_label']]\n",
    "\n",
    "    # Simpan hasil sementara sebelum cleaning mendalam (jika perlu checkpoint)\n",
    "    df_final.to_csv('data/reviews_balanced_uncleaned.csv', index=False)\n",
    "    print(\"Data balanced (belum cleaned mendalam) disimpan.\")\n",
    "\n",
    "else:\n",
    "    print(\"Kolom 'sentiment_label' sudah ada atau proses balancing sudah dilakukan.\")\n",
    "    print(f\"Memuat data dari file yang mungkin sudah ada ({FINAL_CLEAN_CSV_PATH})...\")\n",
    "    if os.path.exists(FINAL_CLEAN_CSV_PATH):\n",
    "        df_final = pd.read_csv(FINAL_CLEAN_CSV_PATH)\n",
    "        print(f\"Berhasil memuat {len(df_final)} data dari {FINAL_CLEAN_CSV_PATH}\")\n",
    "        # Pastikan kolom ada\n",
    "        if 'review_text_cleaned' not in df_final.columns and 'review_text' in df_final.columns:\n",
    "             df_final['review_text_cleaned'] = df_final['review_text'] # Gunakan teks asli jika cleaned belum ada\n",
    "        if 'sentiment_label' not in df_final.columns:\n",
    "            print(\"WARNING: Kolom 'sentiment_label' tidak ditemukan di file CSV. Proses pelabelan mungkin perlu diulang.\")\n",
    "            # Opsional: bisa tambahkan kode untuk melabel ulang di sini jika diperlukan\n",
    "    else:\n",
    "        print(f\"File {FINAL_CLEAN_CSV_PATH} tidak ditemukan. Perlu menjalankan langkah pelabelan dan balancing.\")\n",
    "\n",
    "# Pastikan df_final terdefinisi sebelum lanjut\n",
    "if 'df_final' not in locals():\n",
    "    print(\"ERROR: Dataframe 'df_final' tidak terdefinisi. Silakan jalankan ulang bagian sebelumnya.\")"
   ]
  },
  {
   "cell_type": "markdown",
   "id": "34233674",
   "metadata": {},
   "source": [
    "## Fase 3: Pembersihan Data Mendalam"
   ]
  },
  {
   "cell_type": "code",
   "execution_count": 8,
   "id": "855eb152",
   "metadata": {},
   "outputs": [
    {
     "name": "stdout",
     "output_type": "stream",
     "text": [
      "\n",
      "Tahap 4: Pembersihan Data Mendalam\n"
     ]
    }
   ],
   "source": [
    "print(\"\\nTahap 4: Pembersihan Data Mendalam\")"
   ]
  },
  {
   "cell_type": "code",
   "execution_count": 9,
   "id": "418862b2",
   "metadata": {},
   "outputs": [
    {
     "name": "stdout",
     "output_type": "stream",
     "text": [
      "Kolom 'review_text_deep_cleaned' sudah ada. Melewati pembersihan mendalam.\n",
      "\n",
      "Contoh hasil pembersihan mendalam:\n",
      "                                                                                                                                             review_text  \\\n",
      "0                       If you cant verified some customers name and address through utility bill just close this stupid app because is a waste of time.   \n",
      "1                                                                                                                                                   Uwuu   \n",
      "2                                                                                                                        4 star for too much network fee   \n",
      "3  Great app , to the point . Buy Crypto. Easily create account, and in 1,2,3 your buying your crypto. If new to crypto, the app may require addition...   \n",
      "4                                                                                                              I love it fast and easy crypto experience   \n",
      "\n",
      "                                                                                                                     review_text_deep_cleaned  \\\n",
      "0                                                                    cant verified customer name address utility bill close stupid waste time   \n",
      "1                                                                                                                                        uwuu   \n",
      "2                                                                                                                       star much network fee   \n",
      "3  great point buy crypto easily create account buying crypto new crypto may require additional info process take week depending lending tree   \n",
      "4                                                                                                            love fast easy crypto experience   \n",
      "\n",
      "  sentiment_label  \n",
      "0        negative  \n",
      "1         neutral  \n",
      "2         neutral  \n",
      "3        positive  \n",
      "4        positive  \n",
      "\n",
      "Jumlah data per kelas setelah pembersihan mendalam:\n",
      "sentiment_label\n",
      "positive    30000\n",
      "neutral     29503\n",
      "negative    28125\n",
      "Name: count, dtype: int64\n"
     ]
    }
   ],
   "source": [
    "# Cek apakah pembersihan mendalam sudah pernah dilakukan (misal, ada kolom 'review_text_deep_cleaned')\n",
    "# Jika belum atau jika file final belum ada, lakukan pembersihan\n",
    "NEEDS_DEEP_CLEANING = True\n",
    "if os.path.exists(FINAL_CLEAN_CSV_PATH):\n",
    "     # Coba baca header saja untuk cek kolom\n",
    "     try:\n",
    "         header_check = pd.read_csv(FINAL_CLEAN_CSV_PATH, nrows=0)\n",
    "         if 'review_text_deep_cleaned' in header_check.columns:\n",
    "             print(\"Kolom 'review_text_deep_cleaned' sudah ada. Melewati pembersihan mendalam.\")\n",
    "             df_final = pd.read_csv(FINAL_CLEAN_CSV_PATH) # Muat ulang data yang sudah bersih\n",
    "             # Pastikan tidak ada NaN di kolom teks yang akan digunakan\n",
    "             df_final.dropna(subset=['review_text_deep_cleaned'], inplace=True)\n",
    "             NEEDS_DEEP_CLEANING = False\n",
    "         else:\n",
    "             print(\"Kolom 'review_text_deep_cleaned' tidak ditemukan. Melakukan pembersihan mendalam...\")\n",
    "     except Exception as e:\n",
    "         print(f\"Error saat memeriksa file {FINAL_CLEAN_CSV_PATH}: {e}. Melakukan pembersihan mendalam...\")\n",
    "\n",
    "if NEEDS_DEEP_CLEANING:\n",
    "    print(\"Memulai pembersihan data mendalam...\")\n",
    "    start_time_clean = time.time()\n",
    "\n",
    "    # Inisialisasi lemmatizer dan stopwords\n",
    "    lemmatizer = WordNetLemmatizer()\n",
    "    stop_words = set(stopwords.words('english'))\n",
    "    # Tambahkan stopwords custom jika perlu (misal, nama aplikasi)\n",
    "    custom_stopwords = {'coinbase', 'app', 'application'}\n",
    "    stop_words.update(custom_stopwords)\n",
    "\n",
    "    def deep_clean_text(text):\n",
    "        if not isinstance(text, str):\n",
    "            return \"\" # Kembalikan string kosong jika bukan string\n",
    "\n",
    "        text = text.lower() # Lowercase (sudah dilakukan di light clean, tapi pastikan lagi)\n",
    "        text = re.sub(r'http\\S+|www\\S+|https\\S+', '', text, flags=re.MULTILINE) # Hapus URL\n",
    "        text = re.sub(r'\\@\\w+', '', text) # Hapus mention\n",
    "        text = re.sub(r'#\\w+', '', text) # Hapus hashtag\n",
    "        text = re.sub(r'[^\\w\\s]', '', text) # Hapus Punctuation\n",
    "        text = re.sub(r'\\d+', '', text) # Hapus angka\n",
    "        text = re.sub(r'\\s+', ' ', text).strip() # Hapus spasi berlebih\n",
    "\n",
    "        # Tokenisasi (opsional di sini, bisa juga saat feature extraction)\n",
    "        # words = text.split()\n",
    "\n",
    "        # Hapus stopwords dan lakukan lemmatisasi\n",
    "        words = text.split() # Tokenisasi sederhana berdasarkan spasi\n",
    "        cleaned_words = [lemmatizer.lemmatize(word) for word in words if word not in stop_words and len(word) > 1] # Hanya kata > 1 huruf\n",
    "\n",
    "        return ' '.join(cleaned_words)\n",
    "\n",
    "    # Terapkan fungsi cleaning ke kolom 'review_text_cleaned' (hasil light clean)\n",
    "    # atau ke 'review_text' jika 'review_text_cleaned' tidak ada\n",
    "    source_column = 'review_text_cleaned' if 'review_text_cleaned' in df_final.columns else 'review_text'\n",
    "    df_final['review_text_deep_cleaned'] = df_final[source_column].apply(deep_clean_text)\n",
    "\n",
    "    # Hapus baris yang teksnya menjadi kosong setelah cleaning\n",
    "    df_final = df_final[df_final['review_text_deep_cleaned'].str.strip() != '']\n",
    "    df_final.dropna(subset=['review_text_deep_cleaned'], inplace=True) # Pastikan tidak ada NaN\n",
    "\n",
    "    print(f\"Pembersihan mendalam selesai. Jumlah data setelah pembersihan: {len(df_final)}\")\n",
    "    end_time_clean = time.time()\n",
    "    print(f\"Waktu pembersihan mendalam: {end_time_clean - start_time_clean:.2f} detik.\")\n",
    "\n",
    "    # Simpan hasil akhir yang sudah bersih dan seimbang\n",
    "    df_final.to_csv(FINAL_CLEAN_CSV_PATH, index=False)\n",
    "    print(f\"Data final (cleaned & balanced) disimpan ke {FINAL_CLEAN_CSV_PATH}\")\n",
    "\n",
    "# Tampilkan beberapa contoh hasil cleaning\n",
    "print(\"\\nContoh hasil pembersihan mendalam:\")\n",
    "print(df_final[['review_text', 'review_text_deep_cleaned', 'sentiment_label']].head())\n",
    "\n",
    "# Cek kembali jumlah data per kelas setelah deep cleaning (mungkin ada yg hilang)\n",
    "print(\"\\nJumlah data per kelas setelah pembersihan mendalam:\")\n",
    "print(df_final['sentiment_label'].value_counts())"
   ]
  },
  {
   "cell_type": "markdown",
   "id": "3a9ec489",
   "metadata": {},
   "source": [
    "## Fase 4: Pembagian Data (Train, Validation, Test)"
   ]
  },
  {
   "cell_type": "code",
   "execution_count": 10,
   "id": "6e8b50e8",
   "metadata": {},
   "outputs": [
    {
     "name": "stdout",
     "output_type": "stream",
     "text": [
      "\n",
      "Tahap 5: Pembagian Data\n"
     ]
    }
   ],
   "source": [
    "print(\"\\nTahap 5: Pembagian Data\")\n",
    "\n",
    "# Pastikan df_final sudah siap dan memiliki kolom yang benar\n",
    "if 'review_text_deep_cleaned' not in df_final.columns or 'sentiment_label' not in df_final.columns:\n",
    "    print(\"ERROR: Kolom 'review_text_deep_cleaned' atau 'sentiment_label' tidak ditemukan. Proses tidak dapat dilanjutkan.\")\n",
    "    exit()"
   ]
  },
  {
   "cell_type": "code",
   "execution_count": 11,
   "id": "b24b36da",
   "metadata": {},
   "outputs": [],
   "source": [
    "# Pisahkan fitur (X) dan target (y)\n",
    "X = df_final['review_text_deep_cleaned']\n",
    "y = df_final['sentiment_label']"
   ]
  },
  {
   "cell_type": "code",
   "execution_count": 12,
   "id": "2f431cef",
   "metadata": {},
   "outputs": [
    {
     "name": "stdout",
     "output_type": "stream",
     "text": [
      "Mapping Label: {'negative': 0, 'neutral': 1, 'positive': 2}\n"
     ]
    }
   ],
   "source": [
    "# Encode label menjadi numerik (Penting untuk sebagian besar model ML/DL)\n",
    "label_encoder = LabelEncoder()\n",
    "y_encoded = label_encoder.fit_transform(y)\n",
    "# Simpan mapping label untuk interpretasi nanti\n",
    "label_mapping = dict(zip(label_encoder.classes_, label_encoder.transform(label_encoder.classes_)))\n",
    "print(f\"Mapping Label: {label_mapping}\") # Misal: {'negative': 0, 'neutral': 1, 'positive': 2}"
   ]
  },
  {
   "cell_type": "code",
   "execution_count": 13,
   "id": "73004186",
   "metadata": {},
   "outputs": [],
   "source": [
    "# Pembagian data: 70% Train, 20% Validation, 10% Test\n",
    "# Stratify=y_encoded untuk menjaga proporsi kelas di setiap set\n",
    "TRAIN_SIZE = 0.70\n",
    "VALIDATION_SIZE = 0.20\n",
    "TEST_SIZE = 0.10"
   ]
  },
  {
   "cell_type": "code",
   "execution_count": 14,
   "id": "ec75333a",
   "metadata": {},
   "outputs": [],
   "source": [
    "# Bagi data menjadi Train (70%) dan Temp (30%)\n",
    "X_train, X_temp, y_train, y_temp = train_test_split(\n",
    "    X, y_encoded,\n",
    "    test_size=(1 - TRAIN_SIZE),\n",
    "    random_state=42,\n",
    "    stratify=y_encoded\n",
    ")"
   ]
  },
  {
   "cell_type": "code",
   "execution_count": 15,
   "id": "c5c692a9",
   "metadata": {},
   "outputs": [
    {
     "name": "stdout",
     "output_type": "stream",
     "text": [
      "Ukuran Data Latih (Train): 61339 sampel\n",
      "Ukuran Data Validasi (Validation): 17526 sampel\n",
      "Ukuran Data Uji (Test): 8763 sampel\n"
     ]
    }
   ],
   "source": [
    "# Bagi data Temp menjadi Validation (20% dari total) dan Test (10% dari total)\n",
    "# Perhatikan perhitungan test_size di sini relatif terhadap ukuran temp\n",
    "relative_test_size = TEST_SIZE / (VALIDATION_SIZE + TEST_SIZE)\n",
    "X_val, X_test, y_val, y_test = train_test_split(\n",
    "    X_temp, y_temp,\n",
    "    test_size=relative_test_size,\n",
    "    random_state=42,\n",
    "    stratify=y_temp\n",
    ")\n",
    "\n",
    "print(f\"Ukuran Data Latih (Train): {len(X_train)} sampel\")\n",
    "print(f\"Ukuran Data Validasi (Validation): {len(X_val)} sampel\")\n",
    "print(f\"Ukuran Data Uji (Test): {len(X_test)} sampel\")"
   ]
  },
  {
   "cell_type": "code",
   "execution_count": 16,
   "id": "7211722e",
   "metadata": {},
   "outputs": [
    {
     "name": "stdout",
     "output_type": "stream",
     "text": [
      "\n",
      "Proporsi kelas di set Latih:\n",
      "2    0.342360\n",
      "1    0.336686\n",
      "0    0.320954\n",
      "Name: proportion, dtype: float64\n",
      "\n",
      "Proporsi kelas di set Validasi:\n",
      "2    0.342349\n",
      "1    0.336700\n",
      "0    0.320952\n",
      "Name: proportion, dtype: float64\n",
      "\n",
      "Proporsi kelas di set Uji:\n",
      "2    0.342349\n",
      "1    0.336643\n",
      "0    0.321009\n",
      "Name: proportion, dtype: float64\n"
     ]
    }
   ],
   "source": [
    "# Verifikasi proporsi kelas di setiap set (opsional tapi bagus)\n",
    "print(\"\\nProporsi kelas di set Latih:\")\n",
    "print(pd.Series(y_train).value_counts(normalize=True))\n",
    "print(\"\\nProporsi kelas di set Validasi:\")\n",
    "print(pd.Series(y_val).value_counts(normalize=True))\n",
    "print(\"\\nProporsi kelas di set Uji:\")\n",
    "print(pd.Series(y_test).value_counts(normalize=True))"
   ]
  },
  {
   "cell_type": "markdown",
   "id": "621302fd",
   "metadata": {},
   "source": [
    "## Fase 5: Ekstraksi Fitur"
   ]
  },
  {
   "cell_type": "code",
   "execution_count": 17,
   "id": "125d9231",
   "metadata": {},
   "outputs": [
    {
     "name": "stdout",
     "output_type": "stream",
     "text": [
      "\n",
      "Tahap 6: Ekstraksi Fitur\n"
     ]
    }
   ],
   "source": [
    "print(\"\\nTahap 6: Ekstraksi Fitur\")"
   ]
  },
  {
   "cell_type": "code",
   "execution_count": 18,
   "id": "f6b24f19",
   "metadata": {},
   "outputs": [
    {
     "name": "stdout",
     "output_type": "stream",
     "text": [
      "Melakukan ekstraksi fitur TF-IDF...\n",
      "Bentuk matriks TF-IDF Latih: (61339, 563)\n",
      "Bentuk matriks TF-IDF Validasi: (17526, 563)\n",
      "Bentuk matriks TF-IDF Uji: (8763, 563)\n"
     ]
    }
   ],
   "source": [
    "# --- 6.1 Ekstraksi Fitur TF-IDF (untuk RF, XGBoost, LightGBM) ---\n",
    "print(\"Melakukan ekstraksi fitur TF-IDF...\")\n",
    "MAX_FEATURES_TFIDF = 15000 # Batasi jumlah fitur untuk efisiensi\n",
    "\n",
    "tfidf_vectorizer = TfidfVectorizer(\n",
    "    max_features=MAX_FEATURES_TFIDF,\n",
    "    ngram_range=(1, 2),\n",
    "    stop_words='english',\n",
    "    lowercase=True,\n",
    "    max_df=0.8,\n",
    "    min_df=0.003 \n",
    ")\n",
    "\n",
    "# Fit hanya pada data latih\n",
    "X_train_tfidf = tfidf_vectorizer.fit_transform(X_train)\n",
    "# Transform data validasi dan test\n",
    "X_val_tfidf = tfidf_vectorizer.transform(X_val)\n",
    "X_test_tfidf = tfidf_vectorizer.transform(X_test)\n",
    "\n",
    "print(f\"Bentuk matriks TF-IDF Latih: {X_train_tfidf.shape}\")\n",
    "print(f\"Bentuk matriks TF-IDF Validasi: {X_val_tfidf.shape}\")\n",
    "print(f\"Bentuk matriks TF-IDF Uji: {X_test_tfidf.shape}\")"
   ]
  },
  {
   "cell_type": "code",
   "execution_count": 19,
   "id": "a461059e",
   "metadata": {},
   "outputs": [
    {
     "name": "stdout",
     "output_type": "stream",
     "text": [
      "\n",
      "Melakukan tokenisasi dan padding untuk model Deep Learning...\n",
      "Ukuran Vocabulary: 23639\n",
      "Panjang Sekuens (Max Len): 128\n",
      "Bentuk data Latih (padded): (61339, 128)\n",
      "Bentuk data Validasi (padded): (17526, 128)\n",
      "Bentuk data Uji (padded): (8763, 128)\n"
     ]
    }
   ],
   "source": [
    "# --- 6.2 Tokenisasi dan Padding (untuk ANN/CNN PyTorch) ---\n",
    "print(\"\\nMelakukan tokenisasi dan padding untuk model Deep Learning...\")\n",
    "\n",
    "# Parameter Tokenizer dan Padding\n",
    "MAX_WORDS = 15000\n",
    "MAX_LEN = 128\n",
    "\n",
    "# Inisialisasi dan fit Tokenizer Keras pada data latih\n",
    "tokenizer = Tokenizer(num_words=MAX_WORDS, oov_token='<OOV>') # OOV token untuk kata tak dikenal\n",
    "tokenizer.fit_on_texts(X_train)\n",
    "\n",
    "# Konversi teks ke sekuens integer\n",
    "X_train_seq = tokenizer.texts_to_sequences(X_train)\n",
    "X_val_seq = tokenizer.texts_to_sequences(X_val)\n",
    "X_test_seq = tokenizer.texts_to_sequences(X_test)\n",
    "\n",
    "# Padding sekuens agar panjangnya sama\n",
    "X_train_pad = pad_sequences(X_train_seq, maxlen=MAX_LEN, padding='post', truncating='post')\n",
    "X_val_pad = pad_sequences(X_val_seq, maxlen=MAX_LEN, padding='post', truncating='post')\n",
    "X_test_pad = pad_sequences(X_test_seq, maxlen=MAX_LEN, padding='post', truncating='post')\n",
    "\n",
    "# Ukuran vocabulary aktual (+1 untuk padding/unknown jika 0 tidak dipakai OOV)\n",
    "vocab_size = len(tokenizer.word_index) + 1\n",
    "print(f\"Ukuran Vocabulary: {vocab_size}\")\n",
    "print(f\"Panjang Sekuens (Max Len): {MAX_LEN}\")\n",
    "print(f\"Bentuk data Latih (padded): {X_train_pad.shape}\")\n",
    "print(f\"Bentuk data Validasi (padded): {X_val_pad.shape}\")\n",
    "print(f\"Bentuk data Uji (padded): {X_test_pad.shape}\")"
   ]
  },
  {
   "cell_type": "code",
   "execution_count": null,
   "id": "46021ce7",
   "metadata": {},
   "outputs": [],
   "source": [
    "# --- 6.3 FastText Embedding (untuk ANN/CNN PyTorch) ---\n",
    "# Lokasi untuk menyimpan model FastText yang diunduh\n",
    "FASTTEXT_MODEL_PATH = 'cc.en.300.bin' \n",
    "EMBEDDING_DIM = 300"
   ]
  },
  {
   "cell_type": "code",
   "execution_count": 24,
   "id": "76d82443",
   "metadata": {},
   "outputs": [
    {
     "name": "stdout",
     "output_type": "stream",
     "text": [
      "Mengunduh model FastText...\n",
      "Downloading https://dl.fbaipublicfiles.com/fasttext/vectors-crawl/cc.en.300.bin.gz\n",
      " (100.00%) [==================================================>]                                                 ]>                                                  ]>                                                  ]>                                                  ]>                                                  ]>                                                  ]>                                                  ]>                                                  ]>                                                  ]>                                                  ]>                                                  ]>                                                  ]>                                                  ]>                                                  ]>                                                  ]>                                                  ]>                                                  ]>                                                  ]>                                                  ]>                                                  ]>                                                  ]>                                                  ]>                                                  ]>                                                  ]>                                                  ]>                                                  ]>                                                  ]>                                                  ]>                                                  ]>                                                  ]>                                                  ]>                                                  ]>                                                  ]>                                                  ]>                                                  ]>                                                  ]>                                                  ]>                                                  ]>                                                  ]>                                                  ]>                                                  ]>                                                  ]>                                                  ]>                                                  ]>                                                  ]>                                                  ]>                                                  ]>                                                  ]>                                                  ]>                                                  ]>                                                  ]>                                                  ]>                                                  ]>                                                  ]>                                                  ]>                                                  ]>                                                  ]>                                                  ]>                                                  ]>                                                  ]>                                                  ]>                                                  ]>                                                  ]>                                                  ]>                                                  ]>                                                  ]>                                                  ]>                                                  ]>                                                  ]>                                                  ]>                                                  ]>                                                  ]>                                                  ]>                                                  ]>                                                  ]>                                                  ]>                                                  ]>                                                  ]>                                                  ]>                                                  ]>                                                  ]>                                                  ]>                                                  ]>                                                  ]>                                                  ]=>                                                 ]=>                                                 ]=>                                                 ]=>                                                 ]=>                                                 ]=>                                                 ]=>                                                 ]=>                                                 ]=>                                                 ]=>                                                 ]=>                                                 ]=>                                                 ]=>                                                 ]=>                                                 ]=>                                                 ]=>                                                 ]=>                                                 ]=>                                                 ]=>                                                 ]=>                                                 ]=>                                                 ]=>                                                 ]=>                                                 ]=>                                                 ]=>                                                 ]=>                                                 ]=>                                                 ]=>                                                 ]=>                                                 ]=>                                                 ]=>                                                 ]=>                                                 ]=>                                                 ]=>                                                 ]=>                                                 ]=>                                                 ]=>                                                 ]=>                                                 ]=>                                                 ]=>                                                 ]=>                                                 ]=>                                                 ]=>                                                 ]=>                                                 ]=>                                                 ]=>                                                 ]=>                                                 ]=>                                                 ]=>                                                 ]=>                                                 ]=>                                                 ]=>                                                 ]=>                                                 ]=>                                                 ]=>                                                 ]=>                                                 ]=>                                                 ]=>                                                 ]=>                                                 ]=>                                                 ]=>                                                 ]=>                                                 ]=>                                                 ]=>                                                 ]=>                                                 ]=>                                                 ]=>                                                 ]=>                                                 ]=>                                                 ]=>                                                 ]=>                                                 ]=>                                                 ]=>                                                 ]=>                                                 ]=>                                                 ]=>                                                 ]=>                                                 ]==>                                                ]==>                                                ]==>                                                ]==>                                                ]==>                                                ]==>                                                ]==>                                                ]==>                                                ]==>                                                ]==>                                                ]==>                                                ]==>                                                ]==>                                                ]==>                                                ]==>                                                ]==>                                                ]==>                                                ]==>                                                ]==>                                                ]==>                                                ]==>                                                ]==>                                                ]==>                                                ]==>                                                ]==>                                                ]==>                                                ]==>                                                ]==>                                                ]==>                                                ]==>                                                ]==>                                                ]==>                                                ]==>                                                ]==>                                                ]==>                                                ]==>                                                ]==>                                                ]==>                                                ]==>                                                ]==>                                                ]==>                                                ]==>                                                ]==>                                                ]==>                                                ]==>                                                ]==>                                                ]==>                                                ]==>                                                ]==>                                                ]==>                                                ]==>                                                ]==>                                                ]==>                                                ]==>                                                ]==>                                                ]==>                                                ]==>                                                ]==>                                                ]==>                                                ]==>                                                ]==>                                                ]==>                                                ]==>                                                ]==>                                                ]==>                                                ]==>                                                ]==>                                                ]==>                                                ]==>                                                ]==>                                                ]==>                                                ]==>                                                ]==>                                                ]==>                                                ]==>                                                ]==>                                                ]==>                                                ]==>                                                ]==>                                                ]==>                                                ]==>                                                ]==>                                                ]==>                                                ]==>                                                ]==>                                                ]==>                                                ]==>                                                ]==>                                                ]==>                                                ]==>                                                ]==>                                                ]===>                                               ]===>                                               ]===>                                               ]===>                                               ]===>                                               ]===>                                               ]===>                                               ]===>                                               ]===>                                               ]===>                                               ]===>                                               ]===>                                               ]===>                                               ]===>                                               ]===>                                               ]===>                                               ]===>                                               ]===>                                               ]===>                                               ]===>                                               ]===>                                               ]===>                                               ]===>                                               ]===>                                               ]===>                                               ]===>                                               ]===>                                               ]===>                                               ]===>                                               ]===>                                               ]===>                                               ]===>                                               ]===>                                               ]===>                                               ]===>                                               ]===>                                               ]===>                                               ]===>                                               ]===>                                               ]===>                                               ]===>                                               ]===>                                               ]===>                                               ]===>                                               ]===>                                               ]===>                                               ]===>                                               ]===>                                               ]===>                                               ]===>                                               ]===>                                               ]===>                                               ]===>                                               ]===>                                               ]===>                                               ]===>                                               ]===>                                               ]===>                                               ]===>                                               ]===>                                               ]===>                                               ]===>                                               ]===>                                               ]===>                                               ]===>                                               ]===>                                               ]===>                                               ]===>                                               ]===>                                               ]====>                                              ]====>                                              ]====>                                              ]====>                                              ]====>                                              ]====>                                              ]====>                                              ]====>                                              ]====>                                              ]====>                                              ]====>                                              ]====>                                              ]====>                                              ]====>                                              ]====>                                              ]====>                                              ]====>                                              ]====>                                              ]====>                                              ]====>                                              ]====>                                              ]====>                                              ]====>                                              ]====>                                              ]====>                                              ]====>                                              ]====>                                              ]====>                                              ]====>                                              ]====>                                              ]====>                                              ]====>                                              ]====>                                              ]====>                                              ]====>                                              ]====>                                              ]====>                                              ]====>                                              ]====>                                              ]====>                                              ]====>                                              ]====>                                              ]====>                                              ]====>                                              ]====>                                              ]====>                                              ]====>                                              ]====>                                              ]====>                                              ]====>                                              ]====>                                              ]====>                                              ]====>                                              ]====>                                              ]====>                                              ]====>                                              ]====>                                              ]====>                                              ]====>                                              ]====>                                              ]====>                                              ]====>                                              ]=====>                                             ]=====>                                             ]=====>                                             ]=====>                                             ]=====>                                             ]=====>                                             ]=====>                                             ]=====>                                             ]=====>                                             ]=====>                                             ]=====>                                             ]=====>                                             ]=====>                                             ]=====>                                             ]=====>                                             ]=====>                                             ]=====>                                             ]=====>                                             ]=====>                                             ]=====>                                             ]=====>                                             ]=====>                                             ]=====>                                             ]=====>                                             ]=====>                                             ]=====>                                             ]=====>                                             ]=====>                                             ]=====>                                             ]=====>                                             ]=====>                                             ]=====>                                             ]=====>                                             ]=====>                                             ]=====>                                             ]=====>                                             ]=====>                                             ]=====>                                             ]=====>                                             ]=====>                                             ]=====>                                             ]=====>                                             ]=====>                                             ]=====>                                             ]=====>                                             ]=====>                                             ]=====>                                             ]=====>                                             ]=====>                                             ]=====>                                             ]=====>                                             ]=====>                                             ]=====>                                             ]=====>                                             ]=====>                                             ]=====>                                             ]=====>                                             ]=====>                                             ]=====>                                             ]=====>                                             ]=====>                                             ]=====>                                             ]=====>                                             ]=====>                                             ]=====>                                             ]=====>                                             ]=====>                                             ]=====>                                             ]=====>                                             ]=====>                                             ]=====>                                             ]======>                                            ]======>                                            ]======>                                            ]======>                                            ]======>                                            ]======>                                            ]======>                                            ]======>                                            ]======>                                            ]======>                                            ]======>                                            ]======>                                            ]======>                                            ]======>                                            ]======>                                            ]======>                                            ]======>                                            ]======>                                            ]======>                                            ]======>                                            ]======>                                            ]======>                                            ]======>                                            ]======>                                            ]======>                                            ]======>                                            ]======>                                            ]======>                                            ]======>                                            ]======>                                            ]======>                                            ]======>                                            ]======>                                            ]======>                                            ]======>                                            ]======>                                            ]======>                                            ]======>                                            ]======>                                            ]======>                                            ]======>                                            ]======>                                            ]======>                                            ]======>                                            ]======>                                            ]======>                                            ]======>                                            ]======>                                            ]======>                                            ]======>                                            ]======>                                            ]======>                                            ]======>                                            ]======>                                            ]======>                                            ]======>                                            ]======>                                            ]======>                                            ]======>                                            ]======>                                            ]======>                                            ]======>                                            ]======>                                            ]======>                                            ]======>                                            ]======>                                            ]======>                                            ]======>                                            ]======>                                            ]======>                                            ]======>                                            ]======>                                            ]======>                                            ]======>                                            ]======>                                            ]======>                                            ]======>                                            ]======>                                            ]======>                                            ]======>                                            ]======>                                            ]======>                                            ]======>                                            ]======>                                            ]======>                                            ]======>                                            ]======>                                            ]======>                                            ]======>                                            ]======>                                            ]======>                                            ]=======>                                           ]=======>                                           ]=======>                                           ]=======>                                           ]=======>                                           ]=======>                                           ]=======>                                           ]=======>                                           ]=======>                                           ]=======>                                           ]=======>                                           ]=======>                                           ]=======>                                           ]=======>                                           ]=======>                                           ]=======>                                           ]=======>                                           ]=======>                                           ]=======>                                           ]=======>                                           ]=======>                                           ]=======>                                           ]=======>                                           ]=======>                                           ]=======>                                           ]=======>                                           ]=======>                                           ]=======>                                           ]=======>                                           ]=======>                                           ]=======>                                           ]=======>                                           ]=======>                                           ]=======>                                           ]=======>                                           ]=======>                                           ]=======>                                           ]=======>                                           ]=======>                                           ]=======>                                           ]=======>                                           ]=======>                                           ]=======>                                           ]=======>                                           ]=======>                                           ]=======>                                           ]=======>                                           ]=======>                                           ]=======>                                           ]=======>                                           ]=======>                                           ]=======>                                           ]=======>                                           ]=======>                                           ]=======>                                           ]=======>                                           ]=======>                                           ]=======>                                           ]=======>                                           ]=======>                                           ]=======>                                           ]=======>                                           ]=======>                                           ]=======>                                           ]=======>                                           ]=======>                                           ]=======>                                           ]=======>                                           ]=======>                                           ]=======>                                           ]=======>                                           ]=======>                                           ]=======>                                           ]=======>                                           ]=======>                                           ]=======>                                           ]=======>                                           ]=======>                                           ]=======>                                           ]========>                                          ]========>                                          ]========>                                          ]========>                                          ]========>                                          ]========>                                          ]========>                                          ]========>                                          ]========>                                          ]========>                                          ]========>                                          ]========>                                          ]========>                                          ]========>                                          ]========>                                          ]========>                                          ]========>                                          ]========>                                          ]========>                                          ]========>                                          ]========>                                          ]========>                                          ]========>                                          ]========>                                          ]========>                                          ]========>                                          ]========>                                          ]========>                                          ]========>                                          ]========>                                          ]========>                                          ]========>                                          ]========>                                          ]========>                                          ]========>                                          ]========>                                          ]========>                                          ]========>                                          ]========>                                          ]========>                                          ]========>                                          ]========>                                          ]========>                                          ]========>                                          ]========>                                          ]========>                                          ]========>                                          ]========>                                          ]========>                                          ]========>                                          ]========>                                          ]========>                                          ]========>                                          ]========>                                          ]========>                                          ]========>                                          ]========>                                          ]========>                                          ]========>                                          ]========>                                          ]========>                                          ]========>                                          ]========>                                          ]========>                                          ]========>                                          ]========>                                          ]========>                                          ]========>                                          ]========>                                          ]========>                                          ]========>                                          ]========>                                          ]========>                                          ]========>                                          ]========>                                          ]========>                                          ]========>                                          ]========>                                          ]========>                                          ]========>                                          ]========>                                          ]========>                                          ]========>                                          ]=========>                                         ]=========>                                         ]=========>                                         ]=========>                                         ]=========>                                         ]=========>                                         ]=========>                                         ]=========>                                         ]=========>                                         ]=========>                                         ]=========>                                         ]=========>                                         ]=========>                                         ]=========>                                         ]=========>                                         ]=========>                                         ]=========>                                         ]=========>                                         ]=========>                                         ]=========>                                         ]=========>                                         ]=========>                                         ]=========>                                         ]=========>                                         ]=========>                                         ]=========>                                         ]=========>                                         ]=========>                                         ]=========>                                         ]=========>                                         ]=========>                                         ]=========>                                         ]=========>                                         ]=========>                                         ]=========>                                         ]=========>                                         ]=========>                                         ]=========>                                         ]=========>                                         ]=========>                                         ]=========>                                         ]=========>                                         ]=========>                                         ]=========>                                         ]=========>                                         ]=========>                                         ]=========>                                         ]=========>                                         ]=========>                                         ]=========>                                         ]=========>                                         ]=========>                                         ]=========>                                         ]=========>                                         ]=========>                                         ]=========>                                         ]=========>                                         ]=========>                                         ]=========>                                         ]=========>                                         ]=========>                                         ]=========>                                         ]=========>                                         ]=========>                                         ]=========>                                         ]=========>                                         ]=========>                                         ]=========>                                         ]=========>                                         ]=========>                                         ]=========>                                         ]=========>                                         ]=========>                                         ]=========>                                         ]=========>                                         ]=========>                                         ]=========>                                         ]=========>                                         ]=========>                                         ]=========>                                         ]=========>                                         ]=========>                                         ]=========>                                         ]=========>                                         ]=========>                                         ]=========>                                         ]=========>                                         ]=========>                                         ]=========>                                         ]=========>                                         ]=========>                                         ]=========>                                         ]=========>                                         ]=========>                                         ]=========>                                         ]=========>                                         ]==========>                                        ]==========>                                        ]==========>                                        ]==========>                                        ]==========>                                        ]==========>                                        ]==========>                                        ]==========>                                        ]==========>                                        ]==========>                                        ]==========>                                        ]==========>                                        ]==========>                                        ]==========>                                        ]==========>                                        ]==========>                                        ]==========>                                        ]==========>                                        ]==========>                                        ]==========>                                        ]==========>                                        ]==========>                                        ]==========>                                        ]==========>                                        ]==========>                                        ]==========>                                        ]==========>                                        ]==========>                                        ]==========>                                        ]==========>                                        ]==========>                                        ]==========>                                        ]==========>                                        ]==========>                                        ]==========>                                        ]==========>                                        ]==========>                                        ]==========>                                        ]==========>                                        ]==========>                                        ]==========>                                        ]==========>                                        ]==========>                                        ]==========>                                        ]==========>                                        ]==========>                                        ]==========>                                        ]==========>                                        ]==========>                                        ]==========>                                        ]==========>                                        ]==========>                                        ]==========>                                        ]==========>                                        ]==========>                                        ]==========>                                        ]==========>                                        ]==========>                                        ]==========>                                        ]==========>                                        ]==========>                                        ]==========>                                        ]==========>                                        ]==========>                                        ]==========>                                        ]==========>                                        ]==========>                                        ]==========>                                        ]==========>                                        ]==========>                                        ]==========>                                        ]==========>                                        ]==========>                                        ]==========>                                        ]==========>                                        ]==========>                                        ]==========>                                        ]==========>                                        ]==========>                                        ]==========>                                        ]==========>                                        ]==========>                                        ]===========>                                       ]===========>                                       ]===========>                                       ]===========>                                       ]===========>                                       ]===========>                                       ]===========>                                       ]===========>                                       ]===========>                                       ]===========>                                       ]===========>                                       ]===========>                                       ]===========>                                       ]===========>                                       ]===========>                                       ]===========>                                       ]===========>                                       ]===========>                                       ]===========>                                       ]===========>                                       ]===========>                                       ]===========>                                       ]===========>                                       ]===========>                                       ]===========>                                       ]===========>                                       ]===========>                                       ]===========>                                       ]===========>                                       ]===========>                                       ]===========>                                       ]===========>                                       ]===========>                                       ]===========>                                       ]===========>                                       ]===========>                                       ]===========>                                       ]===========>                                       ]===========>                                       ]===========>                                       ]===========>                                       ]===========>                                       ]===========>                                       ]===========>                                       ]===========>                                       ]===========>                                       ]===========>                                       ]===========>                                       ]===========>                                       ]===========>                                       ]===========>                                       ]===========>                                       ]===========>                                       ]===========>                                       ]===========>                                       ]===========>                                       ]===========>                                       ]===========>                                       ]===========>                                       ]===========>                                       ]===========>                                       ]===========>                                       ]===========>                                       ]===========>                                       ]===========>                                       ]===========>                                       ]===========>                                       ]===========>                                       ]===========>                                       ]===========>                                       ]===========>                                       ]===========>                                       ]===========>                                       ]===========>                                       ]===========>                                       ]===========>                                       ]===========>                                       ]===========>                                       ]===========>                                       ]===========>                                       ]===========>                                       ]===========>                                       ]===========>                                       ]===========>                                       ]===========>                                       ]===========>                                       ]===========>                                       ]===========>                                       ]===========>                                       ]============>                                      ]============>                                      ]============>                                      ]============>                                      ]============>                                      ]============>                                      ]============>                                      ]============>                                      ]============>                                      ]============>                                      ]============>                                      ]============>                                      ]============>                                      ]============>                                      ]============>                                      ]============>                                      ]============>                                      ]============>                                      ]============>                                      ]============>                                      ]============>                                      ]============>                                      ]============>                                      ]============>                                      ]============>                                      ]============>                                      ]============>                                      ]============>                                      ]============>                                      ]============>                                      ]============>                                      ]============>                                      ]============>                                      ]============>                                      ]============>                                      ]============>                                      ]============>                                      ]============>                                      ]============>                                      ]============>                                      ]============>                                      ]============>                                      ]============>                                      ]============>                                      ]============>                                      ]============>                                      ]============>                                      ]============>                                      ]============>                                      ]============>                                      ]============>                                      ]============>                                      ]============>                                      ]============>                                      ]============>                                      ]============>                                      ]============>                                      ]============>                                      ]============>                                      ]============>                                      ]============>                                      ]============>                                      ]============>                                      ]============>                                      ]============>                                      ]============>                                      ]============>                                      ]============>                                      ]============>                                      ]============>                                      ]============>                                      ]============>                                      ]============>                                      ]============>                                      ]============>                                      ]============>                                      ]=============>                                     ]=============>                                     ]=============>                                     ]=============>                                     ]=============>                                     ]=============>                                     ]=============>                                     ]=============>                                     ]=============>                                     ]=============>                                     ]=============>                                     ]=============>                                     ]=============>                                     ]=============>                                     ]=============>                                     ]=============>                                     ]=============>                                     ]=============>                                     ]=============>                                     ]=============>                                     ]=============>                                     ]=============>                                     ]=============>                                     ]=============>                                     ]=============>                                     ]=============>                                     ]=============>                                     ]=============>                                     ]=============>                                     ]=============>                                     ]=============>                                     ]=============>                                     ]=============>                                     ]=============>                                     ]=============>                                     ]=============>                                     ]=============>                                     ]=============>                                     ]=============>                                     ]=============>                                     ]=============>                                     ]=============>                                     ]=============>                                     ]=============>                                     ]=============>                                     ]=============>                                     ]=============>                                     ]=============>                                     ]=============>                                     ]=============>                                     ]=============>                                     ]=============>                                     ]=============>                                     ]=============>                                     ]=============>                                     ]=============>                                     ]=============>                                     ]=============>                                     ]=============>                                     ]=============>                                     ]=============>                                     ]=============>                                     ]=============>                                     ]=============>                                     ]=============>                                     ]=============>                                     ]=============>                                     ]=============>                                     ]=============>                                     ]=============>                                     ]=============>                                     ]==============>                                    ]==============>                                    ]==============>                                    ]==============>                                    ]==============>                                    ]==============>                                    ]==============>                                    ]==============>                                    ]==============>                                    ]==============>                                    ]==============>                                    ]==============>                                    ]==============>                                    ]==============>                                    ]==============>                                    ]==============>                                    ]==============>                                    ]==============>                                    ]==============>                                    ]==============>                                    ]==============>                                    ]==============>                                    ]==============>                                    ]==============>                                    ]==============>                                    ]==============>                                    ]==============>                                    ]==============>                                    ]==============>                                    ]==============>                                    ]==============>                                    ]==============>                                    ]==============>                                    ]==============>                                    ]==============>                                    ]==============>                                    ]==============>                                    ]==============>                                    ]==============>                                    ]==============>                                    ]==============>                                    ]==============>                                    ]==============>                                    ]==============>                                    ]==============>                                    ]==============>                                    ]==============>                                    ]==============>                                    ]==============>                                    ]==============>                                    ]==============>                                    ]==============>                                    ]==============>                                    ]==============>                                    ]==============>                                    ]==============>                                    ]==============>                                    ]==============>                                    ]==============>                                    ]==============>                                    ]==============>                                    ]==============>                                    ]==============>                                    ]==============>                                    ]==============>                                    ]==============>                                    ]==============>                                    ]==============>                                    ]==============>                                    ]==============>                                    ]==============>                                    ]==============>                                    ]==============>                                    ]==============>                                    ]==============>                                    ]==============>                                    ]==============>                                    ]==============>                                    ]==============>                                    ]==============>                                    ]==============>                                    ]==============>                                    ]==============>                                    ]==============>                                    ]===============>                                   ]===============>                                   ]===============>                                   ]===============>                                   ]===============>                                   ]===============>                                   ]===============>                                   ]===============>                                   ]===============>                                   ]===============>                                   ]===============>                                   ]===============>                                   ]===============>                                   ]===============>                                   ]===============>                                   ]===============>                                   ]===============>                                   ]===============>                                   ]===============>                                   ]===============>                                   ]===============>                                   ]===============>                                   ]===============>                                   ]===============>                                   ]===============>                                   ]===============>                                   ]===============>                                   ]===============>                                   ]===============>                                   ]===============>                                   ]===============>                                   ]===============>                                   ]===============>                                   ]===============>                                   ]===============>                                   ]===============>                                   ]===============>                                   ]===============>                                   ]===============>                                   ]===============>                                   ]===============>                                   ]===============>                                   ]===============>                                   ]===============>                                   ]===============>                                   ]===============>                                   ]===============>                                   ]===============>                                   ]===============>                                   ]===============>                                   ]===============>                                   ]===============>                                   ]===============>                                   ]===============>                                   ]===============>                                   ]===============>                                   ]===============>                                   ]===============>                                   ]===============>                                   ]===============>                                   ]===============>                                   ]===============>                                   ]===============>                                   ]===============>                                   ]===============>                                   ]===============>                                   ]===============>                                   ]===============>                                   ]===============>                                   ]===============>                                   ]===============>                                   ]===============>                                   ]===============>                                   ]===============>                                   ]===============>                                   ]===============>                                   ]===============>                                   ]===============>                                   ]===============>                                   ]===============>                                   ]===============>                                   ]===============>                                   ]===============>                                   ]===============>                                   ]===============>                                   ]===============>                                   ]===============>                                   ]===============>                                   ]===============>                                   ]===============>                                   ]===============>                                   ]===============>                                   ]===============>                                   ]===============>                                   ]===============>                                   ]===============>                                   ]===============>                                   ]================>                                  ]================>                                  ]================>                                  ]================>                                  ]================>                                  ]================>                                  ]================>                                  ]================>                                  ]================>                                  ]================>                                  ]================>                                  ]================>                                  ]================>                                  ]================>                                  ]================>                                  ]================>                                  ]================>                                  ]================>                                  ]================>                                  ]================>                                  ]================>                                  ]================>                                  ]================>                                  ]================>                                  ]================>                                  ]================>                                  ]================>                                  ]================>                                  ]================>                                  ]================>                                  ]================>                                  ]================>                                  ]================>                                  ]================>                                  ]================>                                  ]================>                                  ]================>                                  ]================>                                  ]================>                                  ]================>                                  ]================>                                  ]================>                                  ]================>                                  ]================>                                  ]================>                                  ]================>                                  ]================>                                  ]================>                                  ]================>                                  ]================>                                  ]================>                                  ]================>                                  ]================>                                  ]================>                                  ]================>                                  ]================>                                  ]================>                                  ]================>                                  ]================>                                  ]================>                                  ]================>                                  ]================>                                  ]================>                                  ]================>                                  ]================>                                  ]================>                                  ]================>                                  ]================>                                  ]================>                                  ]================>                                  ]================>                                  ]================>                                  ]================>                                  ]================>                                  ]================>                                  ]================>                                  ]================>                                  ]================>                                  ]================>                                  ]================>                                  ]================>                                  ]================>                                  ]================>                                  ]================>                                  ]================>                                  ]================>                                  ]================>                                  ]================>                                  ]================>                                  ]================>                                  ]================>                                  ]================>                                  ]================>                                  ]================>                                  ]================>                                  ]================>                                  ]================>                                  ]================>                                  ]================>                                  ]================>                                  ]================>                                  ]================>                                  ]=================>                                 ]=================>                                 ]=================>                                 ]=================>                                 ]=================>                                 ]=================>                                 ]=================>                                 ]=================>                                 ]=================>                                 ]=================>                                 ]=================>                                 ]=================>                                 ]=================>                                 ]=================>                                 ]=================>                                 ]=================>                                 ]=================>                                 ]=================>                                 ]=================>                                 ]=================>                                 ]=================>                                 ]=================>                                 ]=================>                                 ]=================>                                 ]=================>                                 ]=================>                                 ]=================>                                 ]=================>                                 ]=================>                                 ]=================>                                 ]=================>                                 ]=================>                                 ]=================>                                 ]=================>                                 ]=================>                                 ]=================>                                 ]=================>                                 ]=================>                                 ]=================>                                 ]=================>                                 ]=================>                                 ]=================>                                 ]=================>                                 ]=================>                                 ]=================>                                 ]=================>                                 ]=================>                                 ]=================>                                 ]=================>                                 ]=================>                                 ]=================>                                 ]=================>                                 ]=================>                                 ]=================>                                 ]=================>                                 ]=================>                                 ]=================>                                 ]=================>                                 ]=================>                                 ]=================>                                 ]=================>                                 ]=================>                                 ]=================>                                 ]=================>                                 ]=================>                                 ]=================>                                 ]=================>                                 ]=================>                                 ]=================>                                 ]=================>                                 ]=================>                                 ]=================>                                 ]=================>                                 ]=================>                                 ]=================>                                 ]=================>                                 ]=================>                                 ]=================>                                 ]=================>                                 ]=================>                                 ]=================>                                 ]=================>                                 ]=================>                                 ]=================>                                 ]=================>                                 ]=================>                                 ]=================>                                 ]=================>                                 ]=================>                                 ]=================>                                 ]=================>                                 ]=================>                                 ]=================>                                 ]=================>                                 ]=================>                                 ]=================>                                 ]=================>                                 ]=================>                                 ]=================>                                 ]=================>                                 ]=================>                                 ]=================>                                 ]=================>                                 ]=================>                                 ]=================>                                 ]=================>                                 ]==================>                                ]==================>                                ]==================>                                ]==================>                                ]==================>                                ]==================>                                ]==================>                                ]==================>                                ]==================>                                ]==================>                                ]==================>                                ]==================>                                ]==================>                                ]==================>                                ]==================>                                ]==================>                                ]==================>                                ]==================>                                ]==================>                                ]==================>                                ]==================>                                ]==================>                                ]==================>                                ]==================>                                ]==================>                                ]==================>                                ]==================>                                ]==================>                                ]==================>                                ]==================>                                ]==================>                                ]==================>                                ]==================>                                ]==================>                                ]==================>                                ]==================>                                ]==================>                                ]==================>                                ]==================>                                ]==================>                                ]==================>                                ]==================>                                ]==================>                                ]==================>                                ]==================>                                ]==================>                                ]==================>                                ]==================>                                ]==================>                                ]==================>                                ]==================>                                ]==================>                                ]==================>                                ]==================>                                ]==================>                                ]==================>                                ]==================>                                ]==================>                                ]==================>                                ]==================>                                ]==================>                                ]==================>                                ]==================>                                ]==================>                                ]==================>                                ]==================>                                ]==================>                                ]==================>                                ]==================>                                ]==================>                                ]==================>                                ]==================>                                ]==================>                                ]==================>                                ]==================>                                ]==================>                                ]==================>                                ]==================>                                ]==================>                                ]==================>                                ]==================>                                ]==================>                                ]==================>                                ]==================>                                ]==================>                                ]==================>                                ]==================>                                ]==================>                                ]==================>                                ]==================>                                ]==================>                                ]==================>                                ]==================>                                ]==================>                                ]==================>                                ]==================>                                ]==================>                                ]==================>                                ]==================>                                ]==================>                                ]==================>                                ]==================>                                ]==================>                                ]==================>                                ]==================>                                ]===================>                               ]===================>                               ]===================>                               ]===================>                               ]===================>                               ]===================>                               ]===================>                               ]===================>                               ]===================>                               ]===================>                               ]===================>                               ]===================>                               ]===================>                               ]===================>                               ]===================>                               ]===================>                               ]===================>                               ]===================>                               ]===================>                               ]===================>                               ]===================>                               ]===================>                               ]===================>                               ]===================>                               ]===================>                               ]===================>                               ]===================>                               ]===================>                               ]===================>                               ]===================>                               ]===================>                               ]===================>                               ]===================>                               ]===================>                               ]===================>                               ]===================>                               ]===================>                               ]===================>                               ]===================>                               ]===================>                               ]===================>                               ]===================>                               ]===================>                               ]===================>                               ]===================>                               ]===================>                               ]===================>                               ]===================>                               ]===================>                               ]===================>                               ]===================>                               ]===================>                               ]===================>                               ]===================>                               ]===================>                               ]===================>                               ]===================>                               ]===================>                               ]===================>                               ]===================>                               ]===================>                               ]===================>                               ]===================>                               ]===================>                               ]===================>                               ]===================>                               ]===================>                               ]===================>                               ]===================>                               ]===================>                               ]===================>                               ]===================>                               ]===================>                               ]===================>                               ]===================>                               ]===================>                               ]===================>                               ]===================>                               ]===================>                               ]===================>                               ]===================>                               ]===================>                               ]===================>                               ]===================>                               ]===================>                               ]===================>                               ]===================>                               ]===================>                               ]====================>                              ]====================>                              ]====================>                              ]====================>                              ]====================>                              ]====================>                              ]====================>                              ]====================>                              ]====================>                              ]====================>                              ]====================>                              ]====================>                              ]====================>                              ]====================>                              ]====================>                              ]====================>                              ]====================>                              ]====================>                              ]====================>                              ]====================>                              ]====================>                              ]====================>                              ]====================>                              ]====================>                              ]====================>                              ]====================>                              ]====================>                              ]====================>                              ]====================>                              ]====================>                              ]====================>                              ]====================>                              ]====================>                              ]====================>                              ]====================>                              ]====================>                              ]====================>                              ]====================>                              ]====================>                              ]====================>                              ]====================>                              ]====================>                              ]====================>                              ]====================>                              ]====================>                              ]====================>                              ]====================>                              ]====================>                              ]====================>                              ]====================>                              ]====================>                              ]====================>                              ]====================>                              ]====================>                              ]====================>                              ]====================>                              ]====================>                              ]====================>                              ]====================>                              ]====================>                              ]====================>                              ]====================>                              ]====================>                              ]====================>                              ]====================>                              ]====================>                              ]====================>                              ]====================>                              ]====================>                              ]====================>                              ]====================>                              ]====================>                              ]====================>                              ]====================>                              ]====================>                              ]====================>                              ]====================>                              ]====================>                              ]====================>                              ]====================>                              ]====================>                              ]====================>                              ]====================>                              ]====================>                              ]====================>                              ]====================>                              ]====================>                              ]====================>                              ]====================>                              ]====================>                              ]====================>                              ]====================>                              ]====================>                              ]====================>                              ]====================>                              ]====================>                              ]====================>                              ]====================>                              ]====================>                              ]====================>                              ]=====================>                             ]=====================>                             ]=====================>                             ]=====================>                             ]=====================>                             ]=====================>                             ]=====================>                             ]=====================>                             ]=====================>                             ]=====================>                             ]=====================>                             ]=====================>                             ]=====================>                             ]=====================>                             ]=====================>                             ]=====================>                             ]=====================>                             ]=====================>                             ]=====================>                             ]=====================>                             ]=====================>                             ]=====================>                             ]=====================>                             ]=====================>                             ]=====================>                             ]=====================>                             ]=====================>                             ]=====================>                             ]=====================>                             ]=====================>                             ]=====================>                             ]=====================>                             ]=====================>                             ]=====================>                             ]=====================>                             ]=====================>                             ]=====================>                             ]=====================>                             ]=====================>                             ]=====================>                             ]=====================>                             ]=====================>                             ]=====================>                             ]=====================>                             ]=====================>                             ]=====================>                             ]=====================>                             ]=====================>                             ]=====================>                             ]=====================>                             ]=====================>                             ]=====================>                             ]=====================>                             ]=====================>                             ]=====================>                             ]=====================>                             ]=====================>                             ]=====================>                             ]=====================>                             ]=====================>                             ]=====================>                             ]=====================>                             ]=====================>                             ]=====================>                             ]=====================>                             ]=====================>                             ]=====================>                             ]=====================>                             ]=====================>                             ]=====================>                             ]=====================>                             ]=====================>                             ]=====================>                             ]=====================>                             ]=====================>                             ]=====================>                             ]=====================>                             ]=====================>                             ]=====================>                             ]=====================>                             ]=====================>                             ]=====================>                             ]=====================>                             ]=====================>                             ]=====================>                             ]=====================>                             ]=====================>                             ]=====================>                             ]=====================>                             ]=====================>                             ]=====================>                             ]=====================>                             ]=====================>                             ]=====================>                             ]=====================>                             ]======================>                            ]======================>                            ]======================>                            ]======================>                            ]======================>                            ]======================>                            ]======================>                            ]======================>                            ]======================>                            ]======================>                            ]======================>                            ]======================>                            ]======================>                            ]======================>                            ]======================>                            ]======================>                            ]======================>                            ]======================>                            ]======================>                            ]======================>                            ]======================>                            ]======================>                            ]======================>                            ]======================>                            ]======================>                            ]======================>                            ]======================>                            ]======================>                            ]======================>                            ]======================>                            ]======================>                            ]======================>                            ]======================>                            ]======================>                            ]======================>                            ]======================>                            ]======================>                            ]======================>                            ]======================>                            ]======================>                            ]======================>                            ]======================>                            ]======================>                            ]======================>                            ]======================>                            ]======================>                            ]======================>                            ]======================>                            ]======================>                            ]======================>                            ]======================>                            ]======================>                            ]======================>                            ]======================>                            ]======================>                            ]======================>                            ]======================>                            ]======================>                            ]======================>                            ]======================>                            ]======================>                            ]======================>                            ]======================>                            ]======================>                            ]======================>                            ]======================>                            ]======================>                            ]======================>                            ]======================>                            ]======================>                            ]======================>                            ]======================>                            ]======================>                            ]======================>                            ]======================>                            ]======================>                            ]======================>                            ]======================>                            ]======================>                            ]======================>                            ]======================>                            ]======================>                            ]======================>                            ]======================>                            ]======================>                            ]======================>                            ]======================>                            ]======================>                            ]======================>                            ]======================>                            ]======================>                            ]======================>                            ]======================>                            ]======================>                            ]======================>                            ]======================>                            ]======================>                            ]======================>                            ]======================>                            ]======================>                            ]======================>                            ]======================>                            ]======================>                            ]======================>                            ]======================>                            ]======================>                            ]======================>                            ]======================>                            ]=======================>                           ]=======================>                           ]=======================>                           ]=======================>                           ]=======================>                           ]=======================>                           ]=======================>                           ]=======================>                           ]=======================>                           ]=======================>                           ]=======================>                           ]=======================>                           ]=======================>                           ]=======================>                           ]=======================>                           ]=======================>                           ]=======================>                           ]=======================>                           ]=======================>                           ]=======================>                           ]=======================>                           ]=======================>                           ]=======================>                           ]=======================>                           ]=======================>                           ]=======================>                           ]=======================>                           ]=======================>                           ]=======================>                           ]=======================>                           ]=======================>                           ]=======================>                           ]=======================>                           ]=======================>                           ]=======================>                           ]=======================>                           ]=======================>                           ]=======================>                           ]=======================>                           ]=======================>                           ]=======================>                           ]=======================>                           ]=======================>                           ]=======================>                           ]=======================>                           ]=======================>                           ]=======================>                           ]=======================>                           ]=======================>                           ]=======================>                           ]=======================>                           ]=======================>                           ]=======================>                           ]=======================>                           ]=======================>                           ]=======================>                           ]=======================>                           ]=======================>                           ]=======================>                           ]=======================>                           ]=======================>                           ]=======================>                           ]=======================>                           ]=======================>                           ]=======================>                           ]=======================>                           ]=======================>                           ]=======================>                           ]=======================>                           ]=======================>                           ]=======================>                           ]=======================>                           ]=======================>                           ]=======================>                           ]=======================>                           ]=======================>                           ]=======================>                           ]=======================>                           ]=======================>                           ]=======================>                           ]=======================>                           ]=======================>                           ]=======================>                           ]=======================>                           ]========================>                          ]========================>                          ]========================>                          ]========================>                          ]========================>                          ]========================>                          ]========================>                          ]========================>                          ]========================>                          ]========================>                          ]========================>                          ]========================>                          ]========================>                          ]========================>                          ]========================>                          ]========================>                          ]========================>                          ]========================>                          ]========================>                          ]========================>                          ]========================>                          ]========================>                          ]========================>                          ]========================>                          ]========================>                          ]========================>                          ]========================>                          ]========================>                          ]========================>                          ]========================>                          ]========================>                          ]========================>                          ]========================>                          ]========================>                          ]========================>                          ]========================>                          ]========================>                          ]========================>                          ]========================>                          ]========================>                          ]========================>                          ]========================>                          ]========================>                          ]========================>                          ]========================>                          ]========================>                          ]========================>                          ]========================>                          ]========================>                          ]========================>                          ]========================>                          ]========================>                          ]========================>                          ]========================>                          ]========================>                          ]========================>                          ]========================>                          ]========================>                          ]========================>                          ]========================>                          ]========================>                          ]========================>                          ]========================>                          ]========================>                          ]========================>                          ]========================>                          ]========================>                          ]========================>                          ]========================>                          ]========================>                          ]========================>                          ]========================>                          ]========================>                          ]========================>                          ]========================>                          ]========================>                          ]========================>                          ]========================>                          ]========================>                          ]========================>                          ]========================>                          ]========================>                          ]========================>                          ]========================>                          ]========================>                          ]========================>                          ]========================>                          ]========================>                          ]========================>                          ]========================>                          ]========================>                          ]========================>                          ]========================>                          ]=========================>                         ]=========================>                         ]=========================>                         ]=========================>                         ]=========================>                         ]=========================>                         ]=========================>                         ]=========================>                         ]=========================>                         ]=========================>                         ]=========================>                         ]=========================>                         ]=========================>                         ]=========================>                         ]=========================>                         ]=========================>                         ]=========================>                         ]=========================>                         ]=========================>                         ]=========================>                         ]=========================>                         ]=========================>                         ]=========================>                         ]=========================>                         ]=========================>                         ]=========================>                         ]=========================>                         ]=========================>                         ]=========================>                         ]=========================>                         ]=========================>                         ]=========================>                         ]=========================>                         ]=========================>                         ]=========================>                         ]=========================>                         ]=========================>                         ]=========================>                         ]=========================>                         ]=========================>                         ]=========================>                         ]=========================>                         ]=========================>                         ]=========================>                         ]=========================>                         ]=========================>                         ]=========================>                         ]=========================>                         ]=========================>                         ]=========================>                         ]=========================>                         ]=========================>                         ]=========================>                         ]=========================>                         ]=========================>                         ]=========================>                         ]=========================>                         ]=========================>                         ]=========================>                         ]=========================>                         ]=========================>                         ]=========================>                         ]=========================>                         ]=========================>                         ]=========================>                         ]=========================>                         ]=========================>                         ]=========================>                         ]=========================>                         ]=========================>                         ]=========================>                         ]=========================>                         ]=========================>                         ]=========================>                         ]=========================>                         ]=========================>                         ]=========================>                         ]=========================>                         ]=========================>                         ]=========================>                         ]=========================>                         ]=========================>                         ]=========================>                         ]=========================>                         ]=========================>                         ]=========================>                         ]=========================>                         ]=========================>                         ]=========================>                         ]=========================>                         ]==========================>                        ]==========================>                        ]==========================>                        ]==========================>                        ]==========================>                        ]==========================>                        ]==========================>                        ]==========================>                        ]==========================>                        ]==========================>                        ]==========================>                        ]==========================>                        ]==========================>                        ]==========================>                        ]==========================>                        ]==========================>                        ]==========================>                        ]==========================>                        ]==========================>                        ]==========================>                        ]==========================>                        ]==========================>                        ]==========================>                        ]==========================>                        ]==========================>                        ]==========================>                        ]==========================>                        ]==========================>                        ]==========================>                        ]==========================>                        ]==========================>                        ]==========================>                        ]==========================>                        ]==========================>                        ]==========================>                        ]==========================>                        ]==========================>                        ]==========================>                        ]==========================>                        ]==========================>                        ]==========================>                        ]==========================>                        ]==========================>                        ]==========================>                        ]==========================>                        ]==========================>                        ]==========================>                        ]==========================>                        ]==========================>                        ]==========================>                        ]==========================>                        ]==========================>                        ]==========================>                        ]==========================>                        ]==========================>                        ]==========================>                        ]==========================>                        ]==========================>                        ]==========================>                        ]==========================>                        ]==========================>                        ]==========================>                        ]==========================>                        ]==========================>                        ]==========================>                        ]==========================>                        ]==========================>                        ]==========================>                        ]==========================>                        ]==========================>                        ]==========================>                        ]==========================>                        ]==========================>                        ]==========================>                        ]==========================>                        ]==========================>                        ]==========================>                        ]==========================>                        ]==========================>                        ]==========================>                        ]==========================>                        ]==========================>                        ]==========================>                        ]==========================>                        ]==========================>                        ]==========================>                        ]==========================>                        ]===========================>                       ]===========================>                       ]===========================>                       ]===========================>                       ]===========================>                       ]===========================>                       ]===========================>                       ]===========================>                       ]===========================>                       ]===========================>                       ]===========================>                       ]===========================>                       ]===========================>                       ]===========================>                       ]===========================>                       ]===========================>                       ]===========================>                       ]===========================>                       ]===========================>                       ]===========================>                       ]===========================>                       ]===========================>                       ]===========================>                       ]===========================>                       ]===========================>                       ]===========================>                       ]===========================>                       ]===========================>                       ]===========================>                       ]===========================>                       ]===========================>                       ]===========================>                       ]===========================>                       ]===========================>                       ]===========================>                       ]===========================>                       ]===========================>                       ]===========================>                       ]===========================>                       ]===========================>                       ]===========================>                       ]===========================>                       ]===========================>                       ]===========================>                       ]===========================>                       ]===========================>                       ]===========================>                       ]===========================>                       ]===========================>                       ]===========================>                       ]===========================>                       ]===========================>                       ]===========================>                       ]===========================>                       ]===========================>                       ]===========================>                       ]===========================>                       ]===========================>                       ]===========================>                       ]===========================>                       ]===========================>                       ]===========================>                       ]===========================>                       ]===========================>                       ]===========================>                       ]===========================>                       ]===========================>                       ]===========================>                       ]===========================>                       ]===========================>                       ]===========================>                       ]===========================>                       ]===========================>                       ]===========================>                       ]===========================>                       ]===========================>                       ]===========================>                       ]===========================>                       ]===========================>                       ]===========================>                       ]===========================>                       ]===========================>                       ]===========================>                       ]===========================>                       ]===========================>                       ]===========================>                       ]===========================>                       ]============================>                      ]============================>                      ]============================>                      ]============================>                      ]============================>                      ]============================>                      ]============================>                      ]============================>                      ]============================>                      ]============================>                      ]============================>                      ]============================>                      ]============================>                      ]============================>                      ]============================>                      ]============================>                      ]============================>                      ]============================>                      ]============================>                      ]============================>                      ]============================>                      ]============================>                      ]============================>                      ]============================>                      ]============================>                      ]============================>                      ]============================>                      ]============================>                      ]============================>                      ]============================>                      ]============================>                      ]============================>                      ]============================>                      ]============================>                      ]============================>                      ]============================>                      ]============================>                      ]============================>                      ]============================>                      ]============================>                      ]============================>                      ]============================>                      ]============================>                      ]============================>                      ]============================>                      ]============================>                      ]============================>                      ]============================>                      ]============================>                      ]============================>                      ]============================>                      ]============================>                      ]============================>                      ]============================>                      ]============================>                      ]============================>                      ]============================>                      ]============================>                      ]============================>                      ]============================>                      ]============================>                      ]============================>                      ]============================>                      ]============================>                      ]============================>                      ]============================>                      ]============================>                      ]============================>                      ]============================>                      ]============================>                      ]============================>                      ]============================>                      ]============================>                      ]============================>                      ]============================>                      ]============================>                      ]============================>                      ]============================>                      ]============================>                      ]============================>                      ]============================>                      ]============================>                      ]============================>                      ]============================>                      ]============================>                      ]============================>                      ]============================>                      ]============================>                      ]============================>                      ]============================>                      ]============================>                      ]============================>                      ]============================>                      ]============================>                      ]============================>                      ]============================>                      ]============================>                      ]============================>                      ]============================>                      ]============================>                      ]============================>                      ]============================>                      ]============================>                      ]============================>                      ]============================>                      ]============================>                      ]============================>                      ]============================>                      ]=============================>                     ]=============================>                     ]=============================>                     ]=============================>                     ]=============================>                     ]=============================>                     ]=============================>                     ]=============================>                     ]=============================>                     ]=============================>                     ]=============================>                     ]=============================>                     ]=============================>                     ]=============================>                     ]=============================>                     ]=============================>                     ]=============================>                     ]=============================>                     ]=============================>                     ]=============================>                     ]=============================>                     ]=============================>                     ]=============================>                     ]=============================>                     ]=============================>                     ]=============================>                     ]=============================>                     ]=============================>                     ]=============================>                     ]=============================>                     ]=============================>                     ]=============================>                     ]=============================>                     ]=============================>                     ]=============================>                     ]=============================>                     ]=============================>                     ]=============================>                     ]=============================>                     ]=============================>                     ]=============================>                     ]=============================>                     ]=============================>                     ]=============================>                     ]=============================>                     ]=============================>                     ]=============================>                     ]=============================>                     ]=============================>                     ]=============================>                     ]=============================>                     ]=============================>                     ]=============================>                     ]=============================>                     ]=============================>                     ]=============================>                     ]=============================>                     ]=============================>                     ]=============================>                     ]=============================>                     ]=============================>                     ]=============================>                     ]=============================>                     ]=============================>                     ]=============================>                     ]=============================>                     ]=============================>                     ]=============================>                     ]=============================>                     ]=============================>                     ]=============================>                     ]=============================>                     ]=============================>                     ]=============================>                     ]=============================>                     ]=============================>                     ]=============================>                     ]=============================>                     ]=============================>                     ]=============================>                     ]=============================>                     ]=============================>                     ]=============================>                     ]=============================>                     ]=============================>                     ]=============================>                     ]=============================>                     ]==============================>                    ]==============================>                    ]==============================>                    ]==============================>                    ]==============================>                    ]==============================>                    ]==============================>                    ]==============================>                    ]==============================>                    ]==============================>                    ]==============================>                    ]==============================>                    ]==============================>                    ]==============================>                    ]==============================>                    ]==============================>                    ]==============================>                    ]==============================>                    ]==============================>                    ]==============================>                    ]==============================>                    ]==============================>                    ]==============================>                    ]==============================>                    ]==============================>                    ]==============================>                    ]==============================>                    ]==============================>                    ]==============================>                    ]==============================>                    ]==============================>                    ]==============================>                    ]==============================>                    ]==============================>                    ]==============================>                    ]==============================>                    ]==============================>                    ]==============================>                    ]==============================>                    ]==============================>                    ]==============================>                    ]==============================>                    ]==============================>                    ]==============================>                    ]==============================>                    ]==============================>                    ]==============================>                    ]==============================>                    ]==============================>                    ]==============================>                    ]==============================>                    ]==============================>                    ]==============================>                    ]==============================>                    ]==============================>                    ]==============================>                    ]==============================>                    ]==============================>                    ]==============================>                    ]==============================>                    ]===============================>                   ]===============================>                   ]===============================>                   ]===============================>                   ]===============================>                   ]===============================>                   ]===============================>                   ]===============================>                   ]===============================>                   ]===============================>                   ]===============================>                   ]===============================>                   ]===============================>                   ]===============================>                   ]===============================>                   ]===============================>                   ]===============================>                   ]===============================>                   ]===============================>                   ]===============================>                   ]===============================>                   ]===============================>                   ]===============================>                   ]===============================>                   ]===============================>                   ]===============================>                   ]===============================>                   ]===============================>                   ]===============================>                   ]===============================>                   ]===============================>                   ]===============================>                   ]===============================>                   ]===============================>                   ]===============================>                   ]===============================>                   ]===============================>                   ]===============================>                   ]===============================>                   ]===============================>                   ]===============================>                   ]===============================>                   ]===============================>                   ]===============================>                   ]===============================>                   ]===============================>                   ]===============================>                   ]===============================>                   ]===============================>                   ]===============================>                   ]===============================>                   ]===============================>                   ]===============================>                   ]===============================>                   ]===============================>                   ]===============================>                   ]===============================>                   ]===============================>                   ]===============================>                   ]===============================>                   ]===============================>                   ]===============================>                   ]===============================>                   ]===============================>                   ]===============================>                   ]===============================>                   ]===============================>                   ]===============================>                   ]===============================>                   ]===============================>                   ]===============================>                   ]===============================>                   ]===============================>                   ]================================>                  ]================================>                  ]================================>                  ]================================>                  ]================================>                  ]================================>                  ]================================>                  ]================================>                  ]================================>                  ]================================>                  ]================================>                  ]================================>                  ]================================>                  ]================================>                  ]================================>                  ]================================>                  ]================================>                  ]================================>                  ]================================>                  ]================================>                  ]================================>                  ]================================>                  ]================================>                  ]================================>                  ]================================>                  ]================================>                  ]================================>                  ]================================>                  ]================================>                  ]================================>                  ]================================>                  ]================================>                  ]================================>                  ]================================>                  ]================================>                  ]================================>                  ]================================>                  ]================================>                  ]================================>                  ]================================>                  ]================================>                  ]================================>                  ]================================>                  ]================================>                  ]================================>                  ]================================>                  ]================================>                  ]================================>                  ]================================>                  ]================================>                  ]================================>                  ]================================>                  ]================================>                  ]================================>                  ]================================>                  ]================================>                  ]================================>                  ]================================>                  ]================================>                  ]================================>                  ]================================>                  ]================================>                  ]================================>                  ]================================>                  ]================================>                  ]================================>                  ]================================>                  ]================================>                  ]================================>                  ]================================>                  ]================================>                  ]=================================>                 ]=================================>                 ]=================================>                 ]=================================>                 ]=================================>                 ]=================================>                 ]=================================>                 ]=================================>                 ]=================================>                 ]=================================>                 ]=================================>                 ]=================================>                 ]=================================>                 ]=================================>                 ]=================================>                 ]=================================>                 ]=================================>                 ]=================================>                 ]=================================>                 ]=================================>                 ]=================================>                 ]=================================>                 ]=================================>                 ]=================================>                 ]=================================>                 ]=================================>                 ]=================================>                 ]=================================>                 ]=================================>                 ]=================================>                 ]=================================>                 ]=================================>                 ]=================================>                 ]=================================>                 ]=================================>                 ]=================================>                 ]=================================>                 ]=================================>                 ]=================================>                 ]=================================>                 ]=================================>                 ]=================================>                 ]=================================>                 ]=================================>                 ]=================================>                 ]=================================>                 ]=================================>                 ]=================================>                 ]=================================>                 ]=================================>                 ]=================================>                 ]=================================>                 ]=================================>                 ]=================================>                 ]=================================>                 ]=================================>                 ]=================================>                 ]=================================>                 ]=================================>                 ]=================================>                 ]=================================>                 ]=================================>                 ]=================================>                 ]=================================>                 ]==================================>                ]==================================>                ]==================================>                ]==================================>                ]==================================>                ]==================================>                ]==================================>                ]==================================>                ]==================================>                ]==================================>                ]==================================>                ]==================================>                ]==================================>                ]==================================>                ]==================================>                ]==================================>                ]==================================>                ]==================================>                ]==================================>                ]==================================>                ]==================================>                ]==================================>                ]==================================>                ]==================================>                ]==================================>                ]==================================>                ]==================================>                ]==================================>                ]==================================>                ]==================================>                ]==================================>                ]==================================>                ]==================================>                ]==================================>                ]==================================>                ]==================================>                ]==================================>                ]==================================>                ]==================================>                ]==================================>                ]==================================>                ]==================================>                ]==================================>                ]==================================>                ]==================================>                ]==================================>                ]==================================>                ]==================================>                ]==================================>                ]==================================>                ]==================================>                ]==================================>                ]==================================>                ]==================================>                ]==================================>                ]==================================>                ]==================================>                ]==================================>                ]==================================>                ]==================================>                ]==================================>                ]==================================>                ]==================================>                ]==================================>                ]==================================>                ]==================================>                ]==================================>                ]==================================>                ]==================================>                ]==================================>                ]==================================>                ]==================================>                ]==================================>                ]==================================>                ]==================================>                ]==================================>                ]==================================>                ]==================================>                ]==================================>                ]==================================>                ]==================================>                ]==================================>                ]==================================>                ]==================================>                ]==================================>                ]===================================>               ]===================================>               ]===================================>               ]===================================>               ]===================================>               ]===================================>               ]===================================>               ]===================================>               ]===================================>               ]===================================>               ]===================================>               ]===================================>               ]===================================>               ]===================================>               ]===================================>               ]===================================>               ]===================================>               ]===================================>               ]===================================>               ]===================================>               ]===================================>               ]===================================>               ]===================================>               ]===================================>               ]===================================>               ]===================================>               ]===================================>               ]===================================>               ]===================================>               ]===================================>               ]===================================>               ]===================================>               ]===================================>               ]===================================>               ]===================================>               ]===================================>               ]===================================>               ]===================================>               ]===================================>               ]===================================>               ]===================================>               ]===================================>               ]===================================>               ]===================================>               ]===================================>               ]===================================>               ]===================================>               ]===================================>               ]===================================>               ]===================================>               ]===================================>               ]===================================>               ]===================================>               ]===================================>               ]===================================>               ]===================================>               ]===================================>               ]===================================>               ]===================================>               ]===================================>               ]===================================>               ]===================================>               ]===================================>               ]===================================>               ]===================================>               ]===================================>               ]===================================>               ]===================================>               ]===================================>               ]===================================>               ]===================================>               ]===================================>               ]===================================>               ]===================================>               ]===================================>               ]===================================>               ]===================================>               ]===================================>               ]===================================>               ]===================================>               ]===================================>               ]===================================>               ]===================================>               ]===================================>               ]===================================>               ]===================================>               ]===================================>               ]===================================>               ]====================================>              ]====================================>              ]====================================>              ]====================================>              ]====================================>              ]====================================>              ]====================================>              ]====================================>              ]====================================>              ]====================================>              ]====================================>              ]====================================>              ]====================================>              ]====================================>              ]====================================>              ]====================================>              ]====================================>              ]====================================>              ]====================================>              ]====================================>              ]====================================>              ]====================================>              ]====================================>              ]====================================>              ]====================================>              ]====================================>              ]====================================>              ]====================================>              ]====================================>              ]====================================>              ]====================================>              ]====================================>              ]====================================>              ]====================================>              ]====================================>              ]====================================>              ]====================================>              ]====================================>              ]====================================>              ]====================================>              ]====================================>              ]====================================>              ]====================================>              ]====================================>              ]====================================>              ]====================================>              ]====================================>              ]====================================>              ]====================================>              ]====================================>              ]====================================>              ]====================================>              ]====================================>              ]====================================>              ]====================================>              ]====================================>              ]====================================>              ]====================================>              ]====================================>              ]====================================>              ]====================================>              ]====================================>              ]====================================>              ]====================================>              ]====================================>              ]====================================>              ]====================================>              ]====================================>              ]====================================>              ]====================================>              ]====================================>              ]====================================>              ]====================================>              ]====================================>              ]====================================>              ]====================================>              ]====================================>              ]====================================>              ]====================================>              ]====================================>              ]====================================>              ]====================================>              ]====================================>              ]====================================>              ]====================================>              ]====================================>              ]====================================>              ]=====================================>             ]=====================================>             ]=====================================>             ]=====================================>             ]=====================================>             ]=====================================>             ]=====================================>             ]=====================================>             ]=====================================>             ]=====================================>             ]=====================================>             ]=====================================>             ]=====================================>             ]=====================================>             ]=====================================>             ]=====================================>             ]=====================================>             ]=====================================>             ]=====================================>             ]=====================================>             ]=====================================>             ]=====================================>             ]=====================================>             ]=====================================>             ]=====================================>             ]=====================================>             ]=====================================>             ]=====================================>             ]=====================================>             ]=====================================>             ]=====================================>             ]=====================================>             ]=====================================>             ]=====================================>             ]=====================================>             ]=====================================>             ]=====================================>             ]=====================================>             ]=====================================>             ]=====================================>             ]=====================================>             ]=====================================>             ]=====================================>             ]=====================================>             ]=====================================>             ]=====================================>             ]=====================================>             ]=====================================>             ]=====================================>             ]=====================================>             ]=====================================>             ]=====================================>             ]=====================================>             ]=====================================>             ]=====================================>             ]=====================================>             ]=====================================>             ]=====================================>             ]=====================================>             ]=====================================>             ]=====================================>             ]=====================================>             ]=====================================>             ]=====================================>             ]=====================================>             ]=====================================>             ]=====================================>             ]=====================================>             ]=====================================>             ]=====================================>             ]=====================================>             ]=====================================>             ]=====================================>             ]=====================================>             ]=====================================>             ]=====================================>             ]=====================================>             ]=====================================>             ]=====================================>             ]=====================================>             ]=====================================>             ]=====================================>             ]=====================================>             ]=====================================>             ]=====================================>             ]=====================================>             ]=====================================>             ]=====================================>             ]=====================================>             ]=====================================>             ]======================================>            ]======================================>            ]======================================>            ]======================================>            ]======================================>            ]======================================>            ]======================================>            ]======================================>            ]======================================>            ]======================================>            ]======================================>            ]======================================>            ]======================================>            ]======================================>            ]======================================>            ]======================================>            ]======================================>            ]======================================>            ]======================================>            ]======================================>            ]======================================>            ]======================================>            ]======================================>            ]======================================>            ]======================================>            ]======================================>            ]======================================>            ]======================================>            ]======================================>            ]======================================>            ]======================================>            ]======================================>            ]======================================>            ]======================================>            ]======================================>            ]======================================>            ]======================================>            ]======================================>            ]======================================>            ]======================================>            ]======================================>            ]======================================>            ]======================================>            ]======================================>            ]======================================>            ]======================================>            ]======================================>            ]======================================>            ]======================================>            ]======================================>            ]======================================>            ]======================================>            ]======================================>            ]======================================>            ]======================================>            ]======================================>            ]======================================>            ]======================================>            ]======================================>            ]======================================>            ]======================================>            ]======================================>            ]======================================>            ]======================================>            ]======================================>            ]======================================>            ]======================================>            ]======================================>            ]======================================>            ]======================================>            ]======================================>            ]======================================>            ]======================================>            ]======================================>            ]======================================>            ]======================================>            ]=======================================>           ]=======================================>           ]=======================================>           ]=======================================>           ]=======================================>           ]=======================================>           ]=======================================>           ]=======================================>           ]=======================================>           ]=======================================>           ]=======================================>           ]=======================================>           ]=======================================>           ]=======================================>           ]=======================================>           ]=======================================>           ]=======================================>           ]=======================================>           ]=======================================>           ]=======================================>           ]=======================================>           ]=======================================>           ]=======================================>           ]=======================================>           ]=======================================>           ]=======================================>           ]=======================================>           ]=======================================>           ]=======================================>           ]=======================================>           ]=======================================>           ]=======================================>           ]=======================================>           ]=======================================>           ]=======================================>           ]=======================================>           ]=======================================>           ]=======================================>           ]=======================================>           ]=======================================>           ]=======================================>           ]=======================================>           ]=======================================>           ]=======================================>           ]=======================================>           ]=======================================>           ]=======================================>           ]=======================================>           ]=======================================>           ]=======================================>           ]=======================================>           ]=======================================>           ]=======================================>           ]=======================================>           ]=======================================>           ]=======================================>           ]=======================================>           ]=======================================>           ]=======================================>           ]=======================================>           ]=======================================>           ]=======================================>           ]=======================================>           ]=======================================>           ]=======================================>           ]=======================================>           ]=======================================>           ]=======================================>           ]=======================================>           ]=======================================>           ]=======================================>           ]=======================================>           ]=======================================>           ]=======================================>           ]=======================================>           ]=======================================>           ]=======================================>           ]=======================================>           ]=======================================>           ]========================================>          ]========================================>          ]========================================>          ]========================================>          ]========================================>          ]========================================>          ]========================================>          ]========================================>          ]========================================>          ]========================================>          ]========================================>          ]========================================>          ]========================================>          ]========================================>          ]========================================>          ]========================================>          ]========================================>          ]========================================>          ]========================================>          ]========================================>          ]========================================>          ]========================================>          ]========================================>          ]========================================>          ]========================================>          ]========================================>          ]========================================>          ]========================================>          ]========================================>          ]========================================>          ]========================================>          ]========================================>          ]========================================>          ]========================================>          ]========================================>          ]========================================>          ]========================================>          ]========================================>          ]========================================>          ]========================================>          ]========================================>          ]========================================>          ]========================================>          ]========================================>          ]========================================>          ]========================================>          ]========================================>          ]========================================>          ]========================================>          ]========================================>          ]========================================>          ]========================================>          ]========================================>          ]========================================>          ]========================================>          ]========================================>          ]========================================>          ]========================================>          ]========================================>          ]========================================>          ]========================================>          ]========================================>          ]========================================>          ]========================================>          ]========================================>          ]========================================>          ]========================================>          ]========================================>          ]========================================>          ]========================================>          ]========================================>          ]========================================>          ]========================================>          ]========================================>          ]========================================>          ]========================================>          ]========================================>          ]========================================>          ]========================================>          ]========================================>          ]========================================>          ]========================================>          ]========================================>          ]========================================>          ]========================================>          ]========================================>          ]========================================>          ]========================================>          ]========================================>          ]========================================>          ]========================================>          ]========================================>          ]========================================>          ]========================================>          ]========================================>          ]========================================>          ]========================================>          ]========================================>          ]========================================>          ]========================================>          ]========================================>          ]========================================>          ]========================================>          ]========================================>          ]========================================>          ]========================================>          ]========================================>          ]========================================>          ]========================================>          ]========================================>          ]========================================>          ]========================================>          ]========================================>          ]========================================>          ]========================================>          ]========================================>          ]========================================>          ]========================================>          ]========================================>          ]========================================>          ]========================================>          ]========================================>          ]========================================>          ]========================================>          ]========================================>          ]========================================>          ]========================================>          ]=========================================>         ]=========================================>         ]=========================================>         ]=========================================>         ]=========================================>         ]=========================================>         ]=========================================>         ]=========================================>         ]=========================================>         ]=========================================>         ]=========================================>         ]=========================================>         ]=========================================>         ]=========================================>         ]=========================================>         ]=========================================>         ]=========================================>         ]=========================================>         ]=========================================>         ]=========================================>         ]=========================================>         ]=========================================>         ]=========================================>         ]=========================================>         ]=========================================>         ]=========================================>         ]=========================================>         ]=========================================>         ]=========================================>         ]=========================================>         ]=========================================>         ]=========================================>         ]=========================================>         ]=========================================>         ]=========================================>         ]=========================================>         ]=========================================>         ]=========================================>         ]=========================================>         ]=========================================>         ]=========================================>         ]=========================================>         ]=========================================>         ]=========================================>         ]=========================================>         ]=========================================>         ]=========================================>         ]=========================================>         ]=========================================>         ]=========================================>         ]=========================================>         ]=========================================>         ]=========================================>         ]=========================================>         ]=========================================>         ]=========================================>         ]=========================================>         ]=========================================>         ]=========================================>         ]=========================================>         ]=========================================>         ]=========================================>         ]=========================================>         ]=========================================>         ]=========================================>         ]=========================================>         ]=========================================>         ]=========================================>         ]=========================================>         ]=========================================>         ]=========================================>         ]=========================================>         ]=========================================>         ]=========================================>         ]=========================================>         ]=========================================>         ]=========================================>         ]=========================================>         ]=========================================>         ]=========================================>         ]=========================================>         ]=========================================>         ]=========================================>         ]=========================================>         ]=========================================>         ]=========================================>         ]=========================================>         ]=========================================>         ]=========================================>         ]=========================================>         ]=========================================>         ]=========================================>         ]=========================================>         ]=========================================>         ]=========================================>         ]=========================================>         ]=========================================>         ]=========================================>         ]=========================================>         ]=========================================>         ]==========================================>        ]==========================================>        ]==========================================>        ]==========================================>        ]==========================================>        ]==========================================>        ]==========================================>        ]==========================================>        ]==========================================>        ]==========================================>        ]==========================================>        ]==========================================>        ]==========================================>        ]==========================================>        ]==========================================>        ]==========================================>        ]==========================================>        ]==========================================>        ]==========================================>        ]==========================================>        ]==========================================>        ]==========================================>        ]==========================================>        ]==========================================>        ]==========================================>        ]==========================================>        ]==========================================>        ]==========================================>        ]==========================================>        ]==========================================>        ]==========================================>        ]==========================================>        ]==========================================>        ]==========================================>        ]==========================================>        ]==========================================>        ]==========================================>        ]==========================================>        ]==========================================>        ]==========================================>        ]==========================================>        ]==========================================>        ]==========================================>        ]==========================================>        ]==========================================>        ]==========================================>        ]==========================================>        ]==========================================>        ]==========================================>        ]==========================================>        ]==========================================>        ]==========================================>        ]==========================================>        ]==========================================>        ]==========================================>        ]==========================================>        ]==========================================>        ]==========================================>        ]==========================================>        ]==========================================>        ]==========================================>        ]==========================================>        ]==========================================>        ]==========================================>        ]==========================================>        ]==========================================>        ]==========================================>        ]==========================================>        ]==========================================>        ]==========================================>        ]==========================================>        ]==========================================>        ]==========================================>        ]==========================================>        ]==========================================>        ]==========================================>        ]==========================================>        ]==========================================>        ]==========================================>        ]==========================================>        ]==========================================>        ]==========================================>        ]==========================================>        ]===========================================>       ]===========================================>       ]===========================================>       ]===========================================>       ]===========================================>       ]===========================================>       ]===========================================>       ]===========================================>       ]===========================================>       ]===========================================>       ]===========================================>       ]===========================================>       ]===========================================>       ]===========================================>       ]===========================================>       ]===========================================>       ]===========================================>       ]===========================================>       ]===========================================>       ]===========================================>       ]===========================================>       ]===========================================>       ]===========================================>       ]===========================================>       ]===========================================>       ]===========================================>       ]===========================================>       ]===========================================>       ]===========================================>       ]===========================================>       ]===========================================>       ]===========================================>       ]===========================================>       ]===========================================>       ]===========================================>       ]===========================================>       ]===========================================>       ]===========================================>       ]===========================================>       ]===========================================>       ]===========================================>       ]===========================================>       ]===========================================>       ]===========================================>       ]===========================================>       ]===========================================>       ]===========================================>       ]===========================================>       ]===========================================>       ]===========================================>       ]===========================================>       ]===========================================>       ]===========================================>       ]===========================================>       ]===========================================>       ]===========================================>       ]===========================================>       ]===========================================>       ]===========================================>       ]===========================================>       ]===========================================>       ]===========================================>       ]===========================================>       ]===========================================>       ]===========================================>       ]===========================================>       ]===========================================>       ]===========================================>       ]===========================================>       ]===========================================>       ]===========================================>       ]===========================================>       ]===========================================>       ]===========================================>       ]===========================================>       ]===========================================>       ]===========================================>       ]===========================================>       ]===========================================>       ]===========================================>       ]============================================>      ]============================================>      ]============================================>      ]============================================>      ]============================================>      ]============================================>      ]============================================>      ]============================================>      ]============================================>      ]============================================>      ]============================================>      ]============================================>      ]============================================>      ]============================================>      ]============================================>      ]============================================>      ]============================================>      ]============================================>      ]============================================>      ]============================================>      ]============================================>      ]============================================>      ]============================================>      ]============================================>      ]============================================>      ]============================================>      ]============================================>      ]============================================>      ]============================================>      ]============================================>      ]============================================>      ]============================================>      ]============================================>      ]============================================>      ]============================================>      ]============================================>      ]============================================>      ]============================================>      ]============================================>      ]============================================>      ]============================================>      ]============================================>      ]============================================>      ]============================================>      ]============================================>      ]============================================>      ]============================================>      ]============================================>      ]============================================>      ]============================================>      ]============================================>      ]============================================>      ]============================================>      ]============================================>      ]============================================>      ]============================================>      ]============================================>      ]============================================>      ]============================================>      ]============================================>      ]============================================>      ]============================================>      ]============================================>      ]============================================>      ]============================================>      ]============================================>      ]============================================>      ]============================================>      ]============================================>      ]============================================>      ]============================================>      ]============================================>      ]============================================>      ]============================================>      ]============================================>      ]============================================>      ]============================================>      ]============================================>      ]============================================>      ]============================================>      ]============================================>      ]============================================>      ]============================================>      ]============================================>      ]============================================>      ]============================================>      ]============================================>      ]============================================>      ]============================================>      ]============================================>      ]============================================>      ]============================================>      ]=============================================>     ]=============================================>     ]=============================================>     ]=============================================>     ]=============================================>     ]=============================================>     ]=============================================>     ]=============================================>     ]=============================================>     ]=============================================>     ]=============================================>     ]=============================================>     ]=============================================>     ]=============================================>     ]=============================================>     ]=============================================>     ]=============================================>     ]=============================================>     ]=============================================>     ]=============================================>     ]=============================================>     ]=============================================>     ]=============================================>     ]=============================================>     ]=============================================>     ]=============================================>     ]=============================================>     ]=============================================>     ]=============================================>     ]=============================================>     ]=============================================>     ]=============================================>     ]=============================================>     ]=============================================>     ]=============================================>     ]=============================================>     ]=============================================>     ]=============================================>     ]=============================================>     ]=============================================>     ]=============================================>     ]=============================================>     ]=============================================>     ]=============================================>     ]=============================================>     ]=============================================>     ]=============================================>     ]=============================================>     ]=============================================>     ]=============================================>     ]=============================================>     ]=============================================>     ]=============================================>     ]=============================================>     ]=============================================>     ]=============================================>     ]=============================================>     ]=============================================>     ]=============================================>     ]=============================================>     ]=============================================>     ]=============================================>     ]=============================================>     ]=============================================>     ]=============================================>     ]=============================================>     ]=============================================>     ]=============================================>     ]=============================================>     ]=============================================>     ]=============================================>     ]=============================================>     ]=============================================>     ]=============================================>     ]=============================================>     ]=============================================>     ]=============================================>     ]=============================================>     ]=============================================>     ]=============================================>     ]==============================================>    ]==============================================>    ]==============================================>    ]==============================================>    ]==============================================>    ]==============================================>    ]==============================================>    ]==============================================>    ]==============================================>    ]==============================================>    ]==============================================>    ]==============================================>    ]==============================================>    ]==============================================>    ]==============================================>    ]==============================================>    ]==============================================>    ]==============================================>    ]==============================================>    ]==============================================>    ]==============================================>    ]==============================================>    ]==============================================>    ]==============================================>    ]==============================================>    ]==============================================>    ]==============================================>    ]==============================================>    ]==============================================>    ]==============================================>    ]==============================================>    ]==============================================>    ]==============================================>    ]==============================================>    ]==============================================>    ]==============================================>    ]==============================================>    ]==============================================>    ]==============================================>    ]==============================================>    ]==============================================>    ]==============================================>    ]==============================================>    ]==============================================>    ]==============================================>    ]==============================================>    ]==============================================>    ]==============================================>    ]==============================================>    ]==============================================>    ]==============================================>    ]==============================================>    ]==============================================>    ]==============================================>    ]==============================================>    ]==============================================>    ]==============================================>    ]==============================================>    ]==============================================>    ]==============================================>    ]==============================================>    ]==============================================>    ]==============================================>    ]==============================================>    ]==============================================>    ]==============================================>    ]==============================================>    ]==============================================>    ]==============================================>    ]==============================================>    ]==============================================>    ]==============================================>    ]==============================================>    ]==============================================>    ]==============================================>    ]==============================================>    ]==============================================>    ]==============================================>    ]===============================================>   ]===============================================>   ]===============================================>   ]===============================================>   ]===============================================>   ]===============================================>   ]===============================================>   ]===============================================>   ]===============================================>   ]===============================================>   ]===============================================>   ]===============================================>   ]===============================================>   ]===============================================>   ]===============================================>   ]===============================================>   ]===============================================>   ]===============================================>   ]===============================================>   ]===============================================>   ]===============================================>   ]===============================================>   ]===============================================>   ]===============================================>   ]===============================================>   ]===============================================>   ]===============================================>   ]===============================================>   ]===============================================>   ]===============================================>   ]===============================================>   ]===============================================>   ]===============================================>   ]===============================================>   ]===============================================>   ]===============================================>   ]===============================================>   ]===============================================>   ]===============================================>   ]===============================================>   ]===============================================>   ]===============================================>   ]===============================================>   ]===============================================>   ]===============================================>   ]===============================================>   ]===============================================>   ]===============================================>   ]===============================================>   ]===============================================>   ]===============================================>   ]===============================================>   ]===============================================>   ]===============================================>   ]===============================================>   ]===============================================>   ]===============================================>   ]===============================================>   ]===============================================>   ]===============================================>   ]===============================================>   ]===============================================>   ]===============================================>   ]===============================================>   ]===============================================>   ]===============================================>   ]===============================================>   ]===============================================>   ]===============================================>   ]===============================================>   ]===============================================>   ]===============================================>   ]===============================================>   ]===============================================>   ]===============================================>   ]===============================================>   ]===============================================>   ]===============================================>   ]===============================================>   ]===============================================>   ]===============================================>   ]===============================================>   ]===============================================>   ]===============================================>   ]===============================================>   ]===============================================>   ]================================================>  ]================================================>  ]================================================>  ]================================================>  ]================================================>  ]================================================>  ]================================================>  ]================================================>  ]================================================>  ]================================================>  ]================================================>  ]================================================>  ]================================================>  ]================================================>  ]================================================>  ]================================================>  ]================================================>  ]================================================>  ]================================================>  ]================================================>  ]================================================>  ]================================================>  ]================================================>  ]================================================>  ]================================================>  ]================================================>  ]================================================>  ]================================================>  ]================================================>  ]================================================>  ]================================================>  ]================================================>  ]================================================>  ]================================================>  ]================================================>  ]================================================>  ]================================================>  ]================================================>  ]================================================>  ]================================================>  ]================================================>  ]================================================>  ]================================================>  ]================================================>  ]================================================>  ]================================================>  ]================================================>  ]================================================>  ]================================================>  ]================================================>  ]================================================>  ]================================================>  ]================================================>  ]================================================>  ]================================================>  ]================================================>  ]================================================>  ]================================================>  ]================================================>  ]================================================>  ]================================================>  ]================================================>  ]================================================>  ]================================================>  ]================================================>  ]================================================>  ]================================================>  ]================================================>  ]================================================>  ]================================================>  ]================================================>  ]================================================>  ]================================================>  ]================================================>  ]================================================>  ]=================================================> ]=================================================> ]=================================================> ]=================================================> ]=================================================> ]=================================================> ]=================================================> ]=================================================> ]=================================================> ]=================================================> ]=================================================> ]=================================================> ]=================================================> ]=================================================> ]=================================================> ]=================================================> ]=================================================> ]=================================================> ]=================================================> ]=================================================> ]=================================================> ]=================================================> ]=================================================> ]=================================================> ]=================================================> ]=================================================> ]=================================================> ]=================================================> ]=================================================> ]=================================================> ]=================================================> ]=================================================> ]=================================================> ]=================================================> ]=================================================> ]=================================================> ]=================================================> ]=================================================> ]=================================================> ]=================================================> ]=================================================> ]=================================================> ]=================================================> ]=================================================> ]=================================================> ]=================================================> ]=================================================> ]=================================================> ]=================================================> ]=================================================> ]=================================================> ]=================================================> ]=================================================> ]=================================================> ]=================================================> ]=================================================> ]=================================================> ]=================================================> ]=================================================> ]=================================================> ]=================================================> ]=================================================> ]=================================================> ]=================================================> ]=================================================> ]=================================================> ]=================================================> ]=================================================> ]=================================================> ]=================================================> ]=================================================> ]=================================================> ]=================================================> ]=================================================> ]=================================================> ]=================================================> ]=================================================> ]=================================================> ]=================================================> ]=================================================> ]=================================================> ]=================================================> ]=================================================> ]=================================================> ]=================================================> ]=================================================> ]=================================================> ]=================================================> ]=================================================> ]=================================================> ]=================================================> ]=================================================> ]=================================================> ]=================================================> ]\n",
      "Memuat model FastText dari cc.id.300.bin...\n"
     ]
    },
    {
     "name": "stderr",
     "output_type": "stream",
     "text": [
      "Warning : `load_model` does not return WordVectorModel or SupervisedModel any more, but a `FastText` object which is very similar.\n"
     ]
    }
   ],
   "source": [
    "# Fungsi untuk mengunduh dan memuat model FastText\n",
    "def load_fasttext_model():\n",
    "    if not os.path.exists(FASTTEXT_MODEL_PATH):\n",
    "        print(f\"Mengunduh model FastText...\")\n",
    "        fasttext.util.download_model('en', if_exists='ignore')\n",
    "        os.rename('cc.en.300.bin', FASTTEXT_MODEL_PATH)\n",
    "    \n",
    "    print(f\"Memuat model FastText dari {FASTTEXT_MODEL_PATH}...\")\n",
    "    ft_model = fasttext.load_model(FASTTEXT_MODEL_PATH)\n",
    "    return ft_model\n",
    "\n",
    "# Muat model FastText\n",
    "ft_model = load_fasttext_model()"
   ]
  },
  {
   "cell_type": "code",
   "execution_count": null,
   "id": "e62c4f85",
   "metadata": {},
   "outputs": [
    {
     "data": {
      "text/plain": [
       "128"
      ]
     },
     "execution_count": 32,
     "metadata": {},
     "output_type": "execute_result"
    }
   ],
   "source": [
    "# Mengubah ukuran model FastText untuk efisiensi\n",
    "fasttext.util.reduce_model(ft_model, 128)\n",
    "ft_model.get_dimension()"
   ]
  },
  {
   "cell_type": "code",
   "execution_count": 25,
   "id": "f865b777",
   "metadata": {},
   "outputs": [
    {
     "name": "stdout",
     "output_type": "stream",
     "text": [
      "Membangun embedding matrix berdasarkan FastText...\n",
      "Embedding matrix selesai dibuat dengan dimensi: (23639, 300)\n",
      "Kata yang ditemukan dalam FastText: 23638/23638 (100.00%)\n"
     ]
    }
   ],
   "source": [
    "# Buat matrix embedding berdasarkan vocabulary yang sudah dibangun\n",
    "def create_embedding_matrix(ft_model, word_index, embedding_dim):\n",
    "    # Inisialisasi matrix embedding dengan nilai random kecil\n",
    "    embedding_matrix = np.random.uniform(-0.25, 0.25, (len(word_index) + 1, embedding_dim))\n",
    "    \n",
    "    # Set embedding untuk padding token ke 0\n",
    "    embedding_matrix[0] = np.zeros(embedding_dim)\n",
    "    \n",
    "    # Isi matrix dengan vector FastText untuk setiap kata dalam vocabulary\n",
    "    print(\"Membangun embedding matrix berdasarkan FastText...\")\n",
    "    found_words = 0\n",
    "    for word, i in word_index.items():\n",
    "        try:\n",
    "            embedding_vector = ft_model.get_word_vector(word.lower())  # Lowercase for better matching\n",
    "            embedding_matrix[i] = embedding_vector\n",
    "            found_words += 1\n",
    "        except:\n",
    "            # Jika kata tidak ditemukan, gunakan vector random yang sudah diinisialisasi\n",
    "            pass\n",
    "    \n",
    "    print(f\"Embedding matrix selesai dibuat dengan dimensi: {embedding_matrix.shape}\")\n",
    "    print(f\"Kata yang ditemukan dalam FastText: {found_words}/{len(word_index)} ({found_words/len(word_index)*100:.2f}%)\")\n",
    "    return embedding_matrix\n",
    "\n",
    "# Buat embedding matrix\n",
    "embedding_matrix = create_embedding_matrix(ft_model, tokenizer.word_index, EMBEDDING_DIM)"
   ]
  },
  {
   "cell_type": "markdown",
   "id": "9c02928b",
   "metadata": {},
   "source": [
    "## Fase 6: Definisi & Pelatihan Model"
   ]
  },
  {
   "cell_type": "markdown",
   "id": "56e0feb8",
   "metadata": {},
   "source": [
    "### Persiapan Sebelum Training"
   ]
  },
  {
   "cell_type": "code",
   "execution_count": 26,
   "id": "47d25f79",
   "metadata": {},
   "outputs": [
    {
     "name": "stdout",
     "output_type": "stream",
     "text": [
      "\n",
      "Tahap 7: Definisi & Pelatihan Model\n"
     ]
    }
   ],
   "source": [
    "print(\"\\nTahap 7: Definisi & Pelatihan Model\")\n",
    "\n",
    "NUM_CLASSES = len(label_mapping)\n",
    "history = {} # Dictionary untuk menyimpan riwayat pelatihan"
   ]
  },
  {
   "cell_type": "code",
   "execution_count": 27,
   "id": "735eee25",
   "metadata": {},
   "outputs": [],
   "source": [
    "# --- Helper Function untuk Plotting Hasil Training Deep Learning ---\n",
    "def plot_history(hist, title):\n",
    "    plt.figure(figsize=(12, 4))\n",
    "\n",
    "    # Plot Akurasi\n",
    "    plt.subplot(1, 2, 1)\n",
    "    plt.plot(hist['epoch'], hist['train_accuracy'], label='Train Accuracy')\n",
    "    plt.plot(hist['epoch'], hist['val_accuracy'], label='Validation Accuracy')\n",
    "    plt.title(f'{title} - Accuracy')\n",
    "    plt.xlabel('Epoch')\n",
    "    plt.ylabel('Accuracy')\n",
    "    plt.legend()\n",
    "    plt.grid(True)\n",
    "\n",
    "    # Plot Loss\n",
    "    plt.subplot(1, 2, 2)\n",
    "    plt.plot(hist['epoch'], hist['train_loss'], label='Train Loss')\n",
    "    plt.plot(hist['epoch'], hist['val_loss'], label='Validation Loss')\n",
    "    plt.title(f'{title} - Loss')\n",
    "    plt.xlabel('Epoch')\n",
    "    plt.ylabel('Loss')\n",
    "    plt.legend()\n",
    "    plt.grid(True)\n",
    "\n",
    "    plt.tight_layout()\n",
    "    plt.show()\n",
    "\n",
    "# --- Helper Function untuk Training Loop PyTorch ---\n",
    "def train_pytorch_model(model, train_loader, val_loader, criterion, optimizer, num_epochs, model_name):\n",
    "    print(f\"\\nMemulai pelatihan model: {model_name}\")\n",
    "    model.to(DEVICE) # Pindahkan model ke device (CPU/GPU/DirectML)\n",
    "    best_val_accuracy = 0.0\n",
    "    train_losses, val_losses = [], []\n",
    "    train_accuracies, val_accuracies = [], []\n",
    "    epochs_list = []\n",
    "\n",
    "    for epoch in range(num_epochs):\n",
    "        model.train() # Set model ke mode training\n",
    "        running_loss = 0.0\n",
    "        correct_train = 0\n",
    "        total_train = 0\n",
    "\n",
    "        start_epoch_time = time.time()\n",
    "        for i, (inputs, labels) in enumerate(train_loader):\n",
    "            inputs, labels = inputs.to(DEVICE), labels.to(DEVICE)\n",
    "\n",
    "            optimizer.zero_grad() # Reset gradients\n",
    "            outputs = model(inputs) # Forward pass\n",
    "            loss = criterion(outputs, labels) # Hitung loss\n",
    "            loss.backward() # Backward pass\n",
    "            optimizer.step() # Update weights\n",
    "\n",
    "            running_loss += loss.item() * inputs.size(0)\n",
    "            _, predicted = torch.max(outputs.data, 1)\n",
    "            total_train += labels.size(0)\n",
    "            correct_train += (predicted == labels).sum().item()\n",
    "\n",
    "            # Cetak progres mini-batch (opsional)\n",
    "            # if (i+1) % 100 == 0:\n",
    "            #     print(f'Epoch [{epoch+1}/{num_epochs}], Step [{i+1}/{len(train_loader)}], Loss: {loss.item():.4f}')\n",
    "\n",
    "        epoch_loss = running_loss / len(train_loader.dataset)\n",
    "        epoch_acc = correct_train / total_train\n",
    "        train_losses.append(epoch_loss)\n",
    "        train_accuracies.append(epoch_acc)\n",
    "\n",
    "        # Validasi setelah setiap epoch\n",
    "        model.eval() # Set model ke mode evaluasi\n",
    "        val_loss = 0.0\n",
    "        correct_val = 0\n",
    "        total_val = 0\n",
    "        with torch.no_grad(): # Tidak perlu hitung gradient saat validasi\n",
    "            for inputs, labels in val_loader:\n",
    "                inputs, labels = inputs.to(DEVICE), labels.to(DEVICE)\n",
    "                outputs = model(inputs)\n",
    "                loss = criterion(outputs, labels)\n",
    "                val_loss += loss.item() * inputs.size(0)\n",
    "                _, predicted = torch.max(outputs.data, 1)\n",
    "                total_val += labels.size(0)\n",
    "                correct_val += (predicted == labels).sum().item()\n",
    "\n",
    "        epoch_val_loss = val_loss / len(val_loader.dataset)\n",
    "        epoch_val_acc = correct_val / total_val\n",
    "        val_losses.append(epoch_val_loss)\n",
    "        val_accuracies.append(epoch_val_acc)\n",
    "        epochs_list.append(epoch + 1)\n",
    "\n",
    "        end_epoch_time = time.time()\n",
    "        print(f\"Epoch [{epoch+1}/{num_epochs}] - Time: {end_epoch_time - start_epoch_time:.2f}s - \"\n",
    "              f\"Train Loss: {epoch_loss:.4f}, Train Acc: {epoch_acc:.4f} - \"\n",
    "              f\"Val Loss: {epoch_val_loss:.4f}, Val Acc: {epoch_val_acc:.4f}\")\n",
    "\n",
    "        # Simpan model jika akurasi validasi membaik\n",
    "        if epoch_val_acc > best_val_accuracy:\n",
    "            best_val_accuracy = epoch_val_acc\n",
    "            # torch.save(model.state_dict(), f'{model_name}_best.pth')\n",
    "            # print(f\"Model terbaik disimpan dengan Val Acc: {best_val_accuracy:.4f}\")\n",
    "\n",
    "    print(f\"Pelatihan {model_name} selesai.\")\n",
    "    return {\n",
    "        'epoch': epochs_list,\n",
    "        'train_loss': train_losses, 'train_accuracy': train_accuracies,\n",
    "        'val_loss': val_losses, 'val_accuracy': val_accuracies,\n",
    "        'model': model # Kembalikan model yang sudah terlatih\n",
    "    }"
   ]
  },
  {
   "cell_type": "code",
   "execution_count": null,
   "id": "03ce930d",
   "metadata": {},
   "outputs": [],
   "source": [
    "# --- PyTorch Dataset Class ---\n",
    "class SentimentDataset(Dataset):\n",
    "    def __init__(self, sequences, labels):\n",
    "        self.sequences = torch.tensor(sequences, dtype=torch.long)\n",
    "        self.labels = torch.tensor(labels, dtype=torch.long)\n",
    "\n",
    "    def __len__(self):\n",
    "        return len(self.labels)\n",
    "\n",
    "    def __getitem__(self, idx):\n",
    "        return self.sequences[idx], self.labels[idx]\n",
    "\n",
    "# --- Buat DataLoaders untuk PyTorch ---\n",
    "BATCH_SIZE = 128\n",
    "\n",
    "train_dataset = SentimentDataset(X_train_pad, y_train)\n",
    "val_dataset = SentimentDataset(X_val_pad, y_val)\n",
    "test_dataset = SentimentDataset(X_test_pad, y_test)\n",
    "\n",
    "train_loader = DataLoader(train_dataset, batch_size=BATCH_SIZE, shuffle=True)\n",
    "val_loader = DataLoader(val_dataset, batch_size=BATCH_SIZE, shuffle=False)\n",
    "test_loader = DataLoader(test_dataset, batch_size=BATCH_SIZE, shuffle=False)"
   ]
  },
  {
   "cell_type": "code",
   "execution_count": 29,
   "id": "ebe0fbb3",
   "metadata": {},
   "outputs": [],
   "source": [
    "# --- Persiapan untuk Model Scikit-learn ---\n",
    "# Konversi sparse matrix TF-IDF ke format yang diterima XGBoost/LGBM jika perlu\n",
    "X_train_tfidf_dense = X_train_tfidf.toarray()\n",
    "X_val_tfidf_dense = X_val_tfidf.toarray()\n",
    "X_test_tfidf_dense = X_test_tfidf.toarray()"
   ]
  },
  {
   "cell_type": "markdown",
   "id": "a8a5c33e",
   "metadata": {},
   "source": [
    "### Model 1: Artificial Neural Network (ANN)"
   ]
  },
  {
   "cell_type": "code",
   "execution_count": 37,
   "id": "c73c0308",
   "metadata": {},
   "outputs": [
    {
     "name": "stdout",
     "output_type": "stream",
     "text": [
      "\n",
      "--- Eksperimen 1: ANN dengan FastText Embeddings ---\n",
      "\n",
      "Memulai pelatihan model: FastText-ANN\n",
      "Epoch [1/10] - Time: 3.98s - Train Loss: 1.2681, Train Acc: 0.3386 - Val Loss: 1.2002, Val Acc: 0.3426\n",
      "Epoch [2/10] - Time: 3.85s - Train Loss: 1.2623, Train Acc: 0.3428 - Val Loss: 1.2002, Val Acc: 0.3426\n",
      "Epoch [3/10] - Time: 4.08s - Train Loss: 1.2635, Train Acc: 0.3382 - Val Loss: 1.2002, Val Acc: 0.3426\n"
     ]
    },
    {
     "ename": "KeyboardInterrupt",
     "evalue": "",
     "output_type": "error",
     "traceback": [
      "\u001b[1;31m---------------------------------------------------------------------------\u001b[0m",
      "\u001b[1;31mKeyboardInterrupt\u001b[0m                         Traceback (most recent call last)",
      "Cell \u001b[1;32mIn[37], line 48\u001b[0m\n\u001b[0;32m     45\u001b[0m optimizer_ann \u001b[38;5;241m=\u001b[39m optim\u001b[38;5;241m.\u001b[39mAdamW(model_fasttext_ann\u001b[38;5;241m.\u001b[39mparameters(), lr\u001b[38;5;241m=\u001b[39mLEARNING_RATE_ANN, weight_decay\u001b[38;5;241m=\u001b[39m\u001b[38;5;241m1e-5\u001b[39m)\n\u001b[0;32m     46\u001b[0m criterion_ann \u001b[38;5;241m=\u001b[39m nn\u001b[38;5;241m.\u001b[39mCrossEntropyLoss()\n\u001b[1;32m---> 48\u001b[0m history[\u001b[38;5;124m'\u001b[39m\u001b[38;5;124mfasttext_ann\u001b[39m\u001b[38;5;124m'\u001b[39m] \u001b[38;5;241m=\u001b[39m \u001b[43mtrain_pytorch_model\u001b[49m\u001b[43m(\u001b[49m\u001b[43mmodel_fasttext_ann\u001b[49m\u001b[43m,\u001b[49m\u001b[43m \u001b[49m\u001b[43mtrain_loader\u001b[49m\u001b[43m,\u001b[49m\u001b[43m \u001b[49m\u001b[43mval_loader\u001b[49m\u001b[43m,\u001b[49m\u001b[43m \u001b[49m\u001b[43mcriterion_ann\u001b[49m\u001b[43m,\u001b[49m\u001b[43m \u001b[49m\u001b[43moptimizer_ann\u001b[49m\u001b[43m,\u001b[49m\u001b[43m \u001b[49m\u001b[43mEPOCHS_ANN\u001b[49m\u001b[43m,\u001b[49m\u001b[43m \u001b[49m\u001b[38;5;124;43m\"\u001b[39;49m\u001b[38;5;124;43mFastText-ANN\u001b[39;49m\u001b[38;5;124;43m\"\u001b[39;49m\u001b[43m)\u001b[49m\n\u001b[0;32m     49\u001b[0m plot_history(history[\u001b[38;5;124m'\u001b[39m\u001b[38;5;124mfasttext_ann\u001b[39m\u001b[38;5;124m'\u001b[39m], \u001b[38;5;124m\"\u001b[39m\u001b[38;5;124mFastText ANN Training History\u001b[39m\u001b[38;5;124m\"\u001b[39m)\n",
      "Cell \u001b[1;32mIn[27], line 54\u001b[0m, in \u001b[0;36mtrain_pytorch_model\u001b[1;34m(model, train_loader, val_loader, criterion, optimizer, num_epochs, model_name)\u001b[0m\n\u001b[0;32m     51\u001b[0m optimizer\u001b[38;5;241m.\u001b[39mstep() \u001b[38;5;66;03m# Update weights\u001b[39;00m\n\u001b[0;32m     53\u001b[0m running_loss \u001b[38;5;241m+\u001b[39m\u001b[38;5;241m=\u001b[39m loss\u001b[38;5;241m.\u001b[39mitem() \u001b[38;5;241m*\u001b[39m inputs\u001b[38;5;241m.\u001b[39msize(\u001b[38;5;241m0\u001b[39m)\n\u001b[1;32m---> 54\u001b[0m _, predicted \u001b[38;5;241m=\u001b[39m \u001b[43mtorch\u001b[49m\u001b[38;5;241;43m.\u001b[39;49m\u001b[43mmax\u001b[49m\u001b[43m(\u001b[49m\u001b[43moutputs\u001b[49m\u001b[38;5;241;43m.\u001b[39;49m\u001b[43mdata\u001b[49m\u001b[43m,\u001b[49m\u001b[43m \u001b[49m\u001b[38;5;241;43m1\u001b[39;49m\u001b[43m)\u001b[49m\n\u001b[0;32m     55\u001b[0m total_train \u001b[38;5;241m+\u001b[39m\u001b[38;5;241m=\u001b[39m labels\u001b[38;5;241m.\u001b[39msize(\u001b[38;5;241m0\u001b[39m)\n\u001b[0;32m     56\u001b[0m correct_train \u001b[38;5;241m+\u001b[39m\u001b[38;5;241m=\u001b[39m (predicted \u001b[38;5;241m==\u001b[39m labels)\u001b[38;5;241m.\u001b[39msum()\u001b[38;5;241m.\u001b[39mitem()\n",
      "\u001b[1;31mKeyboardInterrupt\u001b[0m: "
     ]
    }
   ],
   "source": [
    "# --- Eksperimen 1: Artificial Neural Network (ANN) - PyTorch ---\n",
    "print(\"\\n--- Eksperimen 1: ANN dengan FastText Embeddings ---\")\n",
    "\n",
    "# Parameter ANN\n",
    "EMBEDDING_DIM_ANN = 128\n",
    "HIDDEN_DIM_ANN = 256\n",
    "DROPOUT_ANN = 0.4\n",
    "LEARNING_RATE_ANN = 1e-3\n",
    "EPOCHS_ANN = 10\n",
    "\n",
    "class FastTextANN(nn.Module):\n",
    "    def __init__(self, vocab_size, embedding_dim, embedding_matrix, hidden_dim, output_dim, dropout):\n",
    "        super().__init__()\n",
    "        \n",
    "        # Inisialisasi embedding layer dengan bobot FastText\n",
    "        self.embedding = nn.Embedding(vocab_size, embedding_dim)\n",
    "        # Set embedding weights dengan nilai FastText dan freeze (tidak diupdate saat training)\n",
    "        self.embedding.weight = nn.Parameter(torch.tensor(embedding_matrix, dtype=torch.float))\n",
    "        self.embedding.weight.requires_grad = False  # Freeze embeddings\n",
    "        \n",
    "        self.fc1 = nn.Linear(embedding_dim, hidden_dim)\n",
    "        self.leaky_relu = nn.LeakyReLU()\n",
    "        self.dropout = nn.Dropout(dropout)\n",
    "        self.fc2 = nn.Linear(hidden_dim, output_dim)\n",
    "        # Tambahan: layer normalization untuk stabilitas\n",
    "        self.layer_norm = nn.LayerNorm(hidden_dim)\n",
    "\n",
    "    def forward(self, text):\n",
    "        # text shape: (batch_size, seq_len)\n",
    "        embedded = self.embedding(text)\n",
    "        # embedded shape: (batch_size, seq_len, embedding_dim)\n",
    "        \n",
    "        # Rata-ratakan embedding sepanjang sequence length\n",
    "        pooled = embedded.mean(dim=1)\n",
    "        # pooled shape: (batch_size, embedding_dim)\n",
    "        \n",
    "        hidden = self.leaky_relu(self.fc1(pooled))\n",
    "        hidden = self.layer_norm(hidden)\n",
    "        hidden_drop = self.dropout(hidden)\n",
    "        output = self.fc2(hidden_drop)\n",
    "        # output shape: (batch_size, output_dim)\n",
    "        return output\n",
    "\n",
    "model_fasttext_ann = FastTextANN(vocab_size, EMBEDDING_DIM, embedding_matrix, HIDDEN_DIM_ANN, NUM_CLASSES, DROPOUT_ANN)\n",
    "optimizer_ann = optim.AdamW(model_fasttext_ann.parameters(), lr=LEARNING_RATE_ANN, weight_decay=1e-5)\n",
    "criterion_ann = nn.CrossEntropyLoss()\n",
    "\n",
    "history['fasttext_ann'] = train_pytorch_model(model_fasttext_ann, train_loader, val_loader, criterion_ann, optimizer_ann, EPOCHS_ANN, \"FastText-ANN\")\n",
    "plot_history(history['fasttext_ann'], \"FastText ANN Training History\")"
   ]
  },
  {
   "cell_type": "markdown",
   "id": "712af0c1",
   "metadata": {},
   "source": [
    "### Model 2: Convolutional Neural Network (CNN)"
   ]
  },
  {
   "cell_type": "code",
   "execution_count": null,
   "id": "659595e1",
   "metadata": {},
   "outputs": [
    {
     "name": "stdout",
     "output_type": "stream",
     "text": [
      "\n",
      "--- Eksperimen 2: CNN dengan FastText Embeddings ---\n",
      "\n",
      "Memulai pelatihan model: FastText-CNN\n",
      "Epoch [1/15] - Time: 58.53s - Train Loss: 3.7532, Train Acc: 0.3283 - Val Loss: 2.6515, Val Acc: 0.3400\n",
      "Epoch [2/15] - Time: 57.10s - Train Loss: 3.7369, Train Acc: 0.3266 - Val Loss: 2.6956, Val Acc: 0.3407\n"
     ]
    },
    {
     "ename": "KeyboardInterrupt",
     "evalue": "",
     "output_type": "error",
     "traceback": [
      "\u001b[1;31m---------------------------------------------------------------------------\u001b[0m",
      "\u001b[1;31mKeyboardInterrupt\u001b[0m                         Traceback (most recent call last)",
      "Cell \u001b[1;32mIn[31], line 67\u001b[0m\n\u001b[0;32m     64\u001b[0m optimizer_cnn \u001b[38;5;241m=\u001b[39m optim\u001b[38;5;241m.\u001b[39mAdamW(model_fasttext_cnn\u001b[38;5;241m.\u001b[39mparameters(), lr\u001b[38;5;241m=\u001b[39mLEARNING_RATE_CNN, weight_decay\u001b[38;5;241m=\u001b[39m\u001b[38;5;241m1e-5\u001b[39m)\n\u001b[0;32m     65\u001b[0m criterion_cnn \u001b[38;5;241m=\u001b[39m nn\u001b[38;5;241m.\u001b[39mCrossEntropyLoss()\n\u001b[1;32m---> 67\u001b[0m history[\u001b[38;5;124m'\u001b[39m\u001b[38;5;124mfasttext_cnn\u001b[39m\u001b[38;5;124m'\u001b[39m] \u001b[38;5;241m=\u001b[39m \u001b[43mtrain_pytorch_model\u001b[49m\u001b[43m(\u001b[49m\u001b[43mmodel_fasttext_cnn\u001b[49m\u001b[43m,\u001b[49m\u001b[43m \u001b[49m\u001b[43mtrain_loader\u001b[49m\u001b[43m,\u001b[49m\u001b[43m \u001b[49m\u001b[43mval_loader\u001b[49m\u001b[43m,\u001b[49m\u001b[43m \u001b[49m\u001b[43mcriterion_cnn\u001b[49m\u001b[43m,\u001b[49m\u001b[43m \u001b[49m\u001b[43moptimizer_cnn\u001b[49m\u001b[43m,\u001b[49m\u001b[43m \u001b[49m\u001b[43mEPOCHS_CNN\u001b[49m\u001b[43m,\u001b[49m\u001b[43m \u001b[49m\u001b[38;5;124;43m\"\u001b[39;49m\u001b[38;5;124;43mFastText-CNN\u001b[39;49m\u001b[38;5;124;43m\"\u001b[39;49m\u001b[43m)\u001b[49m\n\u001b[0;32m     68\u001b[0m plot_history(history[\u001b[38;5;124m'\u001b[39m\u001b[38;5;124mfasttext_cnn\u001b[39m\u001b[38;5;124m'\u001b[39m], \u001b[38;5;124m\"\u001b[39m\u001b[38;5;124mFastText CNN Training History\u001b[39m\u001b[38;5;124m\"\u001b[39m)\n",
      "Cell \u001b[1;32mIn[27], line 45\u001b[0m, in \u001b[0;36mtrain_pytorch_model\u001b[1;34m(model, train_loader, val_loader, criterion, optimizer, num_epochs, model_name)\u001b[0m\n\u001b[0;32m     43\u001b[0m start_epoch_time \u001b[38;5;241m=\u001b[39m time\u001b[38;5;241m.\u001b[39mtime()\n\u001b[0;32m     44\u001b[0m \u001b[38;5;28;01mfor\u001b[39;00m i, (inputs, labels) \u001b[38;5;129;01min\u001b[39;00m \u001b[38;5;28menumerate\u001b[39m(train_loader):\n\u001b[1;32m---> 45\u001b[0m     inputs, labels \u001b[38;5;241m=\u001b[39m \u001b[43minputs\u001b[49m\u001b[38;5;241;43m.\u001b[39;49m\u001b[43mto\u001b[49m\u001b[43m(\u001b[49m\u001b[43mDEVICE\u001b[49m\u001b[43m)\u001b[49m, labels\u001b[38;5;241m.\u001b[39mto(DEVICE)\n\u001b[0;32m     47\u001b[0m     optimizer\u001b[38;5;241m.\u001b[39mzero_grad() \u001b[38;5;66;03m# Reset gradients\u001b[39;00m\n\u001b[0;32m     48\u001b[0m     outputs \u001b[38;5;241m=\u001b[39m model(inputs) \u001b[38;5;66;03m# Forward pass\u001b[39;00m\n",
      "\u001b[1;31mKeyboardInterrupt\u001b[0m: "
     ]
    }
   ],
   "source": [
    "# --- Eksperimen 2: Convolutional Neural Network (CNN) - PyTorch ---\n",
    "print(\"\\n--- Eksperimen 2: CNN dengan FastText Embeddings ---\")\n",
    "\n",
    "# Parameter CNN\n",
    "EMBEDDING_DIM_CNN = 128\n",
    "NUM_FILTERS = 256\n",
    "FILTER_SIZES = [2, 3, 4, 5]\n",
    "DROPOUT_CNN = 0.4\n",
    "LEARNING_RATE_CNN = 1e-4\n",
    "EPOCHS_CNN = 15\n",
    "\n",
    "class FastTextCNN(nn.Module):\n",
    "    def __init__(self, vocab_size, embedding_dim, embedding_matrix, n_filters, filter_sizes, output_dim, dropout, pad_idx=0):\n",
    "        super().__init__()\n",
    "        \n",
    "        # Inisialisasi embedding layer dengan bobot FastText\n",
    "        self.embedding = nn.Embedding(vocab_size, embedding_dim, padding_idx=pad_idx)\n",
    "        self.embedding.weight = nn.Parameter(torch.tensor(embedding_matrix, dtype=torch.float))\n",
    "        self.embedding.weight.requires_grad = False  # Freeze embeddings\n",
    "        \n",
    "        # Buat layer Conv1d untuk setiap ukuran filter\n",
    "        self.convs = nn.ModuleList([\n",
    "            nn.Conv1d(in_channels=embedding_dim,\n",
    "                     out_channels=n_filters,\n",
    "                     kernel_size=fs)\n",
    "            for fs in filter_sizes\n",
    "        ])\n",
    "        \n",
    "        # Tambahan: Batch Normalization setelah konvolusi\n",
    "        self.batch_norms = nn.ModuleList([\n",
    "            nn.BatchNorm1d(n_filters)\n",
    "            for _ in filter_sizes\n",
    "        ])\n",
    "        \n",
    "        self.fc = nn.Linear(len(filter_sizes) * n_filters, output_dim)\n",
    "        self.dropout = nn.Dropout(dropout)\n",
    "        self.leaky_relu = nn.LeakyReLU(0.1)\n",
    "\n",
    "    def forward(self, text):\n",
    "        # text shape: (batch_size, seq_len)\n",
    "        embedded = self.dropout(self.embedding(text))\n",
    "        # embedded shape: (batch_size, seq_len, embedding_dim)\n",
    "\n",
    "        # Conv1d mengharapkan input (batch_size, channels, seq_len)\n",
    "        embedded = embedded.permute(0, 2, 1)\n",
    "        # embedded shape: (batch_size, embedding_dim, seq_len)\n",
    "\n",
    "        # Terapkan konvolusi, batch norm, dan pooling\n",
    "        conved = [self.leaky_relu(bn(conv(embedded))) \n",
    "                 for conv, bn in zip(self.convs, self.batch_norms)]\n",
    "        \n",
    "        # Max pooling over time\n",
    "        pooled = [torch.max_pool1d(conv, conv.shape[2]).squeeze(2) for conv in conved]\n",
    "        \n",
    "        # Gabungkan hasil pooling dari semua filter\n",
    "        cat = self.dropout(torch.cat(pooled, dim=1))\n",
    "        \n",
    "        output = self.fc(cat)\n",
    "        return output\n",
    "\n",
    "# Tentukan pad_idx jika Tokenizer Keras menggunakan 0 untuk padding\n",
    "pad_token_index = 0\n",
    "model_fasttext_cnn = FastTextCNN(vocab_size, EMBEDDING_DIM, embedding_matrix, NUM_FILTERS, FILTER_SIZES, NUM_CLASSES, DROPOUT_CNN, pad_idx=pad_token_index)\n",
    "optimizer_cnn = optim.AdamW(model_fasttext_cnn.parameters(), lr=LEARNING_RATE_CNN, weight_decay=1e-5)\n",
    "criterion_cnn = nn.CrossEntropyLoss()\n",
    "\n",
    "history['fasttext_cnn'] = train_pytorch_model(model_fasttext_cnn, train_loader, val_loader, criterion_cnn, optimizer_cnn, EPOCHS_CNN, \"FastText-CNN\")\n",
    "plot_history(history['fasttext_cnn'], \"FastText CNN Training History\")"
   ]
  },
  {
   "cell_type": "markdown",
   "id": "672f759b",
   "metadata": {},
   "source": [
    "### Model 3: Random Forest (RF)"
   ]
  },
  {
   "cell_type": "code",
   "execution_count": 33,
   "id": "29c72b3a",
   "metadata": {},
   "outputs": [
    {
     "name": "stdout",
     "output_type": "stream",
     "text": [
      "\n",
      "--- Eksperimen 3: Random Forest (RF) ---\n",
      "Melatih Random Forest...\n",
      "Pelatihan RF selesai. Waktu: 14.33 detik.\n",
      "Akurasi RF - Train: 0.9048, Validation: 0.8309\n"
     ]
    }
   ],
   "source": [
    "# --- Eksperimen 3: Random Forest (RF) ---\n",
    "print(\"\\n--- Eksperimen 3: Random Forest (RF) ---\")\n",
    "model_rf = RandomForestClassifier(\n",
    "    n_estimators=200,\n",
    "    max_depth=None,   \n",
    "    min_samples_split=5, \n",
    "    min_samples_leaf=2,   \n",
    "    random_state=42,\n",
    "    n_jobs=-1             \n",
    ")\n",
    "\n",
    "print(\"Melatih Random Forest...\")\n",
    "start_time_rf = time.time()\n",
    "model_rf.fit(X_train_tfidf, y_train)\n",
    "end_time_rf = time.time()\n",
    "print(f\"Pelatihan RF selesai. Waktu: {end_time_rf - start_time_rf:.2f} detik.\")\n",
    "\n",
    "# Evaluasi cepat di data latih & validasi (untuk perbandingan kasar)\n",
    "acc_train_rf = model_rf.score(X_train_tfidf, y_train)\n",
    "acc_val_rf = model_rf.score(X_val_tfidf, y_val)\n",
    "print(f\"Akurasi RF - Train: {acc_train_rf:.4f}, Validation: {acc_val_rf:.4f}\")\n",
    "history['rf'] = {'model': model_rf, 'train_accuracy': acc_train_rf, 'val_accuracy': acc_val_rf}"
   ]
  },
  {
   "cell_type": "markdown",
   "id": "557424ca",
   "metadata": {},
   "source": [
    "### Model 4: XGBoost"
   ]
  },
  {
   "cell_type": "code",
   "execution_count": null,
   "id": "e5b866dd",
   "metadata": {},
   "outputs": [
    {
     "name": "stdout",
     "output_type": "stream",
     "text": [
      "\n",
      "--- Eksperimen 4: XGBoost (Native API) ---\n",
      "Melatih XGBoost (Native API)...\n",
      "Pelatihan XGBoost (Native API) selesai. Waktu: 51.39 detik.\n",
      "Akurasi XGBoost (Native API) - Train: 0.8776, Validation: 0.8386\n"
     ]
    }
   ],
   "source": [
    "# --- Eksperimen 4: XGBoost ---\n",
    "print(\"\\n--- Eksperimen 4: XGBoost ---\")\n",
    "\n",
    "# Parameter XGBoost\n",
    "params = {\n",
    "    'objective': 'multi:softmax',\n",
    "    'num_class': NUM_CLASSES,\n",
    "    'max_depth': 7,\n",
    "    'eta': 0.1,  # learning rate\n",
    "    'subsample': 0.8,\n",
    "    'colsample_bytree': 0.8,\n",
    "    'tree_method': 'hist',\n",
    "    'eval_metric': 'mlogloss',\n",
    "    'random_state': 42\n",
    "}\n",
    "\n",
    "print(\"Melatih XGBoost...\")\n",
    "start_time_xgb = time.time()\n",
    "\n",
    "# Konversi data ke format DMatrix XGBoost\n",
    "dtrain = xgb.DMatrix(X_train_tfidf, label=y_train)\n",
    "dval = xgb.DMatrix(X_val_tfidf, label=y_val)\n",
    "\n",
    "# Train dengan early stopping\n",
    "model_xgb = xgb.train(\n",
    "    params,\n",
    "    dtrain,\n",
    "    num_boost_round=300,\n",
    "    evals=[(dtrain, 'train'), (dval, 'validation')],\n",
    "    early_stopping_rounds=20,\n",
    "    verbose_eval=False  # Set True untuk lihat progres per iterasi\n",
    ")\n",
    "\n",
    "end_time_xgb = time.time()\n",
    "print(f\"Pelatihan XGBoost selesai. Waktu: {end_time_xgb - start_time_xgb:.2f} detik.\")\n",
    "\n",
    "# Evaluasi cepat\n",
    "preds_train = model_xgb.predict(dtrain)\n",
    "preds_val = model_xgb.predict(dval)\n",
    "acc_train_xgb = (preds_train == y_train).mean()\n",
    "acc_val_xgb = (preds_val == y_val).mean()\n",
    "print(f\"Akurasi XGBoost - Train: {acc_train_xgb:.4f}, Validation: {acc_val_xgb:.4f}\")\n",
    "history['xgb'] = {'model': model_xgb, 'train_accuracy': acc_train_xgb, 'val_accuracy': acc_val_xgb}"
   ]
  },
  {
   "cell_type": "markdown",
   "id": "ee0b16bd",
   "metadata": {},
   "source": [
    "### Model 5: LightGBM"
   ]
  },
  {
   "cell_type": "code",
   "execution_count": null,
   "id": "d46c4b71",
   "metadata": {},
   "outputs": [
    {
     "name": "stdout",
     "output_type": "stream",
     "text": [
      "\n",
      "--- Eksperimen 5: LightGBM ---\n",
      "Melatih LightGBM...\n",
      "[LightGBM] [Info] Auto-choosing row-wise multi-threading, the overhead of testing was 0.145992 seconds.\n",
      "You can set `force_row_wise=true` to remove the overhead.\n",
      "And if memory is not enough, you can set `force_col_wise=true`.\n",
      "[LightGBM] [Info] Total Bins 84737\n",
      "[LightGBM] [Info] Number of data points in the train set: 61339, number of used features: 563\n",
      "[LightGBM] [Info] Start training from score -1.136457\n",
      "[LightGBM] [Info] Start training from score -1.088604\n",
      "[LightGBM] [Info] Start training from score -1.071893\n",
      "Pelatihan LightGBM selesai. Waktu: 10.34 detik.\n",
      "Akurasi LightGBM - Train: 0.8831, Validation: 0.8460\n"
     ]
    }
   ],
   "source": [
    "# --- Eksperimen 5: LightGBM ---\n",
    "print(\"\\n--- Eksperimen 5: LightGBM ---\")\n",
    "model_lgbm = lgbm.LGBMClassifier(\n",
    "    objective='multiclass',\n",
    "    num_class=NUM_CLASSES,\n",
    "    n_estimators=300,\n",
    "    learning_rate=0.1,\n",
    "    num_leaves=31, # Kontrol kompleksitas pohon (default)\n",
    "    max_depth=-1,  # Default (-1 = tanpa batas)\n",
    "    subsample=0.8,\n",
    "    colsample_bytree=0.8,\n",
    "    random_state=42,\n",
    "    n_jobs=-1,\n",
    "    # Untuk GPU (jika terinstal versi GPU LightGBM & ada driver):\n",
    "    # device = 'gpu',\n",
    "    # gpu_platform_id = 0, # Sesuaikan jika perlu\n",
    "    # gpu_device_id = 0    # Sesuaikan jika perlu\n",
    ")\n",
    "\n",
    "print(\"Melatih LightGBM...\")\n",
    "start_time_lgbm = time.time()\n",
    "# Gunakan data validasi untuk early stopping\n",
    "eval_set_lgbm = [(X_val_tfidf, y_val)]\n",
    "callbacks = [\n",
    "    # Perhatikan nama parameter early stopping berbeda di LightGBM\n",
    "    # Gunakan lgbm.early_stopping jika mengimport lightgbm langsung\n",
    "    # Di scikit-learn API, gunakan parameter fit\n",
    "    # early_stopping_rounds=20 # Tidak langsung di constructor, tapi di fit\n",
    "]\n",
    "\n",
    "model_lgbm.fit(X_train_tfidf, y_train,\n",
    "               eval_set=eval_set_lgbm,\n",
    "               eval_metric='multi_logloss',\n",
    "               # Callback untuk early stopping dalam API scikit-learn\n",
    "               callbacks=[lgbm.early_stopping(stopping_rounds=20, verbose=False)]\n",
    "              )\n",
    "end_time_lgbm = time.time()\n",
    "print(f\"Pelatihan LightGBM selesai. Waktu: {end_time_lgbm - start_time_lgbm:.2f} detik.\")\n",
    "\n",
    "# Evaluasi cepat\n",
    "acc_train_lgbm = model_lgbm.score(X_train_tfidf, y_train)\n",
    "acc_val_lgbm = model_lgbm.score(X_val_tfidf, y_val)\n",
    "print(f\"Akurasi LightGBM - Train: {acc_train_lgbm:.4f}, Validation: {acc_val_lgbm:.4f}\")\n",
    "history['lgbm'] = {'model': model_lgbm, 'train_accuracy': acc_train_lgbm, 'val_accuracy': acc_val_lgbm}"
   ]
  }
 ],
 "metadata": {
  "kernelspec": {
   "display_name": "torch-nlp",
   "language": "python",
   "name": "python3"
  },
  "language_info": {
   "codemirror_mode": {
    "name": "ipython",
    "version": 3
   },
   "file_extension": ".py",
   "mimetype": "text/x-python",
   "name": "python",
   "nbconvert_exporter": "python",
   "pygments_lexer": "ipython3",
   "version": "3.9.19"
  }
 },
 "nbformat": 4,
 "nbformat_minor": 5
}
